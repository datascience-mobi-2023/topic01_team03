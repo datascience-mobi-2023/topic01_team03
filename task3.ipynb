{
 "cells": [
  {
   "cell_type": "markdown",
   "metadata": {},
   "source": [
    "# Task 3 – Mean, median, and Gaussian filtering"
   ]
  },
  {
   "cell_type": "code",
   "execution_count": null,
   "metadata": {},
   "outputs": [],
   "source": [
    "%pylab\n",
    "%matplotlib inline\n",
    "import numpy as np\n",
    "import scipy.ndimage"
   ]
  },
  {
   "cell_type": "code",
   "execution_count": null,
   "metadata": {},
   "outputs": [],
   "source": [
    "#datensatz 1 Bild 1 Darstellung\n",
    "img = imread('BioInfo_Projekt/t01.png')\n",
    "figure(figsize(15,8))\n",
    "imshow( img,'gray' )\n",
    "colorbar()"
   ]
  },
  {
   "cell_type": "code",
   "execution_count": null,
   "metadata": {},
   "outputs": [],
   "source": [
    "#datensatz 1 Bild 1 Histogramm\n",
    "img.flatten()\n",
    "hist(img)"
   ]
  },
  {
   "cell_type": "code",
   "execution_count": null,
   "metadata": {},
   "outputs": [],
   "source": [
    "#Datensatz 2 Bild zeigen\n",
    "img2 = imread('BioInfo_Projekt/t13.png')\n",
    "figure(figsize(15,8))\n",
    "imshow(img, 'gray')\n",
    "colorbar()"
   ]
  },
  {
   "cell_type": "code",
   "execution_count": null,
   "metadata": {},
   "outputs": [],
   "source": []
  },
  {
   "cell_type": "code",
   "execution_count": null,
   "metadata": {},
   "outputs": [],
   "source": [
    "#Datensatz 2 Bild Histogramm\n",
    "img2.flatten()\n",
    "hist(img2)"
   ]
  },
  {
   "cell_type": "code",
   "execution_count": null,
   "metadata": {},
   "outputs": [],
   "source": [
    "#Datensatz 2 Bild Mean Filter\n",
    "img3 = img2.copy()\n",
    "scipy.ndimage.uniform_filter(img3, 15) \n",
    "imshow(img3, 'gray')"
   ]
  },
  {
   "cell_type": "code",
   "execution_count": null,
   "metadata": {},
   "outputs": [],
   "source": [
    "#Datensatz 2 Bild Mean Filter Histogramm\n",
    "img3.flatten()\n",
    "hist(img3)"
   ]
  },
  {
   "cell_type": "code",
   "execution_count": null,
   "metadata": {},
   "outputs": [],
   "source": [
    "#Datensatz 2 Bild Median Filter\n",
    "img4 = img2.copy()\n",
    "scipy.ndimage.median_filter(img4, 70)\n",
    "imshow(img4, 'gray')"
   ]
  },
  {
   "cell_type": "code",
   "execution_count": null,
   "metadata": {},
   "outputs": [],
   "source": [
    "#Datensatz 2 Bild Median Filter Histogramm\n",
    "img4.flatten()\n",
    "hist(img4)\n"
   ]
  },
  {
   "cell_type": "code",
   "execution_count": null,
   "metadata": {},
   "outputs": [],
   "source": [
    "# Datensatz 2 t13 minimale intensität ermitteln \n",
    "h=img2.flatten()\n",
    "list(h)\n",
    "min(h)\n",
    "\n"
   ]
  },
  {
   "cell_type": "code",
   "execution_count": null,
   "metadata": {},
   "outputs": [],
   "source": [
    "# Datensatz 2 t13 maximale intensität ermitteln \n",
    "h=img2.flatten()\n",
    "list(h)\n",
    "max(h)"
   ]
  },
  {
   "cell_type": "code",
   "execution_count": null,
   "metadata": {},
   "outputs": [],
   "source": [
    "# Datnesatz 2 t13 Definition strech\n",
    "def stretch(a, lower_thresh, upper_thresh):\n",
    "    r = 255.0/(upper_thresh-lower_thresh+2) # unit of stretching\n",
    "    out = np.round(r*(a-lower_thresh+1)).astype(a.dtype) # stretched values\n",
    "    out[a<lower_thresh] = 0\n",
    "    out[a>upper_thresh] = 255\n",
    "    return out"
   ]
  },
  {
   "cell_type": "code",
   "execution_count": null,
   "metadata": {},
   "outputs": [],
   "source": [
    "# Datensatz 2 t13 Ausfürhung \n",
    "img9 = copy(img2)\n",
    "f = stretch(img9,0.50365454,0.5624933)\n",
    "imshow(f, 'gray')\n",
    "colorbar()\n"
   ]
  },
  {
   "cell_type": "code",
   "execution_count": null,
   "metadata": {},
   "outputs": [],
   "source": [
    "# Datensatz 2 t13 Histogramm nach streching\n",
    "f.flatten()\n",
    "hist(f)"
   ]
  },
  {
   "cell_type": "code",
   "execution_count": null,
   "metadata": {},
   "outputs": [],
   "source": []
  },
  {
   "cell_type": "code",
   "execution_count": null,
   "metadata": {},
   "outputs": [],
   "source": []
  },
  {
   "cell_type": "code",
   "execution_count": null,
   "metadata": {},
   "outputs": [],
   "source": []
  },
  {
   "cell_type": "code",
   "execution_count": null,
   "metadata": {},
   "outputs": [],
   "source": []
  },
  {
   "cell_type": "code",
   "execution_count": null,
   "metadata": {},
   "outputs": [],
   "source": []
  },
  {
   "cell_type": "code",
   "execution_count": null,
   "metadata": {},
   "outputs": [],
   "source": []
  },
  {
   "cell_type": "code",
   "execution_count": null,
   "metadata": {},
   "outputs": [],
   "source": []
  },
  {
   "cell_type": "code",
   "execution_count": null,
   "metadata": {},
   "outputs": [],
   "source": []
  },
  {
   "cell_type": "code",
   "execution_count": null,
   "metadata": {},
   "outputs": [],
   "source": []
  },
  {
   "cell_type": "code",
   "execution_count": null,
   "metadata": {},
   "outputs": [],
   "source": []
  },
  {
   "cell_type": "code",
   "execution_count": null,
   "metadata": {},
   "outputs": [],
   "source": []
  },
  {
   "cell_type": "code",
   "execution_count": null,
   "metadata": {},
   "outputs": [],
   "source": []
  },
  {
   "cell_type": "code",
   "execution_count": null,
   "metadata": {},
   "outputs": [],
   "source": []
  },
  {
   "cell_type": "code",
   "execution_count": null,
   "metadata": {},
   "outputs": [],
   "source": []
  },
  {
   "cell_type": "code",
   "execution_count": null,
   "metadata": {},
   "outputs": [],
   "source": []
  },
  {
   "cell_type": "code",
   "execution_count": null,
   "metadata": {},
   "outputs": [],
   "source": []
  },
  {
   "cell_type": "code",
   "execution_count": null,
   "metadata": {},
   "outputs": [],
   "source": []
  },
  {
   "cell_type": "code",
   "execution_count": null,
   "metadata": {},
   "outputs": [],
   "source": []
  },
  {
   "cell_type": "code",
   "execution_count": null,
   "metadata": {},
   "outputs": [],
   "source": []
  },
  {
   "cell_type": "code",
   "execution_count": null,
   "metadata": {},
   "outputs": [],
   "source": []
  },
  {
   "cell_type": "code",
   "execution_count": null,
   "metadata": {},
   "outputs": [],
   "source": []
  },
  {
   "cell_type": "code",
   "execution_count": null,
   "metadata": {},
   "outputs": [],
   "source": []
  },
  {
   "cell_type": "code",
   "execution_count": null,
   "metadata": {},
   "outputs": [],
   "source": []
  },
  {
   "cell_type": "markdown",
   "metadata": {},
   "source": [
    "**Task 3.1.2.** Implement a mean filter:"
   ]
  },
  {
   "cell_type": "code",
   "execution_count": null,
   "metadata": {},
   "outputs": [],
   "source": [
    "def meanfilter(img, size):\n",
    "    result = numpy.zeros(img.shape)\n",
    "    n = (size - 1) // 2\n",
    "    for p in ndindex(img.shape):\n",
    "        neighborhood_sum = 0\n",
    "        if n <= p[0] and n<= p[1] and n + p[0]< img.shape[0] and n + p[1] < img.shape[1]:\n",
    "            for q in ndindex(size, size):\n",
    "                neighborhood_sum = neighborhood_sum + img[p[0]+q[0]-n,p[1]+q[1]-n]\n",
    "        result[p]= neighborhood_sum/(size*size)\n",
    "    \n",
    "    return result"
   ]
  },
  {
   "cell_type": "markdown",
   "metadata": {},
   "source": [
    "**Task 3.1.3.** Test your implementation from above by using the function `meanfilter` for the previously loaded image and show the result:"
   ]
  },
  {
   "cell_type": "code",
   "execution_count": null,
   "metadata": {
    "scrolled": false
   },
   "outputs": [],
   "source": [
    "img2 = img.copy()\n",
    "img9 = meanfilter(img2, 15)\n",
    "imshow(img9, 'gray')"
   ]
  },
  {
   "cell_type": "markdown",
   "metadata": {},
   "source": [
    "**Task 3.1.4.** Compare your result for filter size `5` with the correct result image `data/lena_meanfilter5.png`:"
   ]
  },
  {
   "cell_type": "code",
   "execution_count": null,
   "metadata": {},
   "outputs": [],
   "source": [
    "img = imread('data/lena_meanfilter5.png')\n",
    "figure(figsize(15,8))\n",
    "imshow( img,'gray' )\n",
    "colorbar()"
   ]
  },
  {
   "cell_type": "markdown",
   "metadata": {},
   "source": [
    "---\n",
    "\n",
    "## Task 3.2 – Non-linear filtering\n",
    "\n",
    "**Task 3.2.1.** Implement a median filter:"
   ]
  },
  {
   "cell_type": "code",
   "execution_count": null,
   "metadata": {},
   "outputs": [],
   "source": [
    "def medianfilter(img, size):\n",
    "    result = numpy.zeros(img.shape)\n",
    "    n = (size-1) // 2\n",
    "    for p in ndindex(img.shape):\n",
    "        if n <= p[0] and n <= p[1] and n + p[0] < img.shape[0] and n + p[1]< img.shape[1]:\n",
    "            neighbourhood_list = []\n",
    "            for q in ndindex(size, size):\n",
    "                neighbourhood_list.append(img[p[0]+q[0]-n, p[1]+q[1]-n])\n",
    "                \n",
    "    #liste erstellen, sortieren und anwenden auf p \n",
    "            neighbourhood_list.sort()\n",
    "            result[p] = neighbourhood_list[len(neighbourhood_list)//2]\n",
    "    \n",
    "    # write your code here\n",
    "    return result"
   ]
  },
  {
   "cell_type": "markdown",
   "metadata": {},
   "source": [
    "**Task 3.2.2.** First, test your implementation from above by using the function `medianfilter` for the previously loaded image and show the result:"
   ]
  },
  {
   "cell_type": "code",
   "execution_count": null,
   "metadata": {},
   "outputs": [],
   "source": [
    "img3 = img.copy()\n",
    "img5 = medianfilter(img3, 15)\n",
    "imshow(img5, 'gray')\n",
    "colorbar()"
   ]
  },
  {
   "cell_type": "markdown",
   "metadata": {},
   "source": [
    "Then, compare your result for filter size `5` with the correct result image `data/lena_medianfilter5.png`:"
   ]
  },
  {
   "cell_type": "code",
   "execution_count": null,
   "metadata": {},
   "outputs": [],
   "source": [
    "img = imread('data/lena_medianfilter5.png')\n",
    "figure(figsize(15,8))\n",
    "imshow( img,'gray' )\n",
    "colorbar()"
   ]
  },
  {
   "cell_type": "markdown",
   "metadata": {},
   "source": [
    "---\n",
    "\n",
    "## Task 3.3 – Using pre-implemented filters\n",
    "\n",
    "**Task 3.3.1.** Load the package `scipy.ndimage`:"
   ]
  },
  {
   "cell_type": "code",
   "execution_count": null,
   "metadata": {},
   "outputs": [],
   "source": [
    "import scipy.ndimage"
   ]
  },
  {
   "cell_type": "code",
   "execution_count": null,
   "metadata": {},
   "outputs": [],
   "source": []
  },
  {
   "cell_type": "markdown",
   "metadata": {},
   "source": [
    "**Task 3.3.2 (a).** Apply a **mean filter** from `scipy.ndimage` to the loaded image:"
   ]
  },
  {
   "cell_type": "code",
   "execution_count": null,
   "metadata": {},
   "outputs": [],
   "source": [
    "img6 = img.copy()\n",
    "scipy.ndimage.uniform_filter(img6, 15) \n",
    "imshow(img6, 'gray')"
   ]
  },
  {
   "cell_type": "markdown",
   "metadata": {},
   "source": [
    "**Task 3.3.2 (b).** Apply a **median filter** from `scipy.ndimage` to the loaded image:"
   ]
  },
  {
   "cell_type": "code",
   "execution_count": null,
   "metadata": {},
   "outputs": [],
   "source": [
    "img7 = img.copy()\n",
    "scipy.ndimage.median_filter(img7, 70)\n",
    "imshow(img7, 'gray')"
   ]
  },
  {
   "cell_type": "markdown",
   "metadata": {},
   "source": [
    "**Task 3.3.2 (c).** Apply a **Gaussian filter** from `scipy.ndimage` to the loaded image:"
   ]
  },
  {
   "cell_type": "code",
   "execution_count": null,
   "metadata": {},
   "outputs": [],
   "source": [
    "img8 = img.copy()\n",
    "scipy.ndimage.gaussian_filter(img8, 70)\n",
    "imshow(img8, 'gray')"
   ]
  },
  {
   "cell_type": "markdown",
   "metadata": {},
   "source": [
    "**Task 3.3.3.** Compare the results obtained using the functions from `scipy.ndimage` with those you obtained using your own implementations. What are the main differences? Do you have an explanation?"
   ]
  },
  {
   "cell_type": "markdown",
   "metadata": {},
   "source": [
    "- die Bibliotheken gehen schneller als eigen erstellte \n",
    "- Bibliotheken machen Bild nicht schnell so unscharf \n"
   ]
  },
  {
   "cell_type": "markdown",
   "metadata": {},
   "source": [
    "---\n",
    "\n",
    "## Task 3.4 – Slicing and benchmarking\n",
    "\n",
    "**Task 3.4.2.** Implement either a mean filter or a median filter using only a single `for`-loop:"
   ]
  },
  {
   "cell_type": "code",
   "execution_count": null,
   "metadata": {},
   "outputs": [],
   "source": [
    "def fastfilter(img, size):\n",
    "    result = numpy.zeros(img.shape)\n",
    "    n = (size-1) // 2\n",
    "    for p in ndindex(img.shape):\n",
    "         if n <= p[0] and n<= p[1] and n + p[0]< img.shape[0] and n + p[1] < img.shape[1]:\n",
    "                result[p] = img[p[0]-n:p[0]+n+1 ,p[1]-n:p[1]+n+1].mean()        \n",
    "                \n",
    "    return(result)"
   ]
  },
  {
   "cell_type": "code",
   "execution_count": null,
   "metadata": {},
   "outputs": [],
   "source": [
    "def fastfiltermd(img, size):\n",
    "    result = numpy.zeros(img.shape)\n",
    "    n = (size-1) // 2\n",
    "    for p in ndindex(img.shape):\n",
    "        if n <= p[0] and n <= p[1] and n + p[0] < img.shape[0] and n + p[1] < img.shape[1]:\n",
    "            lf = flatten(img[p[0]-n:p[0]+1+n, p[1]-n:p[1]+1+n])\n",
    "            result[p] = sorted(lf)[size*2//2] \n",
    "    return(result)\n",
    "    # write your code here"
   ]
  },
  {
   "cell_type": "code",
   "execution_count": null,
   "metadata": {},
   "outputs": [],
   "source": [
    "def fastfiltermde(img, size):\n",
    "    result = numpy.zeros(img.shape)\n",
    "    n = (size-1) // 2\n",
    "    for p in ndindex(img.shape):\n",
    "        if n <= p[0] and n <= p[1] and n + p[0] < img.shape[0] and n + p[1] < img.shape[1]:\n",
    "            result[p] = sorted(flatten(img[p[0]-n:p[0]+1+n, p[1]-n:p[1]+1+n]))[size*2//2] \n",
    "    return(result)"
   ]
  },
  {
   "cell_type": "markdown",
   "metadata": {},
   "source": [
    "**Task 3.4.3.** First, test your implementation from above by using the function `fastfilter` for the previously loaded image and show the result:"
   ]
  },
  {
   "cell_type": "code",
   "execution_count": null,
   "metadata": {},
   "outputs": [],
   "source": [
    "img10 = img.copy()\n",
    "img11 = fastfilter(img10, 5)\n",
    "imshow(img11, 'gray')"
   ]
  },
  {
   "cell_type": "code",
   "execution_count": null,
   "metadata": {},
   "outputs": [],
   "source": [
    "img12 = img.copy()\n",
    "img13 = fastfiltermd(img12, 5)\n",
    "imshow(img13, 'gray')"
   ]
  },
  {
   "cell_type": "code",
   "execution_count": null,
   "metadata": {},
   "outputs": [],
   "source": [
    "img14 = img.copy()\n",
    "img15 = fastfiltermde(img13, 5)\n",
    "imshow(img14, 'gray')"
   ]
  },
  {
   "cell_type": "markdown",
   "metadata": {},
   "source": [
    "Then, compare your result to those obtained using your implementation for either `meanfilter` or `medianfilter`, respectively:"
   ]
  },
  {
   "cell_type": "code",
   "execution_count": null,
   "metadata": {},
   "outputs": [],
   "source": [
    "%timeit fastfilter(img10, 5)\n",
    "%timeit meanfilter(img2, 5)\n",
    "%timeit fastfiltermd(img12, 5)\n",
    "%timeit medianfilter(img3, 5)"
   ]
  },
  {
   "cell_type": "markdown",
   "metadata": {},
   "source": [
    "**Task 3.4.4.** Benchmark the code run times:"
   ]
  },
  {
   "cell_type": "code",
   "execution_count": null,
   "metadata": {},
   "outputs": [],
   "source": []
  },
  {
   "cell_type": "markdown",
   "metadata": {},
   "source": [
    "**Task 3.4.5.** Document your observations regarding the benchmarking results and try to think of an explanation:"
   ]
  },
  {
   "cell_type": "code",
   "execution_count": null,
   "metadata": {},
   "outputs": [],
   "source": []
  }
 ],
 "metadata": {
  "kernelspec": {
   "display_name": "Python 3 (ipykernel)",
   "language": "python",
   "name": "python3"
  },
  "language_info": {
   "codemirror_mode": {
    "name": "ipython",
    "version": 3
   },
   "file_extension": ".py",
   "mimetype": "text/x-python",
   "name": "python",
   "nbconvert_exporter": "python",
   "pygments_lexer": "ipython3",
   "version": "3.9.12"
  }
 },
 "nbformat": 4,
 "nbformat_minor": 2
}
