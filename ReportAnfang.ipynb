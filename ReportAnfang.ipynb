{
 "cells": [
  {
   "attachments": {},
   "cell_type": "markdown",
   "metadata": {},
   "source": [
    "# Report Topic01 - Team 03: The implementation and evaluation of otsu thresholding\n",
    "## Data Analysis project\n",
    "### Supervisor: xxx\n",
    "### Team: xxx\n",
    "\n",
    "\n",
    "## Abstract\n",
    "\n",
    "xxx\n",
    "\n",
    "## Introduction\n",
    "\n",
    "\n",
    "## \n"
   ]
  },
  {
   "attachments": {},
   "cell_type": "markdown",
   "metadata": {},
   "source": [
    "## The Dataset\n",
    "\n",
    "For this project we are working with three different datasets. Each dataset contains the original image, as well as the ground truth image, which is used to evaluate our algorithm via the dice score (further explantion below), which makes a total of 25 images and 25 ground truth images. All datasets show cell nucleii. Dataset 1 contains images of N2DH-GOWT1 mouse embryonic stem cells, which were stained by using a green flourescent protein targeted against the transcription facor Oct4. These images were captured using timelapse confocal microscopy. Dataset 2 therefore, contains images of human N2DL-HeLa cells of cervical cancer. The staining of these nuclei was also executed by using a green fluorescent protei, but targeted againdt H2b. The images were capured using xxx. Dataset 3 "
   ]
  }
 ],
 "metadata": {
  "language_info": {
   "name": "python"
  },
  "orig_nbformat": 4
 },
 "nbformat": 4,
 "nbformat_minor": 2
}
