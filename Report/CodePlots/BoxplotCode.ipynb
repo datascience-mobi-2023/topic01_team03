{
 "cells": [
  {
   "cell_type": "code",
   "execution_count": 49,
   "metadata": {},
   "outputs": [],
   "source": [
    "import pandas as pd\n",
    "import numpy as np\n",
    "import os\n",
    "from skimage import io\n",
    "import seaborn as sns\n",
    "import matplotlib as mlp\n",
    "\n",
    "\n",
    "def dice(img1, img2):\n",
    "\n",
    "#boolean data neccesary for dicescore \n",
    "    img1 = np.asarray(img1).astype(bool)\n",
    "    img2 = np.asarray(img2).astype(bool)\n",
    "\n",
    "#define common elements -> function compares elementwise img1 and img2\n",
    "    commonelements = np.equal(img1, img2)\n",
    "    elements1 = img1.shape[0]*img1.shape[1]\n",
    "    elements2 = img2.shape[0]*img2.shape[1]\n",
    "    d = 2* commonelements.sum()/(elements1 + elements2)\n",
    "    return d\n",
    "\n",
    "import os\n",
    "def anwendungdice(input_path1,input_path2,dice_list):\n",
    "    files1 = os.listdir(input_path1)\n",
    "    files2 = os.listdir(input_path2)\n",
    "    for o in range(len(files1)):\n",
    "        file_path1 = os.path.join(input_path1,files1[o])\n",
    "        file_path2 = os.path.join(input_path2,files2[o])\n",
    "        d = dice(io.imread(file_path1),io.imread(file_path2))\n",
    "        dice_list.append(d)"
   ]
  },
  {
   "cell_type": "code",
   "execution_count": 50,
   "metadata": {},
   "outputs": [
    {
     "data": {
      "text/plain": [
       "[0.8978309631347656,\n",
       " 0.9459800720214844,\n",
       " 0.8924894332885742,\n",
       " 0.8866996765136719,\n",
       " 0.941624641418457,\n",
       " 0.8975429534912109]"
      ]
     },
     "execution_count": 50,
     "metadata": {},
     "output_type": "execute_result"
    }
   ],
   "source": [
    "\n",
    "dice1_otsu = list()\n",
    "anwendungdice('/Users/kira/Downloads/UNI/DataAnalysis/topic01_team03/Ergebnisse/Otsu/N2DH-GOWT1/','/Users/kira/Downloads/UNI/DataAnalysis/topic01_team03/BilderDaten/BilderDaten/N2DH-GOWT1/gt_binarized/', dice1_otsu)\n",
    "\n"
   ]
  },
  {
   "cell_type": "code",
   "execution_count": 51,
   "metadata": {},
   "outputs": [],
   "source": [
    "dice1_gauss1_histo = list()\n",
    "anwendungdice('/Users/kira/Downloads/UNI/DataAnalysis/topic01_team03/Ergebnisse/Gauss+Histo+Otsu/N2DH-GOWT1/1','/Users/kira/Downloads/UNI/DataAnalysis/topic01_team03/BilderDaten/BilderDaten/N2DH-GOWT1/gt_binarized/',dice1_gauss1_histo)"
   ]
  },
  {
   "cell_type": "code",
   "execution_count": 52,
   "metadata": {},
   "outputs": [],
   "source": [
    "dice1_none = list()\n",
    "anwendungdice('/Users/kira/Downloads/UNI/DataAnalysis/topic01_team03/BilderDaten/BilderDaten/N2DH-GOWT1/img','/Users/kira/Downloads/UNI/DataAnalysis/topic01_team03/BilderDaten/BilderDaten/N2DH-GOWT1/gt_binarized/', dice1_none)\n"
   ]
  },
  {
   "cell_type": "code",
   "execution_count": 53,
   "metadata": {},
   "outputs": [],
   "source": [
    "dice1_gauss2_histo = list()\n",
    "anwendungdice('/Users/kira/Downloads/UNI/DataAnalysis/topic01_team03/Ergebnisse/Gauss+Histo+Otsu/N2DH-GOWT1/2','/Users/kira/Downloads/UNI/DataAnalysis/topic01_team03/BilderDaten/BilderDaten/N2DH-GOWT1/gt_binarized/',dice1_gauss2_histo)"
   ]
  },
  {
   "cell_type": "code",
   "execution_count": 54,
   "metadata": {},
   "outputs": [],
   "source": [
    "dice1_gauss3_histo = list()\n",
    "anwendungdice('/Users/kira/Downloads/UNI/DataAnalysis/topic01_team03/Ergebnisse/Gauss+Histo+Otsu/N2DH-GOWT1/3','/Users/kira/Downloads/UNI/DataAnalysis/topic01_team03/BilderDaten/BilderDaten/N2DH-GOWT1/gt_binarized/',dice1_gauss3_histo)\n"
   ]
  },
  {
   "cell_type": "code",
   "execution_count": 55,
   "metadata": {},
   "outputs": [],
   "source": [
    "dice1_mean3_histo = list()\n",
    "anwendungdice('/Users/kira/Downloads/UNI/DataAnalysis/topic01_team03/Ergebnisse/Mean+Histo+Otsu/N2DH-GOWT1/3x3','/Users/kira/Downloads/UNI/DataAnalysis/topic01_team03/BilderDaten/BilderDaten/N2DH-GOWT1/gt_binarized/',dice1_mean3_histo)\n"
   ]
  },
  {
   "cell_type": "code",
   "execution_count": 56,
   "metadata": {},
   "outputs": [],
   "source": [
    "dice1_mean5_histo = list()\n",
    "anwendungdice('/Users/kira/Downloads/UNI/DataAnalysis/topic01_team03/Ergebnisse/Mean+Histo+Otsu/N2DH-GOWT1/5x5','/Users/kira/Downloads/UNI/DataAnalysis/topic01_team03/BilderDaten/BilderDaten/N2DH-GOWT1/gt_binarized/',dice1_mean5_histo)"
   ]
  },
  {
   "cell_type": "code",
   "execution_count": 57,
   "metadata": {},
   "outputs": [],
   "source": [
    "dice1_median3_histo = list()\n",
    "anwendungdice('/Users/kira/Downloads/UNI/DataAnalysis/topic01_team03/Ergebnisse/Median+Histo+Otsu/N2DH-GOWT1/3x3','/Users/kira/Downloads/UNI/DataAnalysis/topic01_team03/BilderDaten/BilderDaten/N2DH-GOWT1/gt_binarized/',dice1_median3_histo)"
   ]
  },
  {
   "cell_type": "code",
   "execution_count": 58,
   "metadata": {},
   "outputs": [],
   "source": [
    "dice1_median5_histo = list()\n",
    "anwendungdice('/Users/kira/Downloads/UNI/DataAnalysis/topic01_team03/Ergebnisse/Median+Histo+Otsu/N2DH-GOWT1/5x5','/Users/kira/Downloads/UNI/DataAnalysis/topic01_team03/BilderDaten/BilderDaten/N2DH-GOWT1/gt_binarized/',dice1_median5_histo)"
   ]
  },
  {
   "cell_type": "code",
   "execution_count": 59,
   "metadata": {},
   "outputs": [
    {
     "data": {
      "text/html": [
       "<div>\n",
       "<style scoped>\n",
       "    .dataframe tbody tr th:only-of-type {\n",
       "        vertical-align: middle;\n",
       "    }\n",
       "\n",
       "    .dataframe tbody tr th {\n",
       "        vertical-align: top;\n",
       "    }\n",
       "\n",
       "    .dataframe thead th {\n",
       "        text-align: right;\n",
       "    }\n",
       "</style>\n",
       "<table border=\"1\" class=\"dataframe\">\n",
       "  <thead>\n",
       "    <tr style=\"text-align: right;\">\n",
       "      <th></th>\n",
       "      <th>none</th>\n",
       "      <th>Otsu</th>\n",
       "      <th>Histo+Gauss, sigma = 1</th>\n",
       "      <th>Histo+Gauss, sigma = 2</th>\n",
       "      <th>Histo+Gauss+, sigma = 3</th>\n",
       "      <th>Histo+Mean 3x3</th>\n",
       "      <th>Histo+Mean 5x5</th>\n",
       "      <th>Histo+Median 3x3</th>\n",
       "      <th>Histo+Median 5x5</th>\n",
       "    </tr>\n",
       "  </thead>\n",
       "  <tbody>\n",
       "    <tr>\n",
       "      <th>0</th>\n",
       "      <td>0.637366</td>\n",
       "      <td>0.897831</td>\n",
       "      <td>0.897720</td>\n",
       "      <td>0.896092</td>\n",
       "      <td>0.896718</td>\n",
       "      <td>0.896783</td>\n",
       "      <td>0.897469</td>\n",
       "      <td>0.892966</td>\n",
       "      <td>0.894040</td>\n",
       "    </tr>\n",
       "    <tr>\n",
       "      <th>1</th>\n",
       "      <td>0.585195</td>\n",
       "      <td>0.945980</td>\n",
       "      <td>0.946425</td>\n",
       "      <td>0.946866</td>\n",
       "      <td>0.947673</td>\n",
       "      <td>0.946552</td>\n",
       "      <td>0.946479</td>\n",
       "      <td>0.946200</td>\n",
       "      <td>0.945926</td>\n",
       "    </tr>\n",
       "    <tr>\n",
       "      <th>2</th>\n",
       "      <td>0.579154</td>\n",
       "      <td>0.892489</td>\n",
       "      <td>0.891178</td>\n",
       "      <td>0.891121</td>\n",
       "      <td>0.890164</td>\n",
       "      <td>0.890756</td>\n",
       "      <td>0.890918</td>\n",
       "      <td>0.890993</td>\n",
       "      <td>0.891535</td>\n",
       "    </tr>\n",
       "    <tr>\n",
       "      <th>3</th>\n",
       "      <td>0.533031</td>\n",
       "      <td>0.886700</td>\n",
       "      <td>0.885340</td>\n",
       "      <td>0.884560</td>\n",
       "      <td>0.883573</td>\n",
       "      <td>0.884939</td>\n",
       "      <td>0.884177</td>\n",
       "      <td>0.883936</td>\n",
       "      <td>0.887760</td>\n",
       "    </tr>\n",
       "    <tr>\n",
       "      <th>4</th>\n",
       "      <td>0.614565</td>\n",
       "      <td>0.941625</td>\n",
       "      <td>0.941653</td>\n",
       "      <td>0.941841</td>\n",
       "      <td>0.942080</td>\n",
       "      <td>0.941557</td>\n",
       "      <td>0.941713</td>\n",
       "      <td>0.941750</td>\n",
       "      <td>0.941686</td>\n",
       "    </tr>\n",
       "    <tr>\n",
       "      <th>5</th>\n",
       "      <td>0.602458</td>\n",
       "      <td>0.897543</td>\n",
       "      <td>0.902507</td>\n",
       "      <td>0.903717</td>\n",
       "      <td>0.902177</td>\n",
       "      <td>0.901365</td>\n",
       "      <td>0.902691</td>\n",
       "      <td>0.899744</td>\n",
       "      <td>0.901385</td>\n",
       "    </tr>\n",
       "  </tbody>\n",
       "</table>\n",
       "</div>"
      ],
      "text/plain": [
       "       none      Otsu  Histo+Gauss, sigma = 1  Histo+Gauss, sigma = 2  \\\n",
       "0  0.637366  0.897831                0.897720                0.896092   \n",
       "1  0.585195  0.945980                0.946425                0.946866   \n",
       "2  0.579154  0.892489                0.891178                0.891121   \n",
       "3  0.533031  0.886700                0.885340                0.884560   \n",
       "4  0.614565  0.941625                0.941653                0.941841   \n",
       "5  0.602458  0.897543                0.902507                0.903717   \n",
       "\n",
       "   Histo+Gauss+, sigma = 3  Histo+Mean 3x3  Histo+Mean 5x5  Histo+Median 3x3  \\\n",
       "0                 0.896718        0.896783        0.897469          0.892966   \n",
       "1                 0.947673        0.946552        0.946479          0.946200   \n",
       "2                 0.890164        0.890756        0.890918          0.890993   \n",
       "3                 0.883573        0.884939        0.884177          0.883936   \n",
       "4                 0.942080        0.941557        0.941713          0.941750   \n",
       "5                 0.902177        0.901365        0.902691          0.899744   \n",
       "\n",
       "   Histo+Median 5x5  \n",
       "0          0.894040  \n",
       "1          0.945926  \n",
       "2          0.891535  \n",
       "3          0.887760  \n",
       "4          0.941686  \n",
       "5          0.901385  "
      ]
     },
     "execution_count": 59,
     "metadata": {},
     "output_type": "execute_result"
    }
   ],
   "source": [
    "dice1_filter_histo = pd.DataFrame({'none': dice1_none, 'Otsu': dice1_otsu, 'Histo+Gauss, sigma = 1' : dice1_gauss1_histo,  'Histo+Gauss, sigma = 2' : dice1_gauss2_histo, 'Histo+Gauss+, sigma = 3'  : dice1_gauss3_histo, 'Histo+Mean 3x3': dice1_mean3_histo , 'Histo+Mean 5x5' : dice1_mean5_histo, 'Histo+Median 3x3': dice1_median3_histo , 'Histo+Median 5x5': dice1_median5_histo})\n",
    "dice1_filter_histo"
   ]
  },
  {
   "cell_type": "code",
   "execution_count": 60,
   "metadata": {},
   "outputs": [
    {
     "data": {
      "text/plain": [
       "none                       0.591961\n",
       "Otsu                       0.910361\n",
       "Histo+Gauss, sigma = 1     0.910804\n",
       "Histo+Gauss, sigma = 2     0.910700\n",
       "Histo+Gauss+, sigma = 3    0.910397\n",
       "Histo+Mean 3x3             0.910325\n",
       "Histo+Mean 5x5             0.910574\n",
       "Histo+Median 3x3           0.909265\n",
       "Histo+Median 5x5           0.910389\n",
       "dtype: float64"
      ]
     },
     "execution_count": 60,
     "metadata": {},
     "output_type": "execute_result"
    }
   ],
   "source": [
    "pd.DataFrame.mean(dice1_filter_histo)"
   ]
  },
  {
   "cell_type": "code",
   "execution_count": 61,
   "metadata": {},
   "outputs": [
    {
     "data": {
      "text/plain": [
       "Text(0, 0.5, 'Dice Score')"
      ]
     },
     "execution_count": 61,
     "metadata": {},
     "output_type": "execute_result"
    },
    {
     "data": {
      "image/png": "[encoded data removed]",
      "text/plain": [
       "<Figure size 432x288 with 1 Axes>"
      ]
     },
     "metadata": {
      "needs_background": "light"
     },
     "output_type": "display_data"
    }
   ],
   "source": [
    "import matplotlib.pyplot as plt\n",
    "dice1_filter_histo  = sns.boxplot(dice1_filter_histo, palette ='husl', showmeans = True, meanprops = {'marker':'o', 'markerfacecolor': 'black', 'markeredgecolor':'black', 'markersize': '4'})\n",
    "dice1_filter_histo.set_xticklabels(dice1_filter_histo.get_xticklabels(), rotation = 80)\n",
    "dice1_filter_histo.set_title('Comparism of different filters + histogram stretching + Otsu - N2DH-GOWT1')\n",
    "dice1_filter_histo.set_ylim(0.5,1)\n",
    "dice1_filter_histo.set_ylabel('Dice Score')"
   ]
  }
 ],
 "metadata": {
  "kernelspec": {
   "display_name": "Python 3",
   "language": "python",
   "name": "python3"
  },
  "language_info": {
   "codemirror_mode": {
    "name": "ipython",
    "version": 3
   },
   "file_extension": ".py",
   "mimetype": "text/x-python",
   "name": "python",
   "nbconvert_exporter": "python",
   "pygments_lexer": "ipython3",
   "version": "3.10.4"
  },
  "orig_nbformat": 4
 },
 "nbformat": 4,
 "nbformat_minor": 2
}
