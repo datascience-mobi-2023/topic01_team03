{
 "cells": [
  {
   "cell_type": "code",
   "execution_count": 1,
   "id": "ed44c635",
   "metadata": {},
   "outputs": [],
   "source": [
    "from skimage import io\n",
    "import numpy as np\n",
    "def histogramm_stretching(img,a,b):\n",
    "    a = 0\n",
    "    b = 255\n",
    "    c = min(img.ravel())\n",
    "    d = max(img.ravel())\n",
    "    img_copy = img.copy()\n",
    "    for p in np.ndindex(img_copy.shape):\n",
    "        img_copy[p] = (img[p]-c) * ((b-a)/(d-c))+a\n",
    "    return img_copy"
   ]
  },
  {
   "cell_type": "code",
   "execution_count": null,
   "id": "572c02ae",
   "metadata": {},
   "outputs": [],
   "source": []
  }
 ],
 "metadata": {
  "kernelspec": {
   "display_name": "Python 3 (ipykernel)",
   "language": "python",
   "name": "python3"
  },
  "language_info": {
   "codemirror_mode": {
    "name": "ipython",
    "version": 3
   },
   "file_extension": ".py",
   "mimetype": "text/x-python",
   "name": "python",
   "nbconvert_exporter": "python",
   "pygments_lexer": "ipython3",
   "version": "3.9.12"
  }
 },
 "nbformat": 4,
 "nbformat_minor": 5
}
