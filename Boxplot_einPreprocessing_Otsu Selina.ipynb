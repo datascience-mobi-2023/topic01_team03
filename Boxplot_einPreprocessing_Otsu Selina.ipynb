{
 "cells": [
  {
   "cell_type": "code",
   "execution_count": 16,
   "metadata": {},
   "outputs": [],
   "source": [
    "import pandas as pd\n",
    "import numpy as np\n",
    "import os\n",
    "from skimage import io\n",
    "import seaborn as sns\n",
    "import matplotlib as mlp\n",
    "\n",
    "\n",
    "def dice(img1, img2):\n",
    "\n",
    "#boolean data für dicescore nötig\n",
    "    img1 = np.asarray(img1).astype(bool)\n",
    "    img2 = np.asarray(img2).astype(bool)\n",
    "\n",
    "#definiere gemeinsame elemente -> funktion vergleicht elementweise img1 mit img2\n",
    "    commonelements = np.equal(img1, img2)\n",
    "    elements1 = img1.shape[0]*img1.shape[1]\n",
    "    elements2 = img2.shape[0]*img2.shape[1]\n",
    "    d = 2* commonelements.sum()/(elements1 + elements2)\n",
    "    return d\n",
    "\n",
    "import os\n",
    "def anwendungdice(input_path1,input_path2,dice_list):\n",
    "    files1 = os.listdir(input_path1)\n",
    "    files2 = os.listdir(input_path2)\n",
    "    for o in range(len(files1)):\n",
    "        file_path1 = os.path.join(input_path1,files1[o])\n",
    "        file_path2 = os.path.join(input_path2,files2[o])\n",
    "        d = dice(io.imread(file_path1),io.imread(file_path2))\n",
    "        dice_list.append(d)"
   ]
  },
  {
   "cell_type": "code",
   "execution_count": 17,
   "metadata": {},
   "outputs": [
    {
     "data": {
      "text/plain": [
       "[0.9814584415584415,\n",
       " 0.9650233766233767,\n",
       " 0.9005597402597403,\n",
       " 0.8984090909090909]"
      ]
     },
     "execution_count": 17,
     "metadata": {},
     "output_type": "execute_result"
    }
   ],
   "source": [
    "\n",
    "dice2_otsu = list()\n",
    "anwendungdice('C:/Users/selig/topic01_team03/Ergebnisse/Otsu/N2DL-HeLa','C:/Users/selig/topic01_team03/BilderDaten/BilderDaten/N2DL-HeLa/gt_binarized', dice2_otsu)\n",
    "dice2_otsu\n"
   ]
  },
  {
   "cell_type": "code",
   "execution_count": 18,
   "metadata": {},
   "outputs": [
    {
     "data": {
      "text/plain": [
       "[0.9815103896103896,\n",
       " 0.9653142857142857,\n",
       " 0.8984194805194805,\n",
       " 0.8962805194805195]"
      ]
     },
     "execution_count": 18,
     "metadata": {},
     "output_type": "execute_result"
    }
   ],
   "source": [
    "dice2_gauss1 = list()\n",
    "anwendungdice('C:/Users/selig/topic01_team03/Ergebnisse/Gauss+Otsu/N2DL-HeLa/1','C:/Users/selig/topic01_team03/BilderDaten/BilderDaten/N2DL-HeLa/gt_binarized/',dice2_gauss1)\n",
    "dice2_gauss1"
   ]
  },
  {
   "cell_type": "code",
   "execution_count": 19,
   "metadata": {},
   "outputs": [
    {
     "data": {
      "text/plain": [
       "[0.03861948051948052,\n",
       " 0.06585584415584415,\n",
       " 0.2525155844155844,\n",
       " 0.2588753246753247]"
      ]
     },
     "execution_count": 19,
     "metadata": {},
     "output_type": "execute_result"
    }
   ],
   "source": [
    "dice2_none = list()\n",
    "anwendungdice('C:/Users/selig/topic01_team03/BilderDaten/BilderDaten/N2DL-HeLa/img','C:/Users/selig/topic01_team03/BilderDaten/BilderDaten/N2DL-HeLa/gt_binarized/', dice2_none)\n",
    "dice2_none"
   ]
  },
  {
   "cell_type": "code",
   "execution_count": 20,
   "metadata": {},
   "outputs": [
    {
     "data": {
      "text/plain": [
       "[0.9819207792207792,\n",
       " 0.9657805194805195,\n",
       " 0.8949857142857143,\n",
       " 0.8932012987012987]"
      ]
     },
     "execution_count": 20,
     "metadata": {},
     "output_type": "execute_result"
    }
   ],
   "source": [
    "dice2_gauss2 = list()\n",
    "anwendungdice('C:/Users/selig/topic01_team03/Ergebnisse/Gauss+Otsu/N2DL-HeLa/2','C:/Users/selig/topic01_team03/BilderDaten/BilderDaten/N2DL-HeLa/gt_binarized',dice2_gauss2)\n",
    "dice2_gauss2"
   ]
  },
  {
   "cell_type": "code",
   "execution_count": 21,
   "metadata": {},
   "outputs": [
    {
     "data": {
      "text/plain": [
       "[0.9825207792207792,\n",
       " 0.9659909090909091,\n",
       " 0.8928025974025974,\n",
       " 0.8913077922077922]"
      ]
     },
     "execution_count": 21,
     "metadata": {},
     "output_type": "execute_result"
    }
   ],
   "source": [
    "dice2_gauss3 = list()\n",
    "anwendungdice('C:/Users/selig/topic01_team03/Ergebnisse/Gauss+Otsu/N2DL-HeLa/3','C:/Users/selig/topic01_team03/BilderDaten/BilderDaten/N2DL-HeLa/gt_binarized',dice2_gauss3)\n",
    "dice2_gauss3"
   ]
  },
  {
   "cell_type": "code",
   "execution_count": 22,
   "metadata": {},
   "outputs": [
    {
     "data": {
      "text/plain": [
       "[0.9814974025974026,\n",
       " 0.9652272727272727,\n",
       " 0.8987155844155844,\n",
       " 0.8966363636363637]"
      ]
     },
     "execution_count": 22,
     "metadata": {},
     "output_type": "execute_result"
    }
   ],
   "source": [
    "dice2_mean3 = list()\n",
    "anwendungdice('C:/Users/selig/topic01_team03/Ergebnisse/Mean+Otsu/N2DL-HeLa/3x3','C:/Users/selig/topic01_team03/BilderDaten/BilderDaten/N2DL-HeLa/gt_binarized',dice2_mean3)\n",
    "dice2_mean3"
   ]
  },
  {
   "cell_type": "code",
   "execution_count": 23,
   "metadata": {},
   "outputs": [
    {
     "data": {
      "text/plain": [
       "[0.9815857142857143,\n",
       " 0.9655090909090909,\n",
       " 0.8960259740259741,\n",
       " 0.8940064935064935]"
      ]
     },
     "execution_count": 23,
     "metadata": {},
     "output_type": "execute_result"
    }
   ],
   "source": [
    "dice2_mean5 = list()\n",
    "anwendungdice('C:/Users/selig/topic01_team03/Ergebnisse/Mean+Otsu/N2DL-HeLa/5x5','C:/Users/selig/topic01_team03/BilderDaten/BilderDaten/N2DL-HeLa/gt_binarized',dice2_mean5)\n",
    "dice2_mean5"
   ]
  },
  {
   "cell_type": "code",
   "execution_count": 24,
   "metadata": {},
   "outputs": [
    {
     "data": {
      "text/plain": [
       "[0.9814506493506493, 0.9651, 0.9006467532467533, 0.8986961038961039]"
      ]
     },
     "execution_count": 24,
     "metadata": {},
     "output_type": "execute_result"
    }
   ],
   "source": [
    "dice2_median3 = list()\n",
    "anwendungdice('C:/Users/selig/topic01_team03/Ergebnisse/Median+Otsu/N2DL-HeLa/3x3','C:/Users/selig/topic01_team03/BilderDaten/BilderDaten/N2DL-HeLa/gt_binarized',dice2_median3)\n",
    "dice2_median3"
   ]
  },
  {
   "cell_type": "code",
   "execution_count": 25,
   "metadata": {},
   "outputs": [
    {
     "data": {
      "text/plain": [
       "[1.0, 1.0, 1.0, 1.0]"
      ]
     },
     "execution_count": 25,
     "metadata": {},
     "output_type": "execute_result"
    }
   ],
   "source": [
    "dice2_median5 = list()\n",
    "anwendungdice('C:/Users/selig/topic01_team03/Ergebnisse/Median+Otsu/N2DL-HeLa/5x5','C:/Users/selig/topic01_team03/Ergebnisse/Median+Otsu/N2DL-HeLa/5x5',dice2_median5)\n",
    "dice2_median5"
   ]
  },
  {
   "cell_type": "code",
   "execution_count": 26,
   "metadata": {},
   "outputs": [
    {
     "data": {
      "text/plain": [
       "[0.9995038961038961, 0.998412987012987, 0.9932662337662338, 0.9927532467532467]"
      ]
     },
     "execution_count": 26,
     "metadata": {},
     "output_type": "execute_result"
    }
   ],
   "source": [
    "dice2_histo = list()\n",
    "anwendungdice('C:/Users/selig/topic01_team03/Ergebnisse/Histogramm+Otsu/N2DL-HeLa','C:/Users/selig/topic01_team03/Ergebnisse/Median+Otsu/N2DL-HeLa/5x5',dice2_histo)\n",
    "dice2_histo"
   ]
  },
  {
   "cell_type": "code",
   "execution_count": 27,
   "metadata": {},
   "outputs": [
    {
     "data": {
      "text/html": [
       "<div>\n",
       "<style scoped>\n",
       "    .dataframe tbody tr th:only-of-type {\n",
       "        vertical-align: middle;\n",
       "    }\n",
       "\n",
       "    .dataframe tbody tr th {\n",
       "        vertical-align: top;\n",
       "    }\n",
       "\n",
       "    .dataframe thead th {\n",
       "        text-align: right;\n",
       "    }\n",
       "</style>\n",
       "<table border=\"1\" class=\"dataframe\">\n",
       "  <thead>\n",
       "    <tr style=\"text-align: right;\">\n",
       "      <th></th>\n",
       "      <th>none</th>\n",
       "      <th>Otsu</th>\n",
       "      <th>Histo</th>\n",
       "      <th>Gauss, sigma = 1</th>\n",
       "      <th>Gauss, sigma = 2</th>\n",
       "      <th>Gauss, sigma = 3</th>\n",
       "      <th>Mean 3x3</th>\n",
       "      <th>Mean 5x5</th>\n",
       "      <th>Median 3x3</th>\n",
       "      <th>Median 5x5</th>\n",
       "    </tr>\n",
       "  </thead>\n",
       "  <tbody>\n",
       "    <tr>\n",
       "      <th>0</th>\n",
       "      <td>0.038619</td>\n",
       "      <td>0.981458</td>\n",
       "      <td>0.999504</td>\n",
       "      <td>0.981510</td>\n",
       "      <td>0.981921</td>\n",
       "      <td>0.982521</td>\n",
       "      <td>0.981497</td>\n",
       "      <td>0.981586</td>\n",
       "      <td>0.981451</td>\n",
       "      <td>1.0</td>\n",
       "    </tr>\n",
       "    <tr>\n",
       "      <th>1</th>\n",
       "      <td>0.065856</td>\n",
       "      <td>0.965023</td>\n",
       "      <td>0.998413</td>\n",
       "      <td>0.965314</td>\n",
       "      <td>0.965781</td>\n",
       "      <td>0.965991</td>\n",
       "      <td>0.965227</td>\n",
       "      <td>0.965509</td>\n",
       "      <td>0.965100</td>\n",
       "      <td>1.0</td>\n",
       "    </tr>\n",
       "    <tr>\n",
       "      <th>2</th>\n",
       "      <td>0.252516</td>\n",
       "      <td>0.900560</td>\n",
       "      <td>0.993266</td>\n",
       "      <td>0.898419</td>\n",
       "      <td>0.894986</td>\n",
       "      <td>0.892803</td>\n",
       "      <td>0.898716</td>\n",
       "      <td>0.896026</td>\n",
       "      <td>0.900647</td>\n",
       "      <td>1.0</td>\n",
       "    </tr>\n",
       "    <tr>\n",
       "      <th>3</th>\n",
       "      <td>0.258875</td>\n",
       "      <td>0.898409</td>\n",
       "      <td>0.992753</td>\n",
       "      <td>0.896281</td>\n",
       "      <td>0.893201</td>\n",
       "      <td>0.891308</td>\n",
       "      <td>0.896636</td>\n",
       "      <td>0.894006</td>\n",
       "      <td>0.898696</td>\n",
       "      <td>1.0</td>\n",
       "    </tr>\n",
       "  </tbody>\n",
       "</table>\n",
       "</div>"
      ],
      "text/plain": [
       "       none      Otsu     Histo  Gauss, sigma = 1  Gauss, sigma = 2  \\\n",
       "0  0.038619  0.981458  0.999504          0.981510          0.981921   \n",
       "1  0.065856  0.965023  0.998413          0.965314          0.965781   \n",
       "2  0.252516  0.900560  0.993266          0.898419          0.894986   \n",
       "3  0.258875  0.898409  0.992753          0.896281          0.893201   \n",
       "\n",
       "   Gauss, sigma = 3  Mean 3x3  Mean 5x5  Median 3x3  Median 5x5  \n",
       "0          0.982521  0.981497  0.981586    0.981451         1.0  \n",
       "1          0.965991  0.965227  0.965509    0.965100         1.0  \n",
       "2          0.892803  0.898716  0.896026    0.900647         1.0  \n",
       "3          0.891308  0.896636  0.894006    0.898696         1.0  "
      ]
     },
     "execution_count": 27,
     "metadata": {},
     "output_type": "execute_result"
    }
   ],
   "source": [
    "dice2_preprocessing = pd.DataFrame({'none': dice2_none, 'Otsu': dice2_otsu, 'Histo': dice2_histo, 'Gauss, sigma = 1' : dice2_gauss1,  'Gauss, sigma = 2' : dice2_gauss2, 'Gauss, sigma = 3'  : dice2_gauss3, 'Mean 3x3': dice2_mean3 , 'Mean 5x5' : dice2_mean5, 'Median 3x3': dice2_median3 , 'Median 5x5': dice2_median5})\n",
    "dice2_preprocessing"
   ]
  },
  {
   "cell_type": "code",
   "execution_count": 28,
   "metadata": {},
   "outputs": [
    {
     "data": {
      "text/plain": [
       "none                0.153967\n",
       "Otsu                0.936363\n",
       "Histo               0.995984\n",
       "Gauss, sigma = 1    0.935381\n",
       "Gauss, sigma = 2    0.933972\n",
       "Gauss, sigma = 3    0.933156\n",
       "Mean 3x3            0.935519\n",
       "Mean 5x5            0.934282\n",
       "Median 3x3          0.936473\n",
       "Median 5x5          1.000000\n",
       "dtype: float64"
      ]
     },
     "execution_count": 28,
     "metadata": {},
     "output_type": "execute_result"
    }
   ],
   "source": [
    "pd.DataFrame.mean(dice2_preprocessing)"
   ]
  },
  {
   "cell_type": "code",
   "execution_count": 29,
   "metadata": {},
   "outputs": [
    {
     "data": {
      "text/plain": [
       "Text(0, 0.5, 'Dice Score')"
      ]
     },
     "execution_count": 29,
     "metadata": {},
     "output_type": "execute_result"
    },
    {
     "data": {
      "image/png": "[encoded data removed]",
      "text/plain": [
       "<Figure size 432x288 with 1 Axes>"
      ]
     },
     "metadata": {
      "needs_background": "light"
     },
     "output_type": "display_data"
    }
   ],
   "source": [
    "import matplotlib.pyplot as plt\n",
    "dice2_preprocessing  = sns.boxplot(dice2_preprocessing, palette ='muted', showmeans = True, meanprops = {\"marker\":\"o\",\"markerfacecolor\":\"black\",\"markeredgecolor\":\"black\",\"markersize\":\"4\"})\n",
    "dice2_preprocessing.set_xticklabels(dice2_preprocessing.get_xticklabels(), rotation = 70)\n",
    "dice2_preprocessing.set_title('Different preprocessing methods + Otsu - N2DL-HeLa')\n",
    "dice2_preprocessing.set_ylim(0, 1.1)\n",
    "dice2_preprocessing.set_ylabel('Dice Score')\n"
   ]
  },
  {
   "cell_type": "code",
   "execution_count": 30,
   "metadata": {},
   "outputs": [
    {
     "ename": "FileNotFoundError",
     "evalue": "[Errno 2] No such file or directory: 'C:\\\\Users\\\\kira\\\\Downloads\\\\UNI\\\\DataAnalysis\\\\topic01_team03\\\\BilderDaten\\\\BilderDaten\\\\N2DH-GOWT1\\\\img\\\\t72.tif'",
     "output_type": "error",
     "traceback": [
      "\u001b[1;31m---------------------------------------------------------------------------\u001b[0m",
      "\u001b[1;31mFileNotFoundError\u001b[0m                         Traceback (most recent call last)",
      "\u001b[1;32mc:\\Users\\selig\\topic01_team03\\Boxplot_Preprocessing_Otsu Selina.ipynb Cell 15\u001b[0m in \u001b[0;36m<cell line: 5>\u001b[1;34m()\u001b[0m\n\u001b[0;32m      <a href='vscode-notebook-cell:/c%3A/Users/selig/topic01_team03/Boxplot_Preprocessing_Otsu%20Selina.ipynb#X20sZmlsZQ%3D%3D?line=1'>2</a>\u001b[0m \u001b[39mfrom\u001b[39;00m \u001b[39mskimage\u001b[39;00m \u001b[39mimport\u001b[39;00m io\n\u001b[0;32m      <a href='vscode-notebook-cell:/c%3A/Users/selig/topic01_team03/Boxplot_Preprocessing_Otsu%20Selina.ipynb#X20sZmlsZQ%3D%3D?line=3'>4</a>\u001b[0m \u001b[39m#images benennen -> hier noch für img1 image nach otsu einfügen\u001b[39;00m\n\u001b[1;32m----> <a href='vscode-notebook-cell:/c%3A/Users/selig/topic01_team03/Boxplot_Preprocessing_Otsu%20Selina.ipynb#X20sZmlsZQ%3D%3D?line=4'>5</a>\u001b[0m img1 \u001b[39m=\u001b[39m io\u001b[39m.\u001b[39;49mimread(\u001b[39m'\u001b[39;49m\u001b[39m/Users/kira/Downloads/UNI/DataAnalysis/topic01_team03/BilderDaten/BilderDaten/N2DH-GOWT1/img/t72.tif\u001b[39;49m\u001b[39m'\u001b[39;49m)\n\u001b[0;32m      <a href='vscode-notebook-cell:/c%3A/Users/selig/topic01_team03/Boxplot_Preprocessing_Otsu%20Selina.ipynb#X20sZmlsZQ%3D%3D?line=5'>6</a>\u001b[0m img2 \u001b[39m=\u001b[39m io\u001b[39m.\u001b[39mimread(\u001b[39m'\u001b[39m\u001b[39m/Users/kira/Downloads/UNI/DataAnalysis/topic01_team03/BilderDaten/BilderDaten/N2DH-GOWT1/gt_binarized/man_seg72.tif\u001b[39m\u001b[39m'\u001b[39m)\n\u001b[0;32m      <a href='vscode-notebook-cell:/c%3A/Users/selig/topic01_team03/Boxplot_Preprocessing_Otsu%20Selina.ipynb#X20sZmlsZQ%3D%3D?line=7'>8</a>\u001b[0m \u001b[39m#boolean data für dicescore nötig\u001b[39;00m\n",
      "File \u001b[1;32mc:\\Users\\selig\\mambaforge\\envs\\compmeth2022\\lib\\site-packages\\skimage\\io\\_io.py:53\u001b[0m, in \u001b[0;36mimread\u001b[1;34m(fname, as_gray, plugin, **plugin_args)\u001b[0m\n\u001b[0;32m     50\u001b[0m         plugin \u001b[39m=\u001b[39m \u001b[39m'\u001b[39m\u001b[39mtifffile\u001b[39m\u001b[39m'\u001b[39m\n\u001b[0;32m     52\u001b[0m \u001b[39mwith\u001b[39;00m file_or_url_context(fname) \u001b[39mas\u001b[39;00m fname:\n\u001b[1;32m---> 53\u001b[0m     img \u001b[39m=\u001b[39m call_plugin(\u001b[39m'\u001b[39m\u001b[39mimread\u001b[39m\u001b[39m'\u001b[39m, fname, plugin\u001b[39m=\u001b[39mplugin, \u001b[39m*\u001b[39m\u001b[39m*\u001b[39mplugin_args)\n\u001b[0;32m     55\u001b[0m \u001b[39mif\u001b[39;00m \u001b[39mnot\u001b[39;00m \u001b[39mhasattr\u001b[39m(img, \u001b[39m'\u001b[39m\u001b[39mndim\u001b[39m\u001b[39m'\u001b[39m):\n\u001b[0;32m     56\u001b[0m     \u001b[39mreturn\u001b[39;00m img\n",
      "File \u001b[1;32mc:\\Users\\selig\\mambaforge\\envs\\compmeth2022\\lib\\site-packages\\skimage\\io\\manage_plugins.py:207\u001b[0m, in \u001b[0;36mcall_plugin\u001b[1;34m(kind, *args, **kwargs)\u001b[0m\n\u001b[0;32m    203\u001b[0m     \u001b[39mexcept\u001b[39;00m \u001b[39mIndexError\u001b[39;00m:\n\u001b[0;32m    204\u001b[0m         \u001b[39mraise\u001b[39;00m \u001b[39mRuntimeError\u001b[39;00m(\u001b[39m'\u001b[39m\u001b[39mCould not find the plugin \u001b[39m\u001b[39m\"\u001b[39m\u001b[39m%s\u001b[39;00m\u001b[39m\"\u001b[39m\u001b[39m for \u001b[39m\u001b[39m%s\u001b[39;00m\u001b[39m.\u001b[39m\u001b[39m'\u001b[39m \u001b[39m%\u001b[39m\n\u001b[0;32m    205\u001b[0m                            (plugin, kind))\n\u001b[1;32m--> 207\u001b[0m \u001b[39mreturn\u001b[39;00m func(\u001b[39m*\u001b[39margs, \u001b[39m*\u001b[39m\u001b[39m*\u001b[39mkwargs)\n",
      "File \u001b[1;32mc:\\Users\\selig\\mambaforge\\envs\\compmeth2022\\lib\\site-packages\\skimage\\io\\_plugins\\tifffile_plugin.py:30\u001b[0m, in \u001b[0;36mimread\u001b[1;34m(fname, **kwargs)\u001b[0m\n\u001b[0;32m     27\u001b[0m \u001b[39mif\u001b[39;00m \u001b[39m'\u001b[39m\u001b[39mimg_num\u001b[39m\u001b[39m'\u001b[39m \u001b[39min\u001b[39;00m kwargs:\n\u001b[0;32m     28\u001b[0m     kwargs[\u001b[39m'\u001b[39m\u001b[39mkey\u001b[39m\u001b[39m'\u001b[39m] \u001b[39m=\u001b[39m kwargs\u001b[39m.\u001b[39mpop(\u001b[39m'\u001b[39m\u001b[39mimg_num\u001b[39m\u001b[39m'\u001b[39m)\n\u001b[1;32m---> 30\u001b[0m \u001b[39mreturn\u001b[39;00m tifffile_imread(fname, \u001b[39m*\u001b[39m\u001b[39m*\u001b[39mkwargs)\n",
      "File \u001b[1;32mc:\\Users\\selig\\mambaforge\\envs\\compmeth2022\\lib\\site-packages\\tifffile\\tifffile.py:816\u001b[0m, in \u001b[0;36mimread\u001b[1;34m(files, aszarr, **kwargs)\u001b[0m\n\u001b[0;32m    813\u001b[0m     files \u001b[39m=\u001b[39m files[\u001b[39m0\u001b[39m]\n\u001b[0;32m    815\u001b[0m \u001b[39mif\u001b[39;00m \u001b[39misinstance\u001b[39m(files, (\u001b[39mstr\u001b[39m, os\u001b[39m.\u001b[39mPathLike)) \u001b[39mor\u001b[39;00m \u001b[39mhasattr\u001b[39m(files, \u001b[39m'\u001b[39m\u001b[39mseek\u001b[39m\u001b[39m'\u001b[39m):\n\u001b[1;32m--> 816\u001b[0m     \u001b[39mwith\u001b[39;00m TiffFile(files, \u001b[39m*\u001b[39m\u001b[39m*\u001b[39mkwargs_file) \u001b[39mas\u001b[39;00m tif:\n\u001b[0;32m    817\u001b[0m         \u001b[39mif\u001b[39;00m aszarr:\n\u001b[0;32m    818\u001b[0m             \u001b[39mreturn\u001b[39;00m tif\u001b[39m.\u001b[39maszarr(\u001b[39m*\u001b[39m\u001b[39m*\u001b[39mkwargs)\n",
      "File \u001b[1;32mc:\\Users\\selig\\mambaforge\\envs\\compmeth2022\\lib\\site-packages\\tifffile\\tifffile.py:3000\u001b[0m, in \u001b[0;36mTiffFile.__init__\u001b[1;34m(self, arg, mode, name, offset, size, _multifile, _useframes, _master, **kwargs)\u001b[0m\n\u001b[0;32m   2997\u001b[0m \u001b[39mif\u001b[39;00m mode \u001b[39mnot\u001b[39;00m \u001b[39min\u001b[39;00m (\u001b[39mNone\u001b[39;00m, \u001b[39m'\u001b[39m\u001b[39mrb\u001b[39m\u001b[39m'\u001b[39m, \u001b[39m'\u001b[39m\u001b[39mr+b\u001b[39m\u001b[39m'\u001b[39m):\n\u001b[0;32m   2998\u001b[0m     \u001b[39mraise\u001b[39;00m \u001b[39mValueError\u001b[39;00m(\u001b[39mf\u001b[39m\u001b[39m'\u001b[39m\u001b[39minvalid mode \u001b[39m\u001b[39m{\u001b[39;00mmode\u001b[39m!r}\u001b[39;00m\u001b[39m'\u001b[39m)\n\u001b[1;32m-> 3000\u001b[0m fh \u001b[39m=\u001b[39m FileHandle(arg, mode\u001b[39m=\u001b[39;49mmode, name\u001b[39m=\u001b[39;49mname, offset\u001b[39m=\u001b[39;49moffset, size\u001b[39m=\u001b[39;49msize)\n\u001b[0;32m   3001\u001b[0m \u001b[39mself\u001b[39m\u001b[39m.\u001b[39m_fh \u001b[39m=\u001b[39m fh\n\u001b[0;32m   3002\u001b[0m \u001b[39mself\u001b[39m\u001b[39m.\u001b[39m_multifile \u001b[39m=\u001b[39m \u001b[39mbool\u001b[39m(_multifile)\n",
      "File \u001b[1;32mc:\\Users\\selig\\mambaforge\\envs\\compmeth2022\\lib\\site-packages\\tifffile\\tifffile.py:9537\u001b[0m, in \u001b[0;36mFileHandle.__init__\u001b[1;34m(self, file, mode, name, offset, size)\u001b[0m\n\u001b[0;32m   9535\u001b[0m \u001b[39mself\u001b[39m\u001b[39m.\u001b[39mis_file \u001b[39m=\u001b[39m \u001b[39mNone\u001b[39;00m\n\u001b[0;32m   9536\u001b[0m \u001b[39mself\u001b[39m\u001b[39m.\u001b[39m_lock \u001b[39m=\u001b[39m NullContext()\n\u001b[1;32m-> 9537\u001b[0m \u001b[39mself\u001b[39;49m\u001b[39m.\u001b[39;49mopen()\n",
      "File \u001b[1;32mc:\\Users\\selig\\mambaforge\\envs\\compmeth2022\\lib\\site-packages\\tifffile\\tifffile.py:9550\u001b[0m, in \u001b[0;36mFileHandle.open\u001b[1;34m(self)\u001b[0m\n\u001b[0;32m   9548\u001b[0m \u001b[39mself\u001b[39m\u001b[39m.\u001b[39m_file \u001b[39m=\u001b[39m os\u001b[39m.\u001b[39mpath\u001b[39m.\u001b[39mrealpath(\u001b[39mself\u001b[39m\u001b[39m.\u001b[39m_file)\n\u001b[0;32m   9549\u001b[0m \u001b[39mself\u001b[39m\u001b[39m.\u001b[39m_dir, \u001b[39mself\u001b[39m\u001b[39m.\u001b[39m_name \u001b[39m=\u001b[39m os\u001b[39m.\u001b[39mpath\u001b[39m.\u001b[39msplit(\u001b[39mself\u001b[39m\u001b[39m.\u001b[39m_file)\n\u001b[1;32m-> 9550\u001b[0m \u001b[39mself\u001b[39m\u001b[39m.\u001b[39m_fh \u001b[39m=\u001b[39m \u001b[39mopen\u001b[39;49m(\u001b[39mself\u001b[39;49m\u001b[39m.\u001b[39;49m_file, \u001b[39mself\u001b[39;49m\u001b[39m.\u001b[39;49m_mode)\n\u001b[0;32m   9551\u001b[0m \u001b[39mself\u001b[39m\u001b[39m.\u001b[39m_close \u001b[39m=\u001b[39m \u001b[39mTrue\u001b[39;00m\n\u001b[0;32m   9552\u001b[0m \u001b[39mif\u001b[39;00m \u001b[39mself\u001b[39m\u001b[39m.\u001b[39m_offset \u001b[39mis\u001b[39;00m \u001b[39mNone\u001b[39;00m:\n",
      "\u001b[1;31mFileNotFoundError\u001b[0m: [Errno 2] No such file or directory: 'C:\\\\Users\\\\kira\\\\Downloads\\\\UNI\\\\DataAnalysis\\\\topic01_team03\\\\BilderDaten\\\\BilderDaten\\\\N2DH-GOWT1\\\\img\\\\t72.tif'"
     ]
    }
   ],
   "source": [
    "import numpy as np\n",
    "from skimage import io\n",
    "\n",
    "#images benennen -> hier noch für img1 image nach otsu einfügen\n",
    "img1 = io.imread('/Users/kira/Downloads/UNI/DataAnalysis/topic01_team03/BilderDaten/BilderDaten/N2DH-GOWT1/img/t72.tif')\n",
    "img2 = io.imread('/Users/kira/Downloads/UNI/DataAnalysis/topic01_team03/BilderDaten/BilderDaten/N2DH-GOWT1/gt_binarized/man_seg72.tif')\n",
    "\n",
    "#boolean data für dicescore nötig\n",
    "\n",
    "img1 = np.asarray(img1).astype(np.bool)\n",
    "img2 = np.asarray(img2).astype(np.bool)\n",
    "\n",
    "#definiere gemeinsame elemente -> funktion vergleicht elementweise img1 mit img2\n",
    "commonelements = np.logical_and(img1, img2)\n",
    "\n",
    "#dice score ist 2*(gemeinsame elemente)/(elemente in img1 + elemente in img2)\n",
    "dsc = 2 * commonelements.sum() / (img1.sum() + img2.sum())\n",
    "print(dsc)"
   ]
  },
  {
   "cell_type": "code",
   "execution_count": null,
   "metadata": {},
   "outputs": [
    {
     "data": {
      "text/plain": [
       "<AxesSubplot:>"
      ]
     },
     "execution_count": 228,
     "metadata": {},
     "output_type": "execute_result"
    },
    {
     "data": {
      "image/png": "[encoded data removed]",
      "text/plain": [
       "<Figure size 432x288 with 1 Axes>"
      ]
     },
     "metadata": {
      "needs_background": "light"
     },
     "output_type": "display_data"
    }
   ],
   "source": [
    "dscvalues1gauss = [0.6513109066744912, 0.5576589270763136, 0.6055637917502398, 0.6526359868886547, 0.6293698048694217]\n",
    "dscvalues1none = [0.278076857380293, 0.2609383555104371, 0.24393510648313446, 0.3373632903275149, 0.3799143721694078]\n",
    "\n",
    "import pandas as pd\n",
    "import numpy as np\n",
    "\n",
    "df2 = pd.DataFrame(list(zip(dscvalues1gauss, dscvalues1none)),\n",
    "               columns =['Gauss', 'none'])\n",
    "df2\n",
    "sns.boxenplot(df2)"
   ]
  },
  {
   "cell_type": "code",
   "execution_count": null,
   "metadata": {},
   "outputs": [
    {
     "data": {
      "text/plain": [
       "<AxesSubplot:>"
      ]
     },
     "execution_count": 27,
     "metadata": {},
     "output_type": "execute_result"
    },
    {
     "data": {
      "image/png": "[encoded data removed]",
      "text/plain": [
       "<Figure size 432x288 with 1 Axes>"
      ]
     },
     "metadata": {
      "needs_background": "light"
     },
     "output_type": "display_data"
    }
   ],
   "source": [
    "import seaborn as sns\n",
    "\n",
    "sns.boxplot(dscvalues1gauss)"
   ]
  }
 ],
 "metadata": {
  "kernelspec": {
   "display_name": "Python 3",
   "language": "python",
   "name": "python3"
  },
  "language_info": {
   "codemirror_mode": {
    "name": "ipython",
    "version": 3
   },
   "file_extension": ".py",
   "mimetype": "text/x-python",
   "name": "python",
   "nbconvert_exporter": "python",
   "pygments_lexer": "ipython3",
   "version": "3.10.4"
  },
  "orig_nbformat": 4
 },
 "nbformat": 4,
 "nbformat_minor": 2
}
