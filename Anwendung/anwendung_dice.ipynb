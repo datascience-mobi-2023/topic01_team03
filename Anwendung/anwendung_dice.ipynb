{
 "cells": [
  {
   "cell_type": "code",
   "execution_count": 9,
   "id": "2dc2dd79",
   "metadata": {},
   "outputs": [],
   "source": [
    "import numpy as np\n",
    "from skimage import io\n",
    "\n",
    "\n",
    "def dice(img1, img2):\n",
    "\n",
    "#boolean data für dicescore nötig\n",
    "    img1 = np.asarray(img1).astype(bool)\n",
    "    img2 = np.asarray(img2).astype(bool)\n",
    "\n",
    "#definiere gemeinsame elemente -> funktion vergleicht elementweise img1 mit img2\n",
    "    commonelements = np.equal(img1, img2)\n",
    "    elements1 = img1.shape[0]*img1.shape[1]\n",
    "    elements2 = img2.shape[0]*img2.shape[1]\n",
    "    d = 2* commonelements.sum()/(elements1 + elements2)\n",
    "    return d\n",
    "\n",
    "\n",
    "import os\n",
    "def anwendungdice(input_path1,input_path2,dice_list):\n",
    "    files1 = os.listdir(input_path1)\n",
    "    files2 = os.listdir(input_path2)\n",
    "    for o in range(len(files1)):\n",
    "        file_path1 = os.path.join(input_path1,files1[o])\n",
    "        file_path2 = os.path.join(input_path2,files2[o])\n",
    "        d = dice(io.imread(file_path1),io.imread(file_path2))\n",
    "        dice_list.append(d)"
   ]
  },
  {
   "cell_type": "code",
   "execution_count": 23,
   "id": "b1a5887f",
   "metadata": {},
   "outputs": [
    {
     "name": "stdout",
     "output_type": "stream",
     "text": [
      "[0.8978309631347656, 0.9459800720214844, 0.8924894332885742, 0.8866996765136719, 0.941624641418457, 0.8975429534912109]\n"
     ]
    }
   ],
   "source": [
    "\n",
    "#dice score ohne prepocessing\n",
    "\n",
    "dice1_normal = list()\n",
    "anwendungdice('../Ergebnisse/Otsu/N2DH-GOWT1/','../BilderDaten/BilderDaten/N2DH-GOWT1/gt_binarized/',dice1_normal)\n",
    "\n",
    "dice2_normal = list()\n",
    "anwendungdice('../Ergebnisse/Otsu/N2DL-HeLa/','../BilderDaten/BilderDaten/N2DL-HeLa/gt_binarized/',dice2_normal)\n",
    "\n",
    "dice3_normal = list()\n",
    "anwendungdice('../Ergebnisse/Otsu/NIH3T3/','../BilderDaten/BilderDaten/NIH3T3/gt_binarized/',dice3_normal)\n",
    "\n",
    "\n"
   ]
  },
  {
   "cell_type": "code",
   "execution_count": 11,
   "id": "c1243f5a",
   "metadata": {},
   "outputs": [],
   "source": [
    "#dice score mit meanfilter\n",
    "\n",
    "#3x3\n",
    "dice1_mean3 = list()\n",
    "anwendungdice('../Ergebnisse/Mean+Otsu/N2DH-GOWT1/3x3','../BilderDaten/BilderDaten/N2DH-GOWT1/gt_binarized/',dice1_mean3)\n",
    "\n",
    "dice2_mean3 = list()\n",
    "anwendungdice('../Ergebnisse/Mean+Otsu/N2DL-HeLa/3x3','../BilderDaten/BilderDaten/N2DL-HeLa/gt_binarized/',dice2_mean3)\n",
    "\n",
    "dice3_mean3 = list()\n",
    "anwendungdice('../Ergebnisse/Mean+Otsu/NIH3T3/3x3','../BilderDaten/BilderDaten/NIH3T3/gt_binarized/',dice3_mean3)\n",
    "\n",
    "#5x5\n",
    "\n",
    "dice1_mean5 = list()\n",
    "anwendungdice('../Ergebnisse/Mean+Otsu/N2DH-GOWT1/5x5','../BilderDaten/BilderDaten/N2DH-GOWT1/gt_binarized/',dice1_mean5)\n",
    "\n",
    "dice2_mean5 = list()\n",
    "anwendungdice('../Ergebnisse/Mean+Otsu/N2DL-HeLa/5x5','../BilderDaten/BilderDaten/N2DL-HeLa/gt_binarized/',dice2_mean5)\n",
    "\n",
    "dice3_mean5 = list()\n",
    "anwendungdice('../Ergebnisse/Mean+Otsu/NIH3T3/5x5','../BilderDaten/BilderDaten/NIH3T3/gt_binarized/',dice3_mean5)"
   ]
  },
  {
   "cell_type": "code",
   "execution_count": 12,
   "id": "f30ad2e4",
   "metadata": {},
   "outputs": [],
   "source": [
    "#dice score mit medianfilter\n",
    "\n",
    "#3x3\n",
    "dice1_median3 = list()\n",
    "anwendungdice('../Ergebnisse/Median+Otsu/N2DH-GOWT1/3x3','../BilderDaten/BilderDaten/N2DH-GOWT1/gt_binarized/',dice1_median3)\n",
    "\n",
    "dice2_median3 = list()\n",
    "anwendungdice('../Ergebnisse/Median+Otsu/N2DL-HeLa/3x3','../BilderDaten/BilderDaten/N2DL-HeLa/gt_binarized/',dice2_median3)\n",
    "\n",
    "dice3_median3 = list()\n",
    "anwendungdice('../Ergebnisse/Median+Otsu/NIH3T3/3x3','../BilderDaten/BilderDaten/NIH3T3/gt_binarized/',dice3_median3)\n",
    "\n",
    "#5x5\n",
    "\n",
    "dice1_median5 = list()\n",
    "anwendungdice('../Ergebnisse/Median+Otsu/N2DH-GOWT1/5x5','../BilderDaten/BilderDaten/N2DH-GOWT1/gt_binarized/',dice1_median5)\n",
    "\n",
    "dice2_median5 = list()\n",
    "anwendungdice('../Ergebnisse/Median+Otsu/N2DL-HeLa/5x5','../BilderDaten/BilderDaten/N2DL-HeLa/gt_binarized/',dice2_median5)\n",
    "\n",
    "dice3_median5 = list()\n",
    "anwendungdice('../Ergebnisse/Median+Otsu/NIH3T3/5x5','../BilderDaten/BilderDaten/NIH3T3/gt_binarized/',dice3_median5)"
   ]
  },
  {
   "cell_type": "code",
   "execution_count": 15,
   "id": "cbd6a8eb",
   "metadata": {},
   "outputs": [],
   "source": [
    "#dice score mit gaussfilter\n",
    "\n",
    "#1\n",
    "dice1_gauss1 = list()\n",
    "anwendungdice('../Ergebnisse/Gauss+Otsu/N2DH-GOWT1/1','../BilderDaten/BilderDaten/N2DH-GOWT1/gt_binarized/',dice1_gauss1)\n",
    "\n",
    "dice2_gauss1 = list()\n",
    "anwendungdice('../Ergebnisse/Gauss+Otsu/N2DL-HeLa/1','../BilderDaten/BilderDaten/N2DL-HeLa/gt_binarized/',dice2_gauss1)\n",
    "\n",
    "dice3_gauss1 = list()\n",
    "anwendungdice('../Ergebnisse/Gauss+Otsu/NIH3T3/1','../BilderDaten/BilderDaten/NIH3T3/gt_binarized/',dice3_gauss1)\n",
    "\n",
    "#2\n",
    "dice1_gauss2 = list()\n",
    "anwendungdice('../Ergebnisse/Gauss+Otsu/N2DH-GOWT1/2','../BilderDaten/BilderDaten/N2DH-GOWT1/gt_binarized/',dice1_gauss2)\n",
    "\n",
    "dice2_gauss2 = list()\n",
    "anwendungdice('../Ergebnisse/Gauss+Otsu/N2DL-HeLa/2','../BilderDaten/BilderDaten/N2DL-HeLa/gt_binarized/',dice2_gauss2)\n",
    "\n",
    "dice3_gauss2 = list()\n",
    "anwendungdice('../Ergebnisse/Gauss+Otsu/NIH3T3/2','../BilderDaten/BilderDaten/NIH3T3/gt_binarized/',dice3_gauss2)\n",
    "\n",
    "#3\n",
    "dice1_gauss3 = list()\n",
    "anwendungdice('../Ergebnisse/Gauss+Otsu/N2DH-GOWT1/3','../BilderDaten/BilderDaten/N2DH-GOWT1/gt_binarized/',dice1_gauss3)\n",
    "\n",
    "dice2_gauss3 = list()\n",
    "anwendungdice('../Ergebnisse/Gauss+Otsu/N2DL-HeLa/3','../BilderDaten/BilderDaten/N2DL-HeLa/gt_binarized/',dice2_gauss3)\n",
    "\n",
    "dice3_gauss3 = list()\n",
    "anwendungdice('../Ergebnisse/Gauss+Otsu/NIH3T3/3','../BilderDaten/BilderDaten/NIH3T3/gt_binarized/',dice3_gauss3)"
   ]
  },
  {
   "cell_type": "code",
   "execution_count": 33,
   "id": "26f83eaf",
   "metadata": {},
   "outputs": [
    {
     "name": "stdout",
     "output_type": "stream",
     "text": [
      "[0.8978309631347656, 0.9459800720214844, 0.8924894332885742, 0.8866996765136719, 0.941624641418457, 0.8975429534912109]\n"
     ]
    }
   ],
   "source": [
    "#dice score local thresholding\n",
    "\n",
    "dice1_local = list()\n",
    "anwendungdice('../Ergebnisse/local_thresholding/N2DH-GOWT1/','../BilderDaten/BilderDaten/N2DH-GOWT1/gt_binarized/',dice1_local)\n",
    "\n",
    "#dice2_local = list()\n",
    "#anwendungdice('../Ergebnisse/local_thresholding/N2DL-HeLa/','../BilderDaten/BilderDaten/N2DL-HeLa/gt_binarized/',dice2_local)\n",
    "\n",
    "#dice3_local = list()\n",
    "#anwendungdice('../Ergebnisse/local_thresholding/NIH3T3/','../BilderDaten/BilderDaten/NIH3T3/gt_binarized/',dice3_local)\n",
    "\n",
    "#dice score mit histogramm stretching\n",
    "\n",
    "dice1_histogramm = list()\n",
    "anwendungdice('../Ergebnisse/Histogramm+Otsu/N2DH-GOWT1/','../BilderDaten/BilderDaten/N2DH-GOWT1/gt_binarized/',dice1_histogramm)\n",
    "\n",
    "dice2_histogramm = list()\n",
    "anwendungdice('../Ergebnisse/Histogramm+Otsu/N2DL-HeLa/','../BilderDaten/BilderDaten/N2DL-HeLa/gt_binarized/',dice2_histogramm)\n",
    "\n",
    "dice3_histogramm = list()\n",
    "anwendungdice('../Ergebnisse/Histogramm+Otsu/NIH3T3/','../BilderDaten/BilderDaten/NIH3T3/gt_binarized/',dice3_histogramm)\n",
    "\n",
    "\n",
    "print(dice1_histogramm)\n",
    "\n",
    "\n"
   ]
  },
  {
   "cell_type": "code",
   "execution_count": 20,
   "id": "e9274ba6",
   "metadata": {},
   "outputs": [
    {
     "name": "stdout",
     "output_type": "stream",
     "text": [
      "[0.8983564376831055, 0.9431095123291016, 0.8150901794433594, 0.8831081390380859, 0.9399557113647461, 0.9010858535766602]\n"
     ]
    }
   ],
   "source": [
    "#dice score two level otsu\n",
    "\n",
    "dice1_twolevel = list()\n",
    "anwendungdice('../Ergebnisse/twolevel_otsu/N2DH-GOWT1/','../BilderDaten/BilderDaten/N2DH-GOWT1/gt_binarized/',dice1_twolevel)\n",
    "\n",
    "#dice2_twolevel = list()\n",
    "#anwendungdice('../Ergebnisse/twolevel_otsu/N2DL-HeLa/','../BilderDaten/BilderDaten/N2DL-HeLa/gt_binarized/',dice2_twolevel)\n",
    "\n",
    "#dice3_twolevel = list()\n",
    "#anwendungdice('../Ergebnisse/twolevel_otsu/NIH3T3/','../BilderDaten/BilderDaten/NIH3T3/gt_binarized/',dice3_twolevel)\n",
    "\n"
   ]
  }
 ],
 "metadata": {
  "kernelspec": {
   "display_name": "Python 3 (ipykernel)",
   "language": "python",
   "name": "python3"
  },
  "language_info": {
   "codemirror_mode": {
    "name": "ipython",
    "version": 3
   },
   "file_extension": ".py",
   "mimetype": "text/x-python",
   "name": "python",
   "nbconvert_exporter": "python",
   "pygments_lexer": "ipython3",
   "version": "3.9.12"
  }
 },
 "nbformat": 4,
 "nbformat_minor": 5
}
