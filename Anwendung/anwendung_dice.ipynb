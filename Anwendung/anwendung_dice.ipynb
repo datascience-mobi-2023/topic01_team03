{
 "cells": [
  {
   "cell_type": "code",
   "execution_count": 1,
   "id": "2dc2dd79",
   "metadata": {},
   "outputs": [],
   "source": [
    "import numpy as np\n",
    "from skimage import io\n",
    "\n",
    "\n",
    "def dice(img1, img2):\n",
    "\n",
    "#boolean data für dicescore nötig\n",
    "    img1 = np.asarray(img1).astype(bool)\n",
    "    img2 = np.asarray(img2).astype(bool)\n",
    "\n",
    "#definiere gemeinsame elemente -> funktion vergleicht elementweise img1 mit img2\n",
    "    commonelements = np.logical_and(img1, img2)\n",
    "\n",
    "#dice score ist 2*(gemeinsame elemente)/(elemente in img1 + elemente in img2)\n",
    "    return 2 * commonelements.sum() / (img1.sum() + img2.sum())\n",
    "\n",
    "import os"
   ]
  },
  {
   "cell_type": "code",
   "execution_count": 2,
   "id": "f3b65db8",
   "metadata": {},
   "outputs": [],
   "source": [
    "def anwendungdice(input_path1,input_path2,dice_list):\n",
    "    files1 = os.listdir(input_path1)\n",
    "    files2 = os.listdir(input_path2)\n",
    "    for o in range(len(files1)):\n",
    "        file_path1 = os.path.join(input_path1,files1[o])\n",
    "        file_path2 = os.path.join(input_path2,files2[o])\n",
    "        d = dice(io.imread(file_path1),io.imread(file_path2))\n",
    "        dice_list.append(d)"
   ]
  },
  {
   "cell_type": "code",
   "execution_count": 3,
   "id": "b1a5887f",
   "metadata": {},
   "outputs": [
    {
     "ename": "TypeError",
     "evalue": "anwendungdice() missing 1 required positional argument: 'dice_list'",
     "output_type": "error",
     "traceback": [
      "\u001b[0;31m---------------------------------------------------------------------------\u001b[0m",
      "\u001b[0;31mTypeError\u001b[0m                                 Traceback (most recent call last)",
      "Input \u001b[0;32mIn [3]\u001b[0m, in \u001b[0;36m<cell line: 7>\u001b[0;34m()\u001b[0m\n\u001b[1;32m      4\u001b[0m anwendungdice(\u001b[38;5;124m'\u001b[39m\u001b[38;5;124m../Ergebnisse/Otsu/N2DL-HeLa/\u001b[39m\u001b[38;5;124m'\u001b[39m,\u001b[38;5;124m'\u001b[39m\u001b[38;5;124m../BilderDaten/BilderDaten/N2DL-HeLa/gt_binarized/\u001b[39m\u001b[38;5;124m'\u001b[39m,dice2_normal)\n\u001b[1;32m      6\u001b[0m dice3_normal \u001b[38;5;241m=\u001b[39m \u001b[38;5;28mlist\u001b[39m()\n\u001b[0;32m----> 7\u001b[0m \u001b[43manwendungdice\u001b[49m\u001b[43m(\u001b[49m\u001b[38;5;124;43m'\u001b[39;49m\u001b[38;5;124;43m../Ergebnisse/Otsu/NIH3T3/\u001b[39;49m\u001b[38;5;124;43m'\u001b[39;49m\u001b[43m,\u001b[49m\u001b[38;5;124;43m'\u001b[39;49m\u001b[38;5;124;43m../BilderDaten/BilderDaten/NIH3T3/\u001b[39;49m\u001b[38;5;124;43m'\u001b[39;49m\u001b[43m)\u001b[49m\n",
      "\u001b[0;31mTypeError\u001b[0m: anwendungdice() missing 1 required positional argument: 'dice_list'"
     ]
    }
   ],
   "source": [
    "#dice score ohne prepocessing\n",
    "\n",
    "dice2_normal = list()\n",
    "anwendungdice('../Ergebnisse/Otsu/N2DL-HeLa/','../BilderDaten/BilderDaten/N2DL-HeLa/gt_binarized/',dice2_normal)\n",
    "\n",
    "dice3_normal = list()\n",
    "anwendungdice('../Ergebnisse/Otsu/NIH3T3/','../BilderDaten/BilderDaten/NIH3T3/')"
   ]
  }
 ],
 "metadata": {
  "kernelspec": {
   "display_name": "Python 3 (ipykernel)",
   "language": "python",
   "name": "python3"
  },
  "language_info": {
   "codemirror_mode": {
    "name": "ipython",
    "version": 3
   },
   "file_extension": ".py",
   "mimetype": "text/x-python",
   "name": "python",
   "nbconvert_exporter": "python",
   "pygments_lexer": "ipython3",
   "version": "3.9.12"
  }
 },
 "nbformat": 4,
 "nbformat_minor": 5
}
