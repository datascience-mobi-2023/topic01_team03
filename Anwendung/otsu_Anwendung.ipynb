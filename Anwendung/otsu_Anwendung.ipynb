{
 "cells": [
  {
   "cell_type": "code",
   "execution_count": 2,
   "id": "15fa7a33",
   "metadata": {},
   "outputs": [],
   "source": [
    "from skimage import io\n",
    "import os\n",
    "from my_functions.otsu import otsu_thresholding \n",
    "def anwendung(function,input_path,result_path):\n",
    "    files = os.listdir(input_path)\n",
    "    for file in files:\n",
    "        file_path = os.path.join(input_path,file)\n",
    "        result_file_path = os.path.join(result_path,file)\n",
    "        result = function(io.imread(file_path))\n",
    "        io.imsave(result_file_path,result)"
   ]
  },
  {
   "cell_type": "code",
   "execution_count": null,
   "id": "d9bd8f47",
   "metadata": {},
   "outputs": [],
   "source": [
    "#Otsu Anwendung auf Datensatz 1 und 3\n",
    "\n",
    "#Anwendung auf ungefilterte Bilder\n",
    "\n",
    "#N2DH-GOWT1\n",
    "anwendung(otsu_thresholding,'../BilderDaten/BilderDaten/N2DH-GOWT1/img/','../Ergebnisse/Otsu/')\n",
    "\n",
    "\n",
    "#NIH3T3\n",
    "anwendung(otsu_thresholding,'../BilderDaten/BilderDaten/NIH3T3/img/','../Ergebnisse/Otsu/NIH3T3/')\n",
    "    \n",
    "#Anwendung auf meanfilter Bilder\n",
    "\n",
    "#N2DH-GOWT1\n",
    "anwendung(otsu_thresholding,'../Ergebnisse/Mean/N2DH-GOWT1/','../Ergebnisse/Mean+Otsu/N2DH-GOWT1/')\n",
    "\n",
    "#NIH3T3\n",
    "anwendung(otsu_thresholding,'../Ergebnisse/Mean/NIH3T3/','../Ergebnisse/Mean+Otsu/NIH3T3/')\n",
    "\n",
    "#Anwendung auf medianfilter bilder\n",
    "\n",
    "#N2DH-GOWT1\n",
    "anwendung(otsu_thresholding,'../Ergebnisse/Median/N2DH-GOWT1/','../Ergebnisse/Median+Otsu/N2DH-GOWT1/')\n",
    "\n",
    "#NIH3T3\n",
    "anwendung(otsu_thresholding,'../Ergebnisse/Median/NIH3T3/','../Ergebnisse/Median+Otsu/NIH3T3/')\n",
    "\n",
    "#anwendung auf histogramm stretching bilder\n",
    "\n",
    "#N2DH-GOWT1\n",
    "anwendung(otsu_thresholding,'../Ergebnisse/Histogramm_stretching/N2DH-GOWT1/','../Ergebnisse/Histogramm+Otsu/N2DH-GOWT1/')\n",
    "\n",
    "#NIH3T3\n",
    "anwendung(otsu_thresholding,'../Ergebnisse/Histogramm_stretching/NIH3T3/','../Ergebnisse/Histogramm+Otsu/NIH3T3/')\n",
    "\n",
    "#anwendung auf gauss bilder\n",
    "\n",
    "#N2DH-GOWT1\n",
    "anwendung(otsu_thresholding,'../Ergebnisse/Gauss/N2DH-GOWT1/','../Ergebnisse/Gauss+Otsu/N2DH-GOWT1/')\n",
    "\n",
    "#NIH3T3\n",
    "anwendung(otsu_thresholding,'../Ergebnisse/Gauss/NIH3T3/','../Ergebnisse/Gauss+Otsu/NIH3T3/')\n",
    "‚"
   ]
  }
 ],
 "metadata": {
  "kernelspec": {
   "display_name": "Python 3 (ipykernel)",
   "language": "python",
   "name": "python3"
  },
  "language_info": {
   "codemirror_mode": {
    "name": "ipython",
    "version": 3
   },
   "file_extension": ".py",
   "mimetype": "text/x-python",
   "name": "python",
   "nbconvert_exporter": "python",
   "pygments_lexer": "ipython3",
   "version": "3.9.12"
  }
 },
 "nbformat": 4,
 "nbformat_minor": 5
}
