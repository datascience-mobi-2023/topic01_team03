{
 "cells": [
  {
   "cell_type": "code",
   "execution_count": 35,
   "metadata": {},
   "outputs": [],
   "source": [
    "import os\n",
    "import io\n",
    "# import ipynb.fs.defs.otzsu_komplett"
   ]
  },
  {
   "cell_type": "code",
   "execution_count": 25,
   "metadata": {},
   "outputs": [
    {
     "ename": "NameError",
     "evalue": "name 'otsu_thresholding' is not defined",
     "output_type": "error",
     "traceback": [
      "\u001b[0;31m---------------------------------------------------------------------------\u001b[0m",
      "\u001b[0;31mNameError\u001b[0m                                 Traceback (most recent call last)",
      "\u001b[1;32m/Users/franka/compmeth2022/topic01_team03/Otsu Code/otsu_Anwendung.ipynb Cell 2\u001b[0m in \u001b[0;36m<cell line: 7>\u001b[0;34m()\u001b[0m\n\u001b[1;32m      <a href='vscode-notebook-cell:/Users/franka/compmeth2022/topic01_team03/Otsu%20Code/otsu_Anwendung.ipynb#W1sZmlsZQ%3D%3D?line=7'>8</a>\u001b[0m file_path \u001b[39m=\u001b[39m os\u001b[39m.\u001b[39mpath\u001b[39m.\u001b[39mjoin(N2DH_img_path,file)\n\u001b[1;32m      <a href='vscode-notebook-cell:/Users/franka/compmeth2022/topic01_team03/Otsu%20Code/otsu_Anwendung.ipynb#W1sZmlsZQ%3D%3D?line=8'>9</a>\u001b[0m result_file_path \u001b[39m=\u001b[39m os\u001b[39m.\u001b[39mpath\u001b[39m.\u001b[39mjoin(N2DH_result_path,file)\n\u001b[0;32m---> <a href='vscode-notebook-cell:/Users/franka/compmeth2022/topic01_team03/Otsu%20Code/otsu_Anwendung.ipynb#W1sZmlsZQ%3D%3D?line=9'>10</a>\u001b[0m result \u001b[39m=\u001b[39m otsu_thresholding(io\u001b[39m.\u001b[39mimread(file_path))\n\u001b[1;32m     <a href='vscode-notebook-cell:/Users/franka/compmeth2022/topic01_team03/Otsu%20Code/otsu_Anwendung.ipynb#W1sZmlsZQ%3D%3D?line=10'>11</a>\u001b[0m io\u001b[39m.\u001b[39mimsave(result_file_path,result)\n",
      "\u001b[0;31mNameError\u001b[0m: name 'otsu_thresholding' is not defined"
     ]
    }
   ],
   "source": [
    "#auf Bilder anwenden\n",
    "\n",
    "#N2DH-GOWT1\n",
    "N2DH_img_path = '../BilderDaten/BilderDaten/N2DH-GOWT1/img/'\n",
    "N2DH_img_files = os.listdir(N2DH_img_path)\n",
    "N2DH_result_path = '../Ergebnisse/Otsu Ergebnisse/N2DH-GOWT1/'\n",
    "for file in N2DH_img_files:\n",
    "    file_path = os.path.join(N2DH_img_path,file)\n",
    "    result_file_path = os.path.join(N2DH_result_path,file)\n",
    "    result = otsu_thresholding(io.imread(file_path))\n",
    "    io.imsave(result_file_path,result)\n",
    "    \n",
    "#N2DL-HeLa"
   ]
  }
 ],
 "metadata": {
  "kernelspec": {
   "display_name": "compmeth2022",
   "language": "python",
   "name": "python3"
  },
  "language_info": {
   "codemirror_mode": {
    "name": "ipython",
    "version": 3
   },
   "file_extension": ".py",
   "mimetype": "text/x-python",
   "name": "python",
   "nbconvert_exporter": "python",
   "pygments_lexer": "ipython3",
   "version": "3.9.12"
  },
  "orig_nbformat": 4
 },
 "nbformat": 4,
 "nbformat_minor": 2
}
