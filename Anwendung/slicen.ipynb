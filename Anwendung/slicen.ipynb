{
 "cells": [
  {
   "cell_type": "code",
   "execution_count": 67,
   "metadata": {},
   "outputs": [
    {
     "ename": "IndexError",
     "evalue": "too many indices for array: array is 2-dimensional, but 3 were indexed",
     "output_type": "error",
     "traceback": [
      "\u001b[0;31m---------------------------------------------------------------------------\u001b[0m",
      "\u001b[0;31mIndexError\u001b[0m                                Traceback (most recent call last)",
      "\u001b[1;32m/Users/franka/Documents/Bioinfo Projekt/topic01_team03/Anwendung/slicen.ipynb Cell 1\u001b[0m in \u001b[0;36m<cell line: 8>\u001b[0;34m()\u001b[0m\n\u001b[1;32m      <a href='vscode-notebook-cell:/Users/franka/Documents/Bioinfo%20Projekt/topic01_team03/Anwendung/slicen.ipynb#W0sZmlsZQ%3D%3D?line=3'>4</a>\u001b[0m     img2 \u001b[39m=\u001b[39m img[:,:,\u001b[39m0\u001b[39m]\n\u001b[1;32m      <a href='vscode-notebook-cell:/Users/franka/Documents/Bioinfo%20Projekt/topic01_team03/Anwendung/slicen.ipynb#W0sZmlsZQ%3D%3D?line=4'>5</a>\u001b[0m     io\u001b[39m.\u001b[39mimsave(path,img2)\n\u001b[0;32m----> <a href='vscode-notebook-cell:/Users/franka/Documents/Bioinfo%20Projekt/topic01_team03/Anwendung/slicen.ipynb#W0sZmlsZQ%3D%3D?line=7'>8</a>\u001b[0m \u001b[39mslice\u001b[39;49m(\u001b[39m'\u001b[39;49m\u001b[39m../Ergebnisse/Gauss+Histo+Otsu/NIH3T3/3/dna-37.png\u001b[39;49m\u001b[39m'\u001b[39;49m)\n",
      "\u001b[1;32m/Users/franka/Documents/Bioinfo Projekt/topic01_team03/Anwendung/slicen.ipynb Cell 1\u001b[0m in \u001b[0;36mslice\u001b[0;34m(path)\u001b[0m\n\u001b[1;32m      <a href='vscode-notebook-cell:/Users/franka/Documents/Bioinfo%20Projekt/topic01_team03/Anwendung/slicen.ipynb#W0sZmlsZQ%3D%3D?line=1'>2</a>\u001b[0m \u001b[39mdef\u001b[39;00m \u001b[39mslice\u001b[39m(path):\n\u001b[1;32m      <a href='vscode-notebook-cell:/Users/franka/Documents/Bioinfo%20Projekt/topic01_team03/Anwendung/slicen.ipynb#W0sZmlsZQ%3D%3D?line=2'>3</a>\u001b[0m     img \u001b[39m=\u001b[39m io\u001b[39m.\u001b[39mimread(path)\n\u001b[0;32m----> <a href='vscode-notebook-cell:/Users/franka/Documents/Bioinfo%20Projekt/topic01_team03/Anwendung/slicen.ipynb#W0sZmlsZQ%3D%3D?line=3'>4</a>\u001b[0m     img2 \u001b[39m=\u001b[39m img[:,:,\u001b[39m0\u001b[39;49m]\n\u001b[1;32m      <a href='vscode-notebook-cell:/Users/franka/Documents/Bioinfo%20Projekt/topic01_team03/Anwendung/slicen.ipynb#W0sZmlsZQ%3D%3D?line=4'>5</a>\u001b[0m     io\u001b[39m.\u001b[39mimsave(path,img2)\n",
      "\u001b[0;31mIndexError\u001b[0m: too many indices for array: array is 2-dimensional, but 3 were indexed"
     ]
    }
   ],
   "source": [
    "from skimage import io\n",
    "def slice(path):\n",
    "    img = io.imread(path)\n",
    "    img2 = img[:,:,0]\n",
    "    io.imsave(path,img2)\n",
    "    \n",
    "\n",
    "slice('../Ergebnisse/Gauss+Otsu/NIH3T3/3/dna-37.png')\n",
    "\n",
    "\n",
    "\n"
   ]
  },
  {
   "cell_type": "code",
   "execution_count": 28,
   "metadata": {},
   "outputs": [
    {
     "name": "stdout",
     "output_type": "stream",
     "text": [
      "0.9708825974237352\n"
     ]
    }
   ],
   "source": [
    "import numpy as np\n",
    "img1 = io.imread('../Ergebnisse/Otsu/NIH3T3/dna-0.png')\n",
    "img2 = io.imread('../BilderDaten/BilderDaten/NIH3T3/gt_binarized/0.png')\n",
    "img1 = np.asarray(img1).astype(bool)\n",
    "img2 = np.asarray(img2).astype(bool)\n",
    "commonelements = np.equal(img1, img2)\n",
    "elements1 = img1.shape[0]*img1.shape[1]\n",
    "elements2 = img2.shape[0]*img2.shape[1]\n",
    "d = 2* commonelements.sum()/(elements1 + elements2)\n",
    "print(d)\n",
    "\n"
   ]
  },
  {
   "cell_type": "code",
   "execution_count": 55,
   "metadata": {},
   "outputs": [],
   "source": [
    "def slice2(path):\n",
    "    img = io.imread(path)\n",
    "    img2 = img[100:img.shape[0]-100,100:img.shape[1]-100]\n",
    "    io.imsave(path,img2)"
   ]
  },
  {
   "cell_type": "code",
   "execution_count": 68,
   "metadata": {},
   "outputs": [
    {
     "data": {
      "text/plain": [
       "141"
      ]
     },
     "execution_count": 68,
     "metadata": {},
     "output_type": "execute_result"
    }
   ],
   "source": [
    "\n",
    "img = io.imread('../BilderDaten/BilderDaten/N2DH-GOWT1/img/t01.tif')\n",
    "max(img.ravel())\n",
    "#min(img.ravel())\n"
   ]
  },
  {
   "cell_type": "code",
   "execution_count": 63,
   "metadata": {},
   "outputs": [],
   "source": [
    "slice2('../Ergebnisse/local_thresholding/N2DH-GOWT1/t72.tif')"
   ]
  },
  {
   "cell_type": "code",
   "execution_count": 57,
   "metadata": {},
   "outputs": [
    {
     "ename": "OSError",
     "evalue": "Cannot understand given URI: array([[0, 0, 0, ..., 0, 0, 0],\n       [0, 2, 0, ..., 0, ....",
     "output_type": "error",
     "traceback": [
      "\u001b[0;31m---------------------------------------------------------------------------\u001b[0m",
      "\u001b[0;31mOSError\u001b[0m                                   Traceback (most recent call last)",
      "\u001b[1;32m/Users/franka/Documents/Bioinfo Projekt/topic01_team03/Anwendung/slicen.ipynb Cell 6\u001b[0m in \u001b[0;36m<cell line: 1>\u001b[0;34m()\u001b[0m\n\u001b[0;32m----> <a href='vscode-notebook-cell:/Users/franka/Documents/Bioinfo%20Projekt/topic01_team03/Anwendung/slicen.ipynb#W6sZmlsZQ%3D%3D?line=0'>1</a>\u001b[0m anwendung(slice2,\u001b[39m'\u001b[39;49m\u001b[39m../Ergebnisse/local_thresholding/N2DH-GOWT1/\u001b[39;49m\u001b[39m'\u001b[39;49m)\n",
      "\u001b[1;32m/Users/franka/Documents/Bioinfo Projekt/topic01_team03/Anwendung/slicen.ipynb Cell 6\u001b[0m in \u001b[0;36manwendung\u001b[0;34m(function, input_path)\u001b[0m\n\u001b[1;32m      <a href='vscode-notebook-cell:/Users/franka/Documents/Bioinfo%20Projekt/topic01_team03/Anwendung/slicen.ipynb#W6sZmlsZQ%3D%3D?line=3'>4</a>\u001b[0m \u001b[39mfor\u001b[39;00m file \u001b[39min\u001b[39;00m files:\n\u001b[1;32m      <a href='vscode-notebook-cell:/Users/franka/Documents/Bioinfo%20Projekt/topic01_team03/Anwendung/slicen.ipynb#W6sZmlsZQ%3D%3D?line=4'>5</a>\u001b[0m     file_path \u001b[39m=\u001b[39m os\u001b[39m.\u001b[39mpath\u001b[39m.\u001b[39mjoin(input_path,file)\n\u001b[0;32m----> <a href='vscode-notebook-cell:/Users/franka/Documents/Bioinfo%20Projekt/topic01_team03/Anwendung/slicen.ipynb#W6sZmlsZQ%3D%3D?line=5'>6</a>\u001b[0m     result \u001b[39m=\u001b[39m function(io\u001b[39m.\u001b[39;49mimread(file_path))\n\u001b[1;32m      <a href='vscode-notebook-cell:/Users/franka/Documents/Bioinfo%20Projekt/topic01_team03/Anwendung/slicen.ipynb#W6sZmlsZQ%3D%3D?line=6'>7</a>\u001b[0m     io\u001b[39m.\u001b[39mimsave(file_path,result)\n",
      "\u001b[1;32m/Users/franka/Documents/Bioinfo Projekt/topic01_team03/Anwendung/slicen.ipynb Cell 6\u001b[0m in \u001b[0;36mslice2\u001b[0;34m(path)\u001b[0m\n\u001b[1;32m      <a href='vscode-notebook-cell:/Users/franka/Documents/Bioinfo%20Projekt/topic01_team03/Anwendung/slicen.ipynb#W6sZmlsZQ%3D%3D?line=0'>1</a>\u001b[0m \u001b[39mdef\u001b[39;00m \u001b[39mslice2\u001b[39m(path):\n\u001b[0;32m----> <a href='vscode-notebook-cell:/Users/franka/Documents/Bioinfo%20Projekt/topic01_team03/Anwendung/slicen.ipynb#W6sZmlsZQ%3D%3D?line=1'>2</a>\u001b[0m     img \u001b[39m=\u001b[39m io\u001b[39m.\u001b[39;49mimread(path)\n\u001b[1;32m      <a href='vscode-notebook-cell:/Users/franka/Documents/Bioinfo%20Projekt/topic01_team03/Anwendung/slicen.ipynb#W6sZmlsZQ%3D%3D?line=2'>3</a>\u001b[0m     img2 \u001b[39m=\u001b[39m img[\u001b[39m100\u001b[39m:img\u001b[39m.\u001b[39mshape[\u001b[39m0\u001b[39m]\u001b[39m-\u001b[39m\u001b[39m100\u001b[39m,\u001b[39m100\u001b[39m:img\u001b[39m.\u001b[39mshape[\u001b[39m1\u001b[39m]\u001b[39m-\u001b[39m\u001b[39m100\u001b[39m]\n\u001b[1;32m      <a href='vscode-notebook-cell:/Users/franka/Documents/Bioinfo%20Projekt/topic01_team03/Anwendung/slicen.ipynb#W6sZmlsZQ%3D%3D?line=3'>4</a>\u001b[0m     io\u001b[39m.\u001b[39mimsave(path,img2)\n",
      "File \u001b[0;32m~/mambaforge/envs/compmeth2022/lib/python3.9/site-packages/skimage/io/_io.py:53\u001b[0m, in \u001b[0;36mimread\u001b[0;34m(fname, as_gray, plugin, **plugin_args)\u001b[0m\n\u001b[1;32m     50\u001b[0m         plugin \u001b[39m=\u001b[39m \u001b[39m'\u001b[39m\u001b[39mtifffile\u001b[39m\u001b[39m'\u001b[39m\n\u001b[1;32m     52\u001b[0m \u001b[39mwith\u001b[39;00m file_or_url_context(fname) \u001b[39mas\u001b[39;00m fname:\n\u001b[0;32m---> 53\u001b[0m     img \u001b[39m=\u001b[39m call_plugin(\u001b[39m'\u001b[39;49m\u001b[39mimread\u001b[39;49m\u001b[39m'\u001b[39;49m, fname, plugin\u001b[39m=\u001b[39;49mplugin, \u001b[39m*\u001b[39;49m\u001b[39m*\u001b[39;49mplugin_args)\n\u001b[1;32m     55\u001b[0m \u001b[39mif\u001b[39;00m \u001b[39mnot\u001b[39;00m \u001b[39mhasattr\u001b[39m(img, \u001b[39m'\u001b[39m\u001b[39mndim\u001b[39m\u001b[39m'\u001b[39m):\n\u001b[1;32m     56\u001b[0m     \u001b[39mreturn\u001b[39;00m img\n",
      "File \u001b[0;32m~/mambaforge/envs/compmeth2022/lib/python3.9/site-packages/skimage/io/manage_plugins.py:207\u001b[0m, in \u001b[0;36mcall_plugin\u001b[0;34m(kind, *args, **kwargs)\u001b[0m\n\u001b[1;32m    203\u001b[0m     \u001b[39mexcept\u001b[39;00m \u001b[39mIndexError\u001b[39;00m:\n\u001b[1;32m    204\u001b[0m         \u001b[39mraise\u001b[39;00m \u001b[39mRuntimeError\u001b[39;00m(\u001b[39m'\u001b[39m\u001b[39mCould not find the plugin \u001b[39m\u001b[39m\"\u001b[39m\u001b[39m%s\u001b[39;00m\u001b[39m\"\u001b[39m\u001b[39m for \u001b[39m\u001b[39m%s\u001b[39;00m\u001b[39m.\u001b[39m\u001b[39m'\u001b[39m \u001b[39m%\u001b[39m\n\u001b[1;32m    205\u001b[0m                            (plugin, kind))\n\u001b[0;32m--> 207\u001b[0m \u001b[39mreturn\u001b[39;00m func(\u001b[39m*\u001b[39;49margs, \u001b[39m*\u001b[39;49m\u001b[39m*\u001b[39;49mkwargs)\n",
      "File \u001b[0;32m~/mambaforge/envs/compmeth2022/lib/python3.9/site-packages/skimage/io/_plugins/imageio_plugin.py:10\u001b[0m, in \u001b[0;36mimread\u001b[0;34m(*args, **kwargs)\u001b[0m\n\u001b[1;32m      8\u001b[0m \u001b[39m@wraps\u001b[39m(imageio_imread)\n\u001b[1;32m      9\u001b[0m \u001b[39mdef\u001b[39;00m \u001b[39mimread\u001b[39m(\u001b[39m*\u001b[39margs, \u001b[39m*\u001b[39m\u001b[39m*\u001b[39mkwargs):\n\u001b[0;32m---> 10\u001b[0m     \u001b[39mreturn\u001b[39;00m np\u001b[39m.\u001b[39masarray(imageio_imread(\u001b[39m*\u001b[39;49margs, \u001b[39m*\u001b[39;49m\u001b[39m*\u001b[39;49mkwargs))\n",
      "File \u001b[0;32m~/mambaforge/envs/compmeth2022/lib/python3.9/site-packages/imageio/core/functions.py:265\u001b[0m, in \u001b[0;36mimread\u001b[0;34m(uri, format, **kwargs)\u001b[0m\n\u001b[1;32m    260\u001b[0m     \u001b[39mraise\u001b[39;00m \u001b[39mTypeError\u001b[39;00m(\n\u001b[1;32m    261\u001b[0m         \u001b[39m'\u001b[39m\u001b[39mInvalid keyword argument \u001b[39m\u001b[39m\"\u001b[39m\u001b[39mmode\u001b[39m\u001b[39m\"\u001b[39m\u001b[39m, \u001b[39m\u001b[39m'\u001b[39m \u001b[39m'\u001b[39m\u001b[39mperhaps you mean \u001b[39m\u001b[39m\"\u001b[39m\u001b[39mpilmode\u001b[39m\u001b[39m\"\u001b[39m\u001b[39m?\u001b[39m\u001b[39m'\u001b[39m\n\u001b[1;32m    262\u001b[0m     )\n\u001b[1;32m    264\u001b[0m \u001b[39m# Get reader and read first\u001b[39;00m\n\u001b[0;32m--> 265\u001b[0m reader \u001b[39m=\u001b[39m read(uri, \u001b[39mformat\u001b[39;49m, \u001b[39m\"\u001b[39;49m\u001b[39mi\u001b[39;49m\u001b[39m\"\u001b[39;49m, \u001b[39m*\u001b[39;49m\u001b[39m*\u001b[39;49mkwargs)\n\u001b[1;32m    266\u001b[0m \u001b[39mwith\u001b[39;00m reader:\n\u001b[1;32m    267\u001b[0m     \u001b[39mreturn\u001b[39;00m reader\u001b[39m.\u001b[39mget_data(\u001b[39m0\u001b[39m)\n",
      "File \u001b[0;32m~/mambaforge/envs/compmeth2022/lib/python3.9/site-packages/imageio/core/functions.py:172\u001b[0m, in \u001b[0;36mget_reader\u001b[0;34m(uri, format, mode, **kwargs)\u001b[0m\n\u001b[1;32m    149\u001b[0m \u001b[39m\"\"\" get_reader(uri, format=None, mode='?', **kwargs)\u001b[39;00m\n\u001b[1;32m    150\u001b[0m \n\u001b[1;32m    151\u001b[0m \u001b[39mReturns a :class:`.Reader` object which can be used to read data\u001b[39;00m\n\u001b[0;32m   (...)\u001b[0m\n\u001b[1;32m    168\u001b[0m \u001b[39m    to see what arguments are available for a particular format.\u001b[39;00m\n\u001b[1;32m    169\u001b[0m \u001b[39m\"\"\"\u001b[39;00m\n\u001b[1;32m    171\u001b[0m \u001b[39m# Create request object\u001b[39;00m\n\u001b[0;32m--> 172\u001b[0m request \u001b[39m=\u001b[39m Request(uri, \u001b[39m\"\u001b[39;49m\u001b[39mr\u001b[39;49m\u001b[39m\"\u001b[39;49m \u001b[39m+\u001b[39;49m mode, \u001b[39m*\u001b[39;49m\u001b[39m*\u001b[39;49mkwargs)\n\u001b[1;32m    174\u001b[0m \u001b[39m# Get format\u001b[39;00m\n\u001b[1;32m    175\u001b[0m \u001b[39mif\u001b[39;00m \u001b[39mformat\u001b[39m \u001b[39mis\u001b[39;00m \u001b[39mnot\u001b[39;00m \u001b[39mNone\u001b[39;00m:\n",
      "File \u001b[0;32m~/mambaforge/envs/compmeth2022/lib/python3.9/site-packages/imageio/core/request.py:124\u001b[0m, in \u001b[0;36mRequest.__init__\u001b[0;34m(self, uri, mode, **kwargs)\u001b[0m\n\u001b[1;32m    121\u001b[0m     \u001b[39mraise\u001b[39;00m \u001b[39mValueError\u001b[39;00m(\u001b[39m'\u001b[39m\u001b[39mRequest requires mode[1] to be in \u001b[39m\u001b[39m\"\u001b[39m\u001b[39miIvV?\u001b[39m\u001b[39m\"\u001b[39m\u001b[39m'\u001b[39m)\n\u001b[1;32m    123\u001b[0m \u001b[39m# Parse what was given\u001b[39;00m\n\u001b[0;32m--> 124\u001b[0m \u001b[39mself\u001b[39;49m\u001b[39m.\u001b[39;49m_parse_uri(uri)\n\u001b[1;32m    126\u001b[0m \u001b[39m# Set extension\u001b[39;00m\n\u001b[1;32m    127\u001b[0m \u001b[39mif\u001b[39;00m \u001b[39mself\u001b[39m\u001b[39m.\u001b[39m_filename \u001b[39mis\u001b[39;00m \u001b[39mnot\u001b[39;00m \u001b[39mNone\u001b[39;00m:\n",
      "File \u001b[0;32m~/mambaforge/envs/compmeth2022/lib/python3.9/site-packages/imageio/core/request.py:222\u001b[0m, in \u001b[0;36mRequest._parse_uri\u001b[0;34m(self, uri)\u001b[0m\n\u001b[1;32m    220\u001b[0m     \u001b[39mif\u001b[39;00m \u001b[39mlen\u001b[39m(uri_r) \u001b[39m>\u001b[39m \u001b[39m60\u001b[39m:\n\u001b[1;32m    221\u001b[0m         uri_r \u001b[39m=\u001b[39m uri_r[:\u001b[39m57\u001b[39m] \u001b[39m+\u001b[39m \u001b[39m\"\u001b[39m\u001b[39m...\u001b[39m\u001b[39m\"\u001b[39m\n\u001b[0;32m--> 222\u001b[0m     \u001b[39mraise\u001b[39;00m \u001b[39mIOError\u001b[39;00m(\u001b[39m\"\u001b[39m\u001b[39mCannot understand given URI: \u001b[39m\u001b[39m%s\u001b[39;00m\u001b[39m.\u001b[39m\u001b[39m\"\u001b[39m \u001b[39m%\u001b[39m uri_r)\n\u001b[1;32m    224\u001b[0m \u001b[39m# Check if this is supported\u001b[39;00m\n\u001b[1;32m    225\u001b[0m noWriting \u001b[39m=\u001b[39m [URI_HTTP, URI_FTP]\n",
      "\u001b[0;31mOSError\u001b[0m: Cannot understand given URI: array([[0, 0, 0, ..., 0, 0, 0],\n       [0, 2, 0, ..., 0, ...."
     ]
    }
   ],
   "source": []
  }
 ],
 "metadata": {
  "kernelspec": {
   "display_name": "compmeth2022",
   "language": "python",
   "name": "python3"
  },
  "language_info": {
   "codemirror_mode": {
    "name": "ipython",
    "version": 3
   },
   "file_extension": ".py",
   "mimetype": "text/x-python",
   "name": "python",
   "nbconvert_exporter": "python",
   "pygments_lexer": "ipython3",
   "version": "3.9.12"
  },
  "orig_nbformat": 4
 },
 "nbformat": 4,
 "nbformat_minor": 2
}
