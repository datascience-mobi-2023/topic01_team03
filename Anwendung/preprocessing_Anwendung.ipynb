{
 "cells": [
  {
   "cell_type": "code",
   "execution_count": null,
   "id": "9cdb8610",
   "metadata": {},
   "outputs": [],
   "source": [
    "from skimage import io\n",
    "import os\n",
    "from scipy.ndimage import gaussian_filter,median_filter,uniform_filter\n",
    "from my_functions.histogram import histogrammstretching\n",
    "\n",
    "def anwendungfilter(function,input_path,result_path,S):\n",
    "    files = os.listdir(input_path)\n",
    "    for file in files:\n",
    "        file_path = os.path.join(input_path,file)\n",
    "        result_file_path = os.path.join(result_path,file)\n",
    "        result = function(io.imread(file_path),size = S)\n",
    "        io.imsave(result_file_path,result)"
   ]
  },
  {
   "cell_type": "code",
   "execution_count": null,
   "id": "dd5cc4c1",
   "metadata": {},
   "outputs": [],
   "source": [
    "#Anwendung Mean filter Größe 3X3\n",
    "\n",
    "#M2DH-GOWT1\n",
    "anwendungfilter(uniform_filter,'../BilderDaten/BilderDaten/N2DH-GOWT1/img/','../Ergebnisse/Mean/N2DH-GOWT1/',S =3)\n",
    "\n",
    "#N2DL-HeLa\n",
    "anwendungfilter(uniform_filter,'../BilderDaten/BilderDaten/N2DL-HeLa/img/','../Ergebnisse/Mean/N2DL-HeLa/',S =3)\n",
    "\n",
    "#NIH3T3\n",
    "anwendungfilter(uniform_filter,'../BilderDaten/BilderDaten/NIH3T3/img/','../Ergebnisse/Mean/NIH3T3/',S=3)\n",
    "\n",
    "#Anwendung Median Filter Größe 3X3\n",
    "\n",
    "#M2DH-GOWT1\n",
    "anwendungfilter(median_filter,'../BilderDaten/BilderDaten/N2DH-GOWT1/img/','../Ergebnisse/Median/N2DH-GOWT1/',S =3)\n",
    "\n",
    "#N2DL-HeLa\n",
    "anwendungfilter(median_filter,'../BilderDaten/BilderDaten/N2DL-HeLa/img/','../Ergebnisse/Median/N2DL-HeLa/',S =3)\n",
    "\n",
    "#NIH3T3\n",
    "anwendungfilter(median_filter,'../BilderDaten/BilderDaten/NIH3T3/img/','../Ergebnisse/Median/NIH3T3/',S=3)"
   ]
  },
  {
   "cell_type": "code",
   "execution_count": null,
   "id": "84b0728a",
   "metadata": {},
   "outputs": [],
   "source": [
    "def anwendunggauss(function,input_path,result_path,S):\n",
    "    files = os.listdir(input_path)\n",
    "    for file in files:\n",
    "        file_path = os.path.join(input_path,file)\n",
    "        result_file_path = os.path.join(result_path,file)\n",
    "        result = function(io.imread(file_path),sigma = S)\n",
    "        io.imsave(result_file_path,result)\n",
    "\n",
    "#Anwendung Gauss Filter sigma = 1\n",
    "\n",
    "#M2DH-GOWT1\n",
    "anwendunggauss(gaussian_filter,'../BilderDaten/BilderDaten/N2DH-GOWT1/img/','../Ergebnisse/Gauss/N2DH-GOWT1/',S =1)\n",
    "\n",
    "#N2DL-HeLa\n",
    "anwendunggauss(gaussian_filter,'../BilderDaten/BilderDaten/N2DL-HeLa/img/','../Ergebnisse/Gauss/N2DL-HeLa/',S =1 )\n",
    "\n",
    "#NIH3T3\n",
    "anwendunggauss(gaussian_filter,'../BilderDaten/BilderDaten/NIH3T3/img/','../Ergebnisse/Gauss/NIH3T3/',S =1 )"
   ]
  },
  {
   "cell_type": "code",
   "execution_count": 1,
   "id": "09bda287",
   "metadata": {},
   "outputs": [
    {
     "ename": "NameError",
     "evalue": "name 'os' is not defined",
     "output_type": "error",
     "traceback": [
      "\u001b[0;31m---------------------------------------------------------------------------\u001b[0m",
      "\u001b[0;31mNameError\u001b[0m                                 Traceback (most recent call last)",
      "Input \u001b[0;32mIn [1]\u001b[0m, in \u001b[0;36m<cell line: 24>\u001b[0;34m()\u001b[0m\n\u001b[1;32m     18\u001b[0m     \u001b[38;5;28;01mreturn\u001b[39;00m img_copy\n\u001b[1;32m     20\u001b[0m \u001b[38;5;66;03m#anwendung histogrammstretching\u001b[39;00m\n\u001b[1;32m     21\u001b[0m \n\u001b[1;32m     22\u001b[0m \n\u001b[1;32m     23\u001b[0m \u001b[38;5;66;03m#M2DH-GOWT1\u001b[39;00m\n\u001b[0;32m---> 24\u001b[0m \u001b[43manwendung\u001b[49m\u001b[43m(\u001b[49m\u001b[43mhistogrammstretching\u001b[49m\u001b[43m,\u001b[49m\u001b[38;5;124;43m'\u001b[39;49m\u001b[38;5;124;43m../BilderDaten/BilderDaten/N2DH-GOWT1/img/\u001b[39;49m\u001b[38;5;124;43m'\u001b[39;49m\u001b[43m,\u001b[49m\u001b[38;5;124;43m'\u001b[39;49m\u001b[38;5;124;43m../Ergebnisse/Histogramm_stretching//N2DH-GOWT1/\u001b[39;49m\u001b[38;5;124;43m'\u001b[39;49m\u001b[43m)\u001b[49m\n\u001b[1;32m     26\u001b[0m \u001b[38;5;66;03m#N2DL-HeLa\u001b[39;00m\n\u001b[1;32m     27\u001b[0m anwendung(histogrammstretching,\u001b[38;5;124m'\u001b[39m\u001b[38;5;124m../BilderDaten/BilderDaten/N2DL-HeLa/img/\u001b[39m\u001b[38;5;124m'\u001b[39m,\u001b[38;5;124m'\u001b[39m\u001b[38;5;124m../Ergebnisse/Histogramm_stretching/N2DL-HeLa/\u001b[39m\u001b[38;5;124m'\u001b[39m)\n",
      "Input \u001b[0;32mIn [1]\u001b[0m, in \u001b[0;36manwendung\u001b[0;34m(function, input_path, result_path)\u001b[0m\n\u001b[1;32m      1\u001b[0m \u001b[38;5;28;01mdef\u001b[39;00m \u001b[38;5;21manwendung\u001b[39m(function,input_path,result_path):\n\u001b[0;32m----> 2\u001b[0m     files \u001b[38;5;241m=\u001b[39m \u001b[43mos\u001b[49m\u001b[38;5;241m.\u001b[39mlistdir(input_path)\n\u001b[1;32m      3\u001b[0m     \u001b[38;5;28;01mfor\u001b[39;00m file \u001b[38;5;129;01min\u001b[39;00m files:\n\u001b[1;32m      4\u001b[0m         file_path \u001b[38;5;241m=\u001b[39m os\u001b[38;5;241m.\u001b[39mpath\u001b[38;5;241m.\u001b[39mjoin(input_path,file)\n",
      "\u001b[0;31mNameError\u001b[0m: name 'os' is not defined"
     ]
    }
   ],
   "source": [
    "def anwendung(function,input_path,result_path):\n",
    "    files = os.listdir(input_path)\n",
    "    for file in files:\n",
    "        file_path = os.path.join(input_path,file)\n",
    "        result_file_path = os.path.join(result_path,file)\n",
    "        result = function(io.imread(file_path))\n",
    "        io.imsave(result_file_path,result)\n",
    "\n",
    "import numpy as np\n",
    "def histogrammstretching(img):\n",
    "    a = 0\n",
    "    b = 255\n",
    "    c = min(img.ravel())\n",
    "    d = max(img.ravel())\n",
    "    img_copy = img.copy()\n",
    "    for p in np.ndindex(img_copy.shape):\n",
    "        img_copy[p] = (img[p]-c) * ((b-a)/(d-c))+a\n",
    "    return img_copy\n",
    "\n",
    "#anwendung histogrammstretching\n",
    "\n",
    "\n",
    "#M2DH-GOWT1\n",
    "anwendung(histogrammstretching,'../BilderDaten/BilderDaten/N2DH-GOWT1/img/','../Ergebnisse/Histogramm_stretching//N2DH-GOWT1/')\n",
    "\n",
    "#N2DL-HeLa\n",
    "anwendung(histogrammstretching,'../BilderDaten/BilderDaten/N2DL-HeLa/img/','../Ergebnisse/Histogramm_stretching/N2DL-HeLa/')\n",
    "\n",
    "#NIH3T3\n",
    "anwendung(histogrammstretching,'../BilderDaten/BilderDaten/NIH3T3/img/','../Ergebnisse/Histogramm_stretching/NIH3T3/')"
   ]
  },
  {
   "cell_type": "code",
   "execution_count": null,
   "id": "20c823e0",
   "metadata": {},
   "outputs": [],
   "source": []
  }
 ],
 "metadata": {
  "kernelspec": {
   "display_name": "Python 3 (ipykernel)",
   "language": "python",
   "name": "python3"
  },
  "language_info": {
   "codemirror_mode": {
    "name": "ipython",
    "version": 3
   },
   "file_extension": ".py",
   "mimetype": "text/x-python",
   "name": "python",
   "nbconvert_exporter": "python",
   "pygments_lexer": "ipython3",
   "version": "3.9.12"
  }
 },
 "nbformat": 4,
 "nbformat_minor": 5
}
