{
 "cells": [
  {
   "cell_type": "code",
   "execution_count": 205,
   "metadata": {},
   "outputs": [],
   "source": [
    "import pandas as pd\n",
    "import numpy as np\n",
    "import os\n",
    "from skimage import io\n",
    "import seaborn as sns\n",
    "import matplotlib as mlp\n",
    "\n",
    "\n",
    "def dice(img1, img2):\n",
    "\n",
    "#boolean data für dicescore nötig\n",
    "    img1 = np.asarray(img1).astype(bool)\n",
    "    img2 = np.asarray(img2).astype(bool)\n",
    "\n",
    "#definiere gemeinsame elemente -> funktion vergleicht elementweise img1 mit img2\n",
    "    commonelements = np.equal(img1, img2)\n",
    "    elements1 = img1.shape[0]*img1.shape[1]\n",
    "    elements2 = img2.shape[0]*img2.shape[1]\n",
    "    d = 2* commonelements.sum()/(elements1 + elements2)\n",
    "    return d\n",
    "\n",
    "import os\n",
    "def anwendungdice(input_path1,input_path2,dice_list):\n",
    "    files1 = os.listdir(input_path1)\n",
    "    files2 = os.listdir(input_path2)\n",
    "    for o in range(len(files1)):\n",
    "        file_path1 = os.path.join(input_path1,files1[o])\n",
    "        file_path2 = os.path.join(input_path2,files2[o])\n",
    "        d = dice(io.imread(file_path1),io.imread(file_path2))\n",
    "        dice_list.append(d)"
   ]
  },
  {
   "cell_type": "code",
   "execution_count": 206,
   "metadata": {},
   "outputs": [
    {
     "data": {
      "text/plain": [
       "[0.8978309631347656,\n",
       " 0.9459800720214844,\n",
       " 0.8924894332885742,\n",
       " 0.8866996765136719,\n",
       " 0.941624641418457,\n",
       " 0.8975429534912109]"
      ]
     },
     "execution_count": 206,
     "metadata": {},
     "output_type": "execute_result"
    }
   ],
   "source": [
    "\n",
    "dice1_otsu = list()\n",
    "anwendungdice('/Users/kira/Downloads/UNI/DataAnalysis/topic01_team03/Ergebnisse/Otsu/N2DH-GOWT1/','/Users/kira/Downloads/UNI/DataAnalysis/topic01_team03/BilderDaten/BilderDaten/N2DH-GOWT1/gt_binarized/', dice1_otsu)\n",
    "dice1_otsu\n"
   ]
  },
  {
   "cell_type": "code",
   "execution_count": 207,
   "metadata": {},
   "outputs": [
    {
     "data": {
      "text/plain": [
       "[0.8117618560791016,\n",
       " 0.8127117156982422,\n",
       " 0.8174829483032227,\n",
       " 0.7530574798583984,\n",
       " 0.8052158355712891,\n",
       " 0.8169879913330078]"
      ]
     },
     "execution_count": 207,
     "metadata": {},
     "output_type": "execute_result"
    }
   ],
   "source": [
    "dice1_local = list()\n",
    "anwendungdice('/Users/kira/Downloads/UNI/DataAnalysis/topic01_team03/Ergebnisse/local_thresholding/N2DH-GOWT1/','/Users/kira/Downloads/UNI/DataAnalysis/topic01_team03/BilderDaten/BilderDaten/N2DH-GOWT1/gt_binarized/',dice1_local)\n",
    "dice1_local"
   ]
  },
  {
   "cell_type": "code",
   "execution_count": 208,
   "metadata": {},
   "outputs": [
    {
     "data": {
      "text/plain": [
       "[0.8983564376831055,\n",
       " 0.9431095123291016,\n",
       " 0.8150901794433594,\n",
       " 0.8831081390380859,\n",
       " 0.9399557113647461,\n",
       " 0.9010858535766602]"
      ]
     },
     "execution_count": 208,
     "metadata": {},
     "output_type": "execute_result"
    }
   ],
   "source": [
    "dice1_multi = list()\n",
    "anwendungdice('/Users/kira/Downloads/UNI/DataAnalysis/topic01_team03/Ergebnisse/twolevel_otsu/N2DH-GOWT1/','/Users/kira/Downloads/UNI/DataAnalysis/topic01_team03/BilderDaten/BilderDaten/N2DH-GOWT1/gt_binarized/',dice1_multi)\n",
    "dice1_multi"
   ]
  },
  {
   "cell_type": "code",
   "execution_count": 209,
   "metadata": {},
   "outputs": [
    {
     "data": {
      "text/html": [
       "<div>\n",
       "<style scoped>\n",
       "    .dataframe tbody tr th:only-of-type {\n",
       "        vertical-align: middle;\n",
       "    }\n",
       "\n",
       "    .dataframe tbody tr th {\n",
       "        vertical-align: top;\n",
       "    }\n",
       "\n",
       "    .dataframe thead th {\n",
       "        text-align: right;\n",
       "    }\n",
       "</style>\n",
       "<table border=\"1\" class=\"dataframe\">\n",
       "  <thead>\n",
       "    <tr style=\"text-align: right;\">\n",
       "      <th></th>\n",
       "      <th>Otsu</th>\n",
       "      <th>Two-level</th>\n",
       "      <th>Local</th>\n",
       "    </tr>\n",
       "  </thead>\n",
       "  <tbody>\n",
       "    <tr>\n",
       "      <th>0</th>\n",
       "      <td>0.897831</td>\n",
       "      <td>0.898356</td>\n",
       "      <td>0.811762</td>\n",
       "    </tr>\n",
       "    <tr>\n",
       "      <th>1</th>\n",
       "      <td>0.945980</td>\n",
       "      <td>0.943110</td>\n",
       "      <td>0.812712</td>\n",
       "    </tr>\n",
       "    <tr>\n",
       "      <th>2</th>\n",
       "      <td>0.892489</td>\n",
       "      <td>0.815090</td>\n",
       "      <td>0.817483</td>\n",
       "    </tr>\n",
       "    <tr>\n",
       "      <th>3</th>\n",
       "      <td>0.886700</td>\n",
       "      <td>0.883108</td>\n",
       "      <td>0.753057</td>\n",
       "    </tr>\n",
       "    <tr>\n",
       "      <th>4</th>\n",
       "      <td>0.941625</td>\n",
       "      <td>0.939956</td>\n",
       "      <td>0.805216</td>\n",
       "    </tr>\n",
       "    <tr>\n",
       "      <th>5</th>\n",
       "      <td>0.897543</td>\n",
       "      <td>0.901086</td>\n",
       "      <td>0.816988</td>\n",
       "    </tr>\n",
       "  </tbody>\n",
       "</table>\n",
       "</div>"
      ],
      "text/plain": [
       "       Otsu  Two-level     Local\n",
       "0  0.897831   0.898356  0.811762\n",
       "1  0.945980   0.943110  0.812712\n",
       "2  0.892489   0.815090  0.817483\n",
       "3  0.886700   0.883108  0.753057\n",
       "4  0.941625   0.939956  0.805216\n",
       "5  0.897543   0.901086  0.816988"
      ]
     },
     "execution_count": 209,
     "metadata": {},
     "output_type": "execute_result"
    }
   ],
   "source": [
    "dice1_thresholding1 = pd.DataFrame({'Otsu': dice1_otsu, 'Two-level': dice1_multi, 'Local' : dice1_local})\n",
    "dice1_thresholding1"
   ]
  },
  {
   "cell_type": "code",
   "execution_count": 210,
   "metadata": {},
   "outputs": [
    {
     "data": {
      "text/plain": [
       "Otsu         0.910361\n",
       "Two-level    0.896784\n",
       "Local        0.802870\n",
       "dtype: float64"
      ]
     },
     "execution_count": 210,
     "metadata": {},
     "output_type": "execute_result"
    }
   ],
   "source": [
    "pd.DataFrame.mean(dice1_thresholding1)"
   ]
  },
  {
   "cell_type": "markdown",
   "metadata": {},
   "source": []
  },
  {
   "cell_type": "code",
   "execution_count": 211,
   "metadata": {},
   "outputs": [
    {
     "data": {
      "text/plain": [
       "Text(0, 0.5, 'Dice Score')"
      ]
     },
     "execution_count": 211,
     "metadata": {},
     "output_type": "execute_result"
    },
    {
     "data": {
      "image/png": "[encoded data removed]",
      "text/plain": [
       "<Figure size 432x288 with 1 Axes>"
      ]
     },
     "metadata": {
      "needs_background": "light"
     },
     "output_type": "display_data"
    }
   ],
   "source": [
    "import matplotlib.pyplot as plt\n",
    "dice1_thresholding1  = sns.boxplot(dice1_thresholding1, palette ='husl', showmeans = True, meanprops = {'marker':'o', 'markerfacecolor': 'black', 'markeredgecolor':'black', 'markersize': '6'})\n",
    "dice1_thresholding1.set_xticklabels(dice1_thresholding1.get_xticklabels(), rotation = 70)\n",
    "dice1_thresholding1.set_title('Different thresholding techniques - N2DH-GOWT1')\n",
    "dice1_thresholding1.set_ylim(0.7,1)\n",
    "dice1_thresholding1.set_ylabel('Dice Score')\n"
   ]
  }
 ],
 "metadata": {
  "kernelspec": {
   "display_name": "Python 3",
   "language": "python",
   "name": "python3"
  },
  "language_info": {
   "codemirror_mode": {
    "name": "ipython",
    "version": 3
   },
   "file_extension": ".py",
   "mimetype": "text/x-python",
   "name": "python",
   "nbconvert_exporter": "python",
   "pygments_lexer": "ipython3",
   "version": "3.10.4"
  },
  "orig_nbformat": 4
 },
 "nbformat": 4,
 "nbformat_minor": 2
}
