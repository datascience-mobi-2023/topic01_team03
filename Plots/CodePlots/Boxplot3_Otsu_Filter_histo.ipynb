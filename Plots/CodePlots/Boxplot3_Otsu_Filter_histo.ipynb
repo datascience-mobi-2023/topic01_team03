{
 "cells": [
  {
   "cell_type": "code",
   "execution_count": 4,
   "metadata": {},
   "outputs": [],
   "source": [
    "import pandas as pd\n",
    "import numpy as np\n",
    "import os\n",
    "from skimage import io\n",
    "import seaborn as sns\n",
    "import matplotlib as mlp\n",
    "\n",
    "\n",
    "def dice(img1, img2):\n",
    "\n",
    "#boolean data für dicescore nötig\n",
    "    img1 = np.asarray(img1).astype(bool)\n",
    "    img2 = np.asarray(img2).astype(bool)\n",
    "\n",
    "#definiere gemeinsame elemente -> funktion vergleicht elementweise img1 mit img2\n",
    "    commonelements = np.equal(img1, img2)\n",
    "    elements1 = img1.shape[0]*img1.shape[1]\n",
    "    elements2 = img2.shape[0]*img2.shape[1]\n",
    "    d = 2* commonelements.sum()/(elements1 + elements2)\n",
    "    return d\n",
    "\n",
    "import os\n",
    "def anwendungdice(input_path1,input_path2,dice_list):\n",
    "    files1 = os.listdir(input_path1)\n",
    "    files2 = os.listdir(input_path2)\n",
    "    for o in range(len(files1)):\n",
    "        file_path1 = os.path.join(input_path1,files1[o])\n",
    "        file_path2 = os.path.join(input_path2,files2[o])\n",
    "        d = dice(io.imread(file_path1),io.imread(file_path2))\n",
    "        dice_list.append(d)"
   ]
  },
  {
   "cell_type": "code",
   "execution_count": 5,
   "metadata": {},
   "outputs": [],
   "source": [
    "\n",
    "dice3_otsu = list()\n",
    "anwendungdice('/Users/kira/Downloads/UNI/DataAnalysis/topic01_team03/Ergebnisse/Otsu/NIH3T3','/Users/kira/Downloads/UNI/DataAnalysis/topic01_team03/BilderDaten/BilderDaten/NIH3T3/gt_binarized/', dice3_otsu)"
   ]
  },
  {
   "cell_type": "code",
   "execution_count": 6,
   "metadata": {},
   "outputs": [
    {
     "ename": "ValueError",
     "evalue": "operands could not be broadcast together with shapes (1024,1344,3) (1024,1344) ",
     "output_type": "error",
     "traceback": [
      "\u001b[0;31m---------------------------------------------------------------------------\u001b[0m",
      "\u001b[0;31mValueError\u001b[0m                                Traceback (most recent call last)",
      "\u001b[1;32m/Users/kira/Downloads/UNI/DataAnalysis/topic01_team03/Plots/CodePlots/Boxplot3_Otsu_Filter_histo.ipynb Cell 3\u001b[0m in \u001b[0;36m<cell line: 2>\u001b[0;34m()\u001b[0m\n\u001b[1;32m      <a href='vscode-notebook-cell:/Users/kira/Downloads/UNI/DataAnalysis/topic01_team03/Plots/CodePlots/Boxplot3_Otsu_Filter_histo.ipynb#Y104sZmlsZQ%3D%3D?line=0'>1</a>\u001b[0m dice3_gauss1_histo \u001b[39m=\u001b[39m \u001b[39mlist\u001b[39m()\n\u001b[0;32m----> <a href='vscode-notebook-cell:/Users/kira/Downloads/UNI/DataAnalysis/topic01_team03/Plots/CodePlots/Boxplot3_Otsu_Filter_histo.ipynb#Y104sZmlsZQ%3D%3D?line=1'>2</a>\u001b[0m anwendungdice(\u001b[39m'\u001b[39;49m\u001b[39m/Users/kira/Downloads/UNI/DataAnalysis/topic01_team03/Ergebnisse/Gauss+Histo+Otsu/NIH3T3/1/\u001b[39;49m\u001b[39m'\u001b[39;49m,\u001b[39m'\u001b[39;49m\u001b[39m/Users/kira/Downloads/UNI/DataAnalysis/topic01_team03/BilderDaten/BilderDaten/NIH3T3/gt_binarized/\u001b[39;49m\u001b[39m'\u001b[39;49m,dice3_gauss1_histo)\n",
      "\u001b[1;32m/Users/kira/Downloads/UNI/DataAnalysis/topic01_team03/Plots/CodePlots/Boxplot3_Otsu_Filter_histo.ipynb Cell 3\u001b[0m in \u001b[0;36manwendungdice\u001b[0;34m(input_path1, input_path2, dice_list)\u001b[0m\n\u001b[1;32m     <a href='vscode-notebook-cell:/Users/kira/Downloads/UNI/DataAnalysis/topic01_team03/Plots/CodePlots/Boxplot3_Otsu_Filter_histo.ipynb#Y104sZmlsZQ%3D%3D?line=26'>27</a>\u001b[0m file_path1 \u001b[39m=\u001b[39m os\u001b[39m.\u001b[39mpath\u001b[39m.\u001b[39mjoin(input_path1,files1[o])\n\u001b[1;32m     <a href='vscode-notebook-cell:/Users/kira/Downloads/UNI/DataAnalysis/topic01_team03/Plots/CodePlots/Boxplot3_Otsu_Filter_histo.ipynb#Y104sZmlsZQ%3D%3D?line=27'>28</a>\u001b[0m file_path2 \u001b[39m=\u001b[39m os\u001b[39m.\u001b[39mpath\u001b[39m.\u001b[39mjoin(input_path2,files2[o])\n\u001b[0;32m---> <a href='vscode-notebook-cell:/Users/kira/Downloads/UNI/DataAnalysis/topic01_team03/Plots/CodePlots/Boxplot3_Otsu_Filter_histo.ipynb#Y104sZmlsZQ%3D%3D?line=28'>29</a>\u001b[0m d \u001b[39m=\u001b[39m dice(io\u001b[39m.\u001b[39;49mimread(file_path1),io\u001b[39m.\u001b[39;49mimread(file_path2))\n\u001b[1;32m     <a href='vscode-notebook-cell:/Users/kira/Downloads/UNI/DataAnalysis/topic01_team03/Plots/CodePlots/Boxplot3_Otsu_Filter_histo.ipynb#Y104sZmlsZQ%3D%3D?line=29'>30</a>\u001b[0m dice_list\u001b[39m.\u001b[39mappend(d)\n",
      "\u001b[1;32m/Users/kira/Downloads/UNI/DataAnalysis/topic01_team03/Plots/CodePlots/Boxplot3_Otsu_Filter_histo.ipynb Cell 3\u001b[0m in \u001b[0;36mdice\u001b[0;34m(img1, img2)\u001b[0m\n\u001b[1;32m     <a href='vscode-notebook-cell:/Users/kira/Downloads/UNI/DataAnalysis/topic01_team03/Plots/CodePlots/Boxplot3_Otsu_Filter_histo.ipynb#Y104sZmlsZQ%3D%3D?line=12'>13</a>\u001b[0m     img2 \u001b[39m=\u001b[39m np\u001b[39m.\u001b[39masarray(img2)\u001b[39m.\u001b[39mastype(\u001b[39mbool\u001b[39m)\n\u001b[1;32m     <a href='vscode-notebook-cell:/Users/kira/Downloads/UNI/DataAnalysis/topic01_team03/Plots/CodePlots/Boxplot3_Otsu_Filter_histo.ipynb#Y104sZmlsZQ%3D%3D?line=14'>15</a>\u001b[0m \u001b[39m#definiere gemeinsame elemente -> funktion vergleicht elementweise img1 mit img2\u001b[39;00m\n\u001b[0;32m---> <a href='vscode-notebook-cell:/Users/kira/Downloads/UNI/DataAnalysis/topic01_team03/Plots/CodePlots/Boxplot3_Otsu_Filter_histo.ipynb#Y104sZmlsZQ%3D%3D?line=15'>16</a>\u001b[0m     commonelements \u001b[39m=\u001b[39m np\u001b[39m.\u001b[39;49mequal(img1, img2)\n\u001b[1;32m     <a href='vscode-notebook-cell:/Users/kira/Downloads/UNI/DataAnalysis/topic01_team03/Plots/CodePlots/Boxplot3_Otsu_Filter_histo.ipynb#Y104sZmlsZQ%3D%3D?line=16'>17</a>\u001b[0m     elements1 \u001b[39m=\u001b[39m img1\u001b[39m.\u001b[39mshape[\u001b[39m0\u001b[39m]\u001b[39m*\u001b[39mimg1\u001b[39m.\u001b[39mshape[\u001b[39m1\u001b[39m]\n\u001b[1;32m     <a href='vscode-notebook-cell:/Users/kira/Downloads/UNI/DataAnalysis/topic01_team03/Plots/CodePlots/Boxplot3_Otsu_Filter_histo.ipynb#Y104sZmlsZQ%3D%3D?line=17'>18</a>\u001b[0m     elements2 \u001b[39m=\u001b[39m img2\u001b[39m.\u001b[39mshape[\u001b[39m0\u001b[39m]\u001b[39m*\u001b[39mimg2\u001b[39m.\u001b[39mshape[\u001b[39m1\u001b[39m]\n",
      "\u001b[0;31mValueError\u001b[0m: operands could not be broadcast together with shapes (1024,1344,3) (1024,1344) "
     ]
    }
   ],
   "source": [
    "dice3_gauss1_histo = list()\n",
    "anwendungdice('/Users/kira/Downloads/UNI/DataAnalysis/topic01_team03/Ergebnisse/Gauss+Histo+Otsu/NIH3T3/1/','/Users/kira/Downloads/UNI/DataAnalysis/topic01_team03/BilderDaten/BilderDaten/NIH3T3/gt_binarized/',dice3_gauss1_histo)"
   ]
  },
  {
   "cell_type": "code",
   "execution_count": null,
   "metadata": {},
   "outputs": [],
   "source": [
    "dice3_none = list()\n",
    "anwendungdice('/Users/kira/Downloads/UNI/DataAnalysis/topic01_team03/BilderDaten/BilderDaten/NIH3T3/img','/Users/kira/Downloads/UNI/DataAnalysis/topic01_team03/BilderDaten/BilderDaten/NIH3T3/gt_binarized/', dice3_none)\n"
   ]
  },
  {
   "cell_type": "code",
   "execution_count": null,
   "metadata": {},
   "outputs": [],
   "source": [
    "dice3_gauss2_histo = list()\n",
    "anwendungdice('/Users/kira/Downloads/UNI/DataAnalysis/topic01_team03/Ergebnisse/Gauss+Histo+Otsu/NIH3T3/2','/Users/kira/Downloads/UNI/DataAnalysis/topic01_team03/BilderDaten/BilderDaten/NIH3T3/gt_binarized/',dice3_gauss2_histo)"
   ]
  },
  {
   "cell_type": "code",
   "execution_count": null,
   "metadata": {},
   "outputs": [],
   "source": [
    "dice3_gauss3_histo = list()\n",
    "anwendungdice('/Users/kira/Downloads/UNI/DataAnalysis/topic01_team03/Ergebnisse/Gauss+Histo+Otsu/NIH3T3/3','/Users/kira/Downloads/UNI/DataAnalysis/topic01_team03/BilderDaten/BilderDaten/NIH3T3/gt_binarized/',dice3_gauss3_histo)\n"
   ]
  },
  {
   "cell_type": "code",
   "execution_count": null,
   "metadata": {},
   "outputs": [],
   "source": [
    "dice3_mean3_histo = list()\n",
    "anwendungdice('/Users/kira/Downloads/UNI/DataAnalysis/topic01_team03/Ergebnisse/Mean+Histo+Otsu/NIH3T3/3x3','/Users/kira/Downloads/UNI/DataAnalysis/topic01_team03/BilderDaten/BilderDaten/NIH3T3/gt_binarized/',dice3_mean3_histo)\n"
   ]
  },
  {
   "cell_type": "code",
   "execution_count": null,
   "metadata": {},
   "outputs": [],
   "source": [
    "dice3_mean5_histo = list()\n",
    "anwendungdice('/Users/kira/Downloads/UNI/DataAnalysis/topic01_team03/Ergebnisse/Mean+Histo+Otsu/NIH3T3/5x5','/Users/kira/Downloads/UNI/DataAnalysis/topic01_team03/BilderDaten/BilderDaten/NIH3T3/gt_binarized/',dice3_mean5_histo)"
   ]
  },
  {
   "cell_type": "code",
   "execution_count": null,
   "metadata": {},
   "outputs": [],
   "source": [
    "dice3_median3_histo = list()\n",
    "anwendungdice('/Users/kira/Downloads/UNI/DataAnalysis/topic01_team03/Ergebnisse/Median+Histo+Otsu/NIH3T3/3x3','/Users/kira/Downloads/UNI/DataAnalysis/topic01_team03/BilderDaten/BilderDaten/NIH3T3/gt_binarized/',dice3_median3_histo)"
   ]
  },
  {
   "cell_type": "code",
   "execution_count": null,
   "metadata": {},
   "outputs": [],
   "source": [
    "dice3_median5_histo = list()\n",
    "anwendungdice('/Users/kira/Downloads/UNI/DataAnalysis/topic01_team03/Ergebnisse/Median+Histo+Otsu/NIH3T3/5x5','/Users/kira/Downloads/UNI/DataAnalysis/topic01_team03/BilderDaten/BilderDaten/NIH3T3/gt_binarized/',dice3_median5_histo)"
   ]
  },
  {
   "cell_type": "code",
   "execution_count": null,
   "metadata": {},
   "outputs": [
    {
     "data": {
      "text/html": [
       "<div>\n",
       "<style scoped>\n",
       "    .dataframe tbody tr th:only-of-type {\n",
       "        vertical-align: middle;\n",
       "    }\n",
       "\n",
       "    .dataframe tbody tr th {\n",
       "        vertical-align: top;\n",
       "    }\n",
       "\n",
       "    .dataframe thead th {\n",
       "        text-align: right;\n",
       "    }\n",
       "</style>\n",
       "<table border=\"1\" class=\"dataframe\">\n",
       "  <thead>\n",
       "    <tr style=\"text-align: right;\">\n",
       "      <th></th>\n",
       "      <th>none</th>\n",
       "      <th>Otsu</th>\n",
       "      <th>Histo+Gauss, sigma = 1</th>\n",
       "      <th>Histo+Gauss, sigma = 2</th>\n",
       "      <th>Histo+Gauss+, sigma = 3</th>\n",
       "      <th>Histo+Mean 3x3</th>\n",
       "      <th>Histo+Mean 5x5</th>\n",
       "      <th>Histo+Median 3x3</th>\n",
       "      <th>Histo+Median 5x5</th>\n",
       "    </tr>\n",
       "  </thead>\n",
       "  <tbody>\n",
       "    <tr>\n",
       "      <th>0</th>\n",
       "      <td>0.637366</td>\n",
       "      <td>0.897831</td>\n",
       "      <td>0.897720</td>\n",
       "      <td>0.896092</td>\n",
       "      <td>0.896718</td>\n",
       "      <td>0.896783</td>\n",
       "      <td>0.897469</td>\n",
       "      <td>0.892966</td>\n",
       "      <td>0.894040</td>\n",
       "    </tr>\n",
       "    <tr>\n",
       "      <th>1</th>\n",
       "      <td>0.585195</td>\n",
       "      <td>0.945980</td>\n",
       "      <td>0.946425</td>\n",
       "      <td>0.946866</td>\n",
       "      <td>0.947673</td>\n",
       "      <td>0.946552</td>\n",
       "      <td>0.946479</td>\n",
       "      <td>0.946200</td>\n",
       "      <td>0.945926</td>\n",
       "    </tr>\n",
       "    <tr>\n",
       "      <th>2</th>\n",
       "      <td>0.579154</td>\n",
       "      <td>0.892489</td>\n",
       "      <td>0.891178</td>\n",
       "      <td>0.891121</td>\n",
       "      <td>0.890164</td>\n",
       "      <td>0.890756</td>\n",
       "      <td>0.890918</td>\n",
       "      <td>0.890993</td>\n",
       "      <td>0.891535</td>\n",
       "    </tr>\n",
       "    <tr>\n",
       "      <th>3</th>\n",
       "      <td>0.533031</td>\n",
       "      <td>0.886700</td>\n",
       "      <td>0.885340</td>\n",
       "      <td>0.884560</td>\n",
       "      <td>0.883573</td>\n",
       "      <td>0.884939</td>\n",
       "      <td>0.884177</td>\n",
       "      <td>0.883936</td>\n",
       "      <td>0.887760</td>\n",
       "    </tr>\n",
       "    <tr>\n",
       "      <th>4</th>\n",
       "      <td>0.614565</td>\n",
       "      <td>0.941625</td>\n",
       "      <td>0.941653</td>\n",
       "      <td>0.941841</td>\n",
       "      <td>0.942080</td>\n",
       "      <td>0.941557</td>\n",
       "      <td>0.941713</td>\n",
       "      <td>0.941750</td>\n",
       "      <td>0.941686</td>\n",
       "    </tr>\n",
       "    <tr>\n",
       "      <th>5</th>\n",
       "      <td>0.602458</td>\n",
       "      <td>0.897543</td>\n",
       "      <td>0.902507</td>\n",
       "      <td>0.903717</td>\n",
       "      <td>0.902177</td>\n",
       "      <td>0.901365</td>\n",
       "      <td>0.902691</td>\n",
       "      <td>0.899744</td>\n",
       "      <td>0.901385</td>\n",
       "    </tr>\n",
       "  </tbody>\n",
       "</table>\n",
       "</div>"
      ],
      "text/plain": [
       "       none      Otsu  Histo+Gauss, sigma = 1  Histo+Gauss, sigma = 2  \\\n",
       "0  0.637366  0.897831                0.897720                0.896092   \n",
       "1  0.585195  0.945980                0.946425                0.946866   \n",
       "2  0.579154  0.892489                0.891178                0.891121   \n",
       "3  0.533031  0.886700                0.885340                0.884560   \n",
       "4  0.614565  0.941625                0.941653                0.941841   \n",
       "5  0.602458  0.897543                0.902507                0.903717   \n",
       "\n",
       "   Histo+Gauss+, sigma = 3  Histo+Mean 3x3  Histo+Mean 5x5  Histo+Median 3x3  \\\n",
       "0                 0.896718        0.896783        0.897469          0.892966   \n",
       "1                 0.947673        0.946552        0.946479          0.946200   \n",
       "2                 0.890164        0.890756        0.890918          0.890993   \n",
       "3                 0.883573        0.884939        0.884177          0.883936   \n",
       "4                 0.942080        0.941557        0.941713          0.941750   \n",
       "5                 0.902177        0.901365        0.902691          0.899744   \n",
       "\n",
       "   Histo+Median 5x5  \n",
       "0          0.894040  \n",
       "1          0.945926  \n",
       "2          0.891535  \n",
       "3          0.887760  \n",
       "4          0.941686  \n",
       "5          0.901385  "
      ]
     },
     "execution_count": 191,
     "metadata": {},
     "output_type": "execute_result"
    }
   ],
   "source": [
    "dice3_filter_histo = pd.DataFrame({'none': dice3_none, 'Otsu': dice3_otsu, 'Histo+Gauss, sigma = 1' : dice3_gauss1_histo,  'Histo+Gauss, sigma = 2' : dice3_gauss2_histo, 'Histo+Gauss+, sigma = 3'  : dice3_gauss3_histo, 'Histo+Mean 3x3': dice3_mean3_histo , 'Histo+Mean 5x5' : dice3_mean5_histo, 'Histo+Median 3x3': dice3_median3_histo , 'Histo+Median 5x5': dice3_median5_histo})\n",
    "dice3_filter_histo"
   ]
  },
  {
   "cell_type": "code",
   "execution_count": null,
   "metadata": {},
   "outputs": [
    {
     "data": {
      "text/plain": [
       "none                       0.591961\n",
       "Otsu                       0.910361\n",
       "Histo+Gauss, sigma = 1     0.910804\n",
       "Histo+Gauss, sigma = 2     0.910700\n",
       "Histo+Gauss+, sigma = 3    0.910397\n",
       "Histo+Mean 3x3             0.910325\n",
       "Histo+Mean 5x5             0.910574\n",
       "Histo+Median 3x3           0.909265\n",
       "Histo+Median 5x5           0.910389\n",
       "dtype: float64"
      ]
     },
     "execution_count": 192,
     "metadata": {},
     "output_type": "execute_result"
    }
   ],
   "source": [
    "pd.DataFrame.mean(dice3_filter_histo)"
   ]
  },
  {
   "cell_type": "code",
   "execution_count": null,
   "metadata": {},
   "outputs": [
    {
     "data": {
      "text/plain": [
       "Text(0, 0.5, 'Dice Score')"
      ]
     },
     "execution_count": 193,
     "metadata": {},
     "output_type": "execute_result"
    },
    {
     "data": {
      "image/png": "[encoded data removed]",
      "text/plain": [
       "<Figure size 432x288 with 1 Axes>"
      ]
     },
     "metadata": {
      "needs_background": "light"
     },
     "output_type": "display_data"
    }
   ],
   "source": [
    "import matplotlib.pyplot as plt\n",
    "dice3_filter_histo  = sns.boxplot(dice3_filter_histo, palette ='muted', showmeans = True, meanprops = {'marker':'o', 'markerfacecolor': 'black', 'markeredgecolor':'black', 'markersize': '4'})\n",
    "dice3_filter_histo.set_xticklabels(dice3_filter_histo.get_xticklabels(), rotation = 80)\n",
    "dice3_filter_histo.set_title('Comparism of different filters + histogram stretching + Otsu - N2DH-GOWT1')\n",
    "dice3_filter_histo.set_ylim(0.5,1)\n",
    "dice3_filter_histo.set_ylabel('Dice Score')"
   ]
  }
 ],
 "metadata": {
  "kernelspec": {
   "display_name": "Python 3",
   "language": "python",
   "name": "python3"
  },
  "language_info": {
   "codemirror_mode": {
    "name": "ipython",
    "version": 3
   },
   "file_extension": ".py",
   "mimetype": "text/x-python",
   "name": "python",
   "nbconvert_exporter": "python",
   "pygments_lexer": "ipython3",
   "version": "3.10.4"
  },
  "orig_nbformat": 4
 },
 "nbformat": 4,
 "nbformat_minor": 2
}
