{
 "cells": [
  {
   "cell_type": "code",
   "execution_count": 14,
   "metadata": {},
   "outputs": [
    {
     "data": {
      "text/plain": [
       "0.043210785965695005"
      ]
     },
     "execution_count": 14,
     "metadata": {},
     "output_type": "execute_result"
    }
   ],
   "source": [
    "import numpy as np\n",
    "from skimage import io\n",
    "\n",
    "#images benennen -> hier noch für img1 image nach otsu einfügen\n",
    "img1 = io.imread('C:/Users/selig/mambaforge/envs/compmeth2022/Data/N2DH-GOWT1/img/t01.tif')\n",
    "img2 = io.imread(\"C:/Users/selig/mambaforge/envs/compmeth2022/Data/N2DH-GOWT1/gt/man_seg01.tif\")\n",
    "\n",
    "#boolean data für dicescore nötig\n",
    "def dice(img1, img2):\n",
    "    img1 = np.asarray(img1).astype(np.bool)\n",
    "    img2 = np.asarray(img2).astype(np.bool)\n",
    "\n",
    "#definiere gemeinsame elemente -> funktion vergleicht elementweise img1 mit img2\n",
    "commonelements = np.logical_and(img1, img2)\n",
    "\n",
    "#dice score ist 2*(gemeinsame elemente)/(elemente in img1 + elemente in img2)\n",
    "2 * commonelements.sum() / (img1.sum() + img2.sum())"
   ]
  },
  {
   "cell_type": "code",
   "execution_count": 15,
   "metadata": {},
   "outputs": [
    {
     "name": "stdout",
     "output_type": "stream",
     "text": [
      "[[False False False ... False False False]\n",
      " [False False False ... False False False]\n",
      " [False False False ... False False False]\n",
      " ...\n",
      " [False False False ... False False False]\n",
      " [False False False ... False False False]\n",
      " [False False False ... False False False]]\n",
      "72445\n"
     ]
    }
   ],
   "source": [
    "#chunk ist nur für mein verständnis, ob die gemeinsamen elemente mit der np.logical_end funktion berechnet werden können\n",
    "\n",
    "#definiere gemeinsame elemente -> funktion vergleicht elementweise img1 mit img2\n",
    "commonelements = np.logical_and(img1, img2)\n",
    "\n",
    "#zahl an gemeinsamen elementen wird berechnet\n",
    "print(commonelements)\n",
    "sum1 = commonelements.sum()\n",
    "print(sum1)"
   ]
  }
 ],
 "metadata": {
  "kernelspec": {
   "display_name": "Python 3",
   "language": "python",
   "name": "python3"
  },
  "language_info": {
   "codemirror_mode": {
    "name": "ipython",
    "version": 3
   },
   "file_extension": ".py",
   "mimetype": "text/x-python",
   "name": "python",
   "nbconvert_exporter": "python",
   "pygments_lexer": "ipython3",
   "version": "3.10.4"
  },
  "orig_nbformat": 4
 },
 "nbformat": 4,
 "nbformat_minor": 2
}
