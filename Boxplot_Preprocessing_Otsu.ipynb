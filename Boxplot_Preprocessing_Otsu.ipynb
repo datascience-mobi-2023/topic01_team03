{
 "cells": [
  {
   "cell_type": "code",
   "execution_count": 1,
   "metadata": {},
   "outputs": [
    {
     "ename": "ModuleNotFoundError",
     "evalue": "No module named 'seaborn'",
     "output_type": "error",
     "traceback": [
      "\u001b[1;31m---------------------------------------------------------------------------\u001b[0m",
      "\u001b[1;31mModuleNotFoundError\u001b[0m                       Traceback (most recent call last)",
      "\u001b[1;32mc:\\Users\\selig\\topic01_team03\\Boxplot_Preprocessing_Otsu.ipynb Cell 1\u001b[0m in \u001b[0;36m<cell line: 5>\u001b[1;34m()\u001b[0m\n\u001b[0;32m      <a href='vscode-notebook-cell:/c%3A/Users/selig/topic01_team03/Boxplot_Preprocessing_Otsu.ipynb#W0sZmlsZQ%3D%3D?line=2'>3</a>\u001b[0m \u001b[39mimport\u001b[39;00m \u001b[39mos\u001b[39;00m\n\u001b[0;32m      <a href='vscode-notebook-cell:/c%3A/Users/selig/topic01_team03/Boxplot_Preprocessing_Otsu.ipynb#W0sZmlsZQ%3D%3D?line=3'>4</a>\u001b[0m \u001b[39mfrom\u001b[39;00m \u001b[39mskimage\u001b[39;00m \u001b[39mimport\u001b[39;00m io\n\u001b[1;32m----> <a href='vscode-notebook-cell:/c%3A/Users/selig/topic01_team03/Boxplot_Preprocessing_Otsu.ipynb#W0sZmlsZQ%3D%3D?line=4'>5</a>\u001b[0m \u001b[39mimport\u001b[39;00m \u001b[39mseaborn\u001b[39;00m \u001b[39mas\u001b[39;00m \u001b[39msns\u001b[39;00m\n\u001b[0;32m      <a href='vscode-notebook-cell:/c%3A/Users/selig/topic01_team03/Boxplot_Preprocessing_Otsu.ipynb#W0sZmlsZQ%3D%3D?line=5'>6</a>\u001b[0m \u001b[39mimport\u001b[39;00m \u001b[39mmatplotlib\u001b[39;00m \u001b[39mas\u001b[39;00m \u001b[39mmlp\u001b[39;00m\n\u001b[0;32m      <a href='vscode-notebook-cell:/c%3A/Users/selig/topic01_team03/Boxplot_Preprocessing_Otsu.ipynb#W0sZmlsZQ%3D%3D?line=8'>9</a>\u001b[0m \u001b[39mdef\u001b[39;00m \u001b[39mdice\u001b[39m(img1, img2):\n\u001b[0;32m     <a href='vscode-notebook-cell:/c%3A/Users/selig/topic01_team03/Boxplot_Preprocessing_Otsu.ipynb#W0sZmlsZQ%3D%3D?line=9'>10</a>\u001b[0m \n\u001b[0;32m     <a href='vscode-notebook-cell:/c%3A/Users/selig/topic01_team03/Boxplot_Preprocessing_Otsu.ipynb#W0sZmlsZQ%3D%3D?line=10'>11</a>\u001b[0m \u001b[39m#boolean data für dicescore nötig\u001b[39;00m\n",
      "\u001b[1;31mModuleNotFoundError\u001b[0m: No module named 'seaborn'"
     ]
    }
   ],
   "source": [
    "import pandas as pd\n",
    "import numpy as np\n",
    "import os\n",
    "from skimage import io\n",
    "import seaborn as sns\n",
    "import matplotlib as mlp\n",
    "\n",
    "\n",
    "def dice(img1, img2):\n",
    "\n",
    "#boolean data für dicescore nötig\n",
    "    img1 = np.asarray(img1).astype(bool)\n",
    "    img2 = np.asarray(img2).astype(bool)\n",
    "\n",
    "#definiere gemeinsame elemente -> funktion vergleicht elementweise img1 mit img2\n",
    "    commonelements = np.equal(img1, img2)\n",
    "    elements1 = img1.shape[0]*img1.shape[1]\n",
    "    elements2 = img2.shape[0]*img2.shape[1]\n",
    "    d = 2* commonelements.sum()/(elements1 + elements2)\n",
    "    return d\n",
    "\n",
    "import os\n",
    "def anwendungdice(input_path1,input_path2,dice_list):\n",
    "    files1 = os.listdir(input_path1)\n",
    "    files2 = os.listdir(input_path2)\n",
    "    for o in range(len(files1)):\n",
    "        file_path1 = os.path.join(input_path1,files1[o])\n",
    "        file_path2 = os.path.join(input_path2,files2[o])\n",
    "        d = dice(io.imread(file_path1),io.imread(file_path2))\n",
    "        dice_list.append(d)"
   ]
  },
  {
   "cell_type": "code",
   "execution_count": null,
   "metadata": {},
   "outputs": [
    {
     "data": {
      "text/plain": [
       "[0.8978309631347656,\n",
       " 0.9459800720214844,\n",
       " 0.8924894332885742,\n",
       " 0.8866996765136719,\n",
       " 0.941624641418457,\n",
       " 0.8975429534912109]"
      ]
     },
     "execution_count": 215,
     "metadata": {},
     "output_type": "execute_result"
    }
   ],
   "source": [
    "\n",
    "dice1_normal = list()\n",
    "anwendungdice('/Users/kira/Downloads/UNI/DataAnalysis/topic01_team03/Ergebnisse/Otsu/N2DH-GOWT1/','/Users/kira/Downloads/UNI/DataAnalysis/topic01_team03/BilderDaten/BilderDaten/N2DH-GOWT1/gt_binarized/', dice1_normal)\n",
    "dice1_normal\n"
   ]
  },
  {
   "cell_type": "code",
   "execution_count": null,
   "metadata": {},
   "outputs": [],
   "source": [
    "dice1_gauss1 = list()\n",
    "anwendungdice('/Users/kira/Downloads/UNI/DataAnalysis/topic01_team03/Ergebnisse/Gauss+Otsu/N2DH-GOWT1/1','/Users/kira/Downloads/UNI/DataAnalysis/topic01_team03/BilderDaten/BilderDaten/N2DH-GOWT1/gt_binarized/',dice1_gauss1)"
   ]
  },
  {
   "cell_type": "code",
   "execution_count": null,
   "metadata": {},
   "outputs": [
    {
     "data": {
      "text/plain": [
       "[0.6373662948608398,\n",
       " 0.5851945877075195,\n",
       " 0.5791540145874023,\n",
       " 0.5330305099487305,\n",
       " 0.6145648956298828,\n",
       " 0.6024580001831055]"
      ]
     },
     "execution_count": 217,
     "metadata": {},
     "output_type": "execute_result"
    }
   ],
   "source": [
    "dice1_none = list()\n",
    "anwendungdice('/Users/kira/Downloads/UNI/DataAnalysis/topic01_team03/BilderDaten/BilderDaten/N2DH-GOWT1/img','/Users/kira/Downloads/UNI/DataAnalysis/topic01_team03/BilderDaten/BilderDaten/N2DH-GOWT1/gt_binarized/', dice1_none)\n",
    "dice1_none"
   ]
  },
  {
   "cell_type": "code",
   "execution_count": null,
   "metadata": {},
   "outputs": [
    {
     "data": {
      "text/plain": [
       "[0.8932247161865234,\n",
       " 0.9471912384033203,\n",
       " 0.8901729583740234,\n",
       " 0.883336067199707,\n",
       " 0.942011833190918,\n",
       " 0.9011602401733398]"
      ]
     },
     "execution_count": 218,
     "metadata": {},
     "output_type": "execute_result"
    }
   ],
   "source": [
    "dice1_gauss2 = list()\n",
    "anwendungdice('/Users/kira/Downloads/UNI/DataAnalysis/topic01_team03/Ergebnisse/Gauss+Otsu/N2DH-GOWT1/2','/Users/kira/Downloads/UNI/DataAnalysis/topic01_team03/BilderDaten/BilderDaten/N2DH-GOWT1/gt_binarized/',dice1_gauss2)\n",
    "dice1_gauss2"
   ]
  },
  {
   "cell_type": "code",
   "execution_count": null,
   "metadata": {},
   "outputs": [
    {
     "data": {
      "text/plain": [
       "[0.8941688537597656,\n",
       " 0.9478693008422852,\n",
       " 0.8889331817626953,\n",
       " 0.880894660949707,\n",
       " 0.9422826766967773,\n",
       " 0.8982906341552734]"
      ]
     },
     "execution_count": 219,
     "metadata": {},
     "output_type": "execute_result"
    }
   ],
   "source": [
    "dice1_gauss3 = list()\n",
    "anwendungdice('/Users/kira/Downloads/UNI/DataAnalysis/topic01_team03/Ergebnisse/Gauss+Otsu/N2DH-GOWT1/3','/Users/kira/Downloads/UNI/DataAnalysis/topic01_team03/BilderDaten/BilderDaten/N2DH-GOWT1/gt_binarized/',dice1_gauss3)\n",
    "dice1_gauss3"
   ]
  },
  {
   "cell_type": "code",
   "execution_count": null,
   "metadata": {},
   "outputs": [
    {
     "data": {
      "text/plain": [
       "[0.8940944671630859,\n",
       " 0.9465522766113281,\n",
       " 0.8895187377929688,\n",
       " 0.8839254379272461,\n",
       " 0.9417505264282227,\n",
       " 0.8984107971191406]"
      ]
     },
     "execution_count": 220,
     "metadata": {},
     "output_type": "execute_result"
    }
   ],
   "source": [
    "dice1_mean3 = list()\n",
    "anwendungdice('/Users/kira/Downloads/UNI/DataAnalysis/topic01_team03/Ergebnisse/Mean+Otsu/N2DH-GOWT1/3x3','/Users/kira/Downloads/UNI/DataAnalysis/topic01_team03/BilderDaten/BilderDaten/N2DH-GOWT1/gt_binarized/',dice1_mean3)\n",
    "dice1_mean3"
   ]
  },
  {
   "cell_type": "code",
   "execution_count": null,
   "metadata": {},
   "outputs": [
    {
     "data": {
      "text/plain": [
       "[0.894989013671875,\n",
       " 0.9470939636230469,\n",
       " 0.8899011611938477,\n",
       " 0.8830385208129883,\n",
       " 0.9418773651123047,\n",
       " 0.8996810913085938]"
      ]
     },
     "execution_count": 221,
     "metadata": {},
     "output_type": "execute_result"
    }
   ],
   "source": [
    "dice1_mean5 = list()\n",
    "anwendungdice('/Users/kira/Downloads/UNI/DataAnalysis/topic01_team03/Ergebnisse/Mean+Otsu/N2DH-GOWT1/5x5','/Users/kira/Downloads/UNI/DataAnalysis/topic01_team03/BilderDaten/BilderDaten/N2DH-GOWT1/gt_binarized/',dice1_mean5)\n",
    "dice1_mean5"
   ]
  },
  {
   "cell_type": "code",
   "execution_count": null,
   "metadata": {},
   "outputs": [
    {
     "data": {
      "text/plain": [
       "[0.8929662704467773,\n",
       " 0.9462003707885742,\n",
       " 0.8909931182861328,\n",
       " 0.8839359283447266,\n",
       " 0.9417495727539062,\n",
       " 0.8997440338134766]"
      ]
     },
     "execution_count": 222,
     "metadata": {},
     "output_type": "execute_result"
    }
   ],
   "source": [
    "dice1_median3 = list()\n",
    "anwendungdice('/Users/kira/Downloads/UNI/DataAnalysis/topic01_team03/Ergebnisse/Median+Otsu/N2DH-GOWT1/3x3','/Users/kira/Downloads/UNI/DataAnalysis/topic01_team03/BilderDaten/BilderDaten/N2DH-GOWT1/gt_binarized/',dice1_median3)\n",
    "dice1_median3"
   ]
  },
  {
   "cell_type": "code",
   "execution_count": null,
   "metadata": {},
   "outputs": [
    {
     "data": {
      "text/plain": [
       "[0.8940401077270508,\n",
       " 0.9467668533325195,\n",
       " 0.8915348052978516,\n",
       " 0.8843984603881836,\n",
       " 0.941685676574707,\n",
       " 0.9013853073120117]"
      ]
     },
     "execution_count": 223,
     "metadata": {},
     "output_type": "execute_result"
    }
   ],
   "source": [
    "dice1_median5 = list()\n",
    "anwendungdice('/Users/kira/Downloads/UNI/DataAnalysis/topic01_team03/Ergebnisse/Median+Otsu/N2DH-GOWT1/5x5','/Users/kira/Downloads/UNI/DataAnalysis/topic01_team03/BilderDaten/BilderDaten/N2DH-GOWT1/gt_binarized/',dice1_median5)\n",
    "dice1_median5"
   ]
  },
  {
   "cell_type": "code",
   "execution_count": null,
   "metadata": {},
   "outputs": [
    {
     "data": {
      "text/plain": [
       "[0.8978309631347656,\n",
       " 0.9459800720214844,\n",
       " 0.8924894332885742,\n",
       " 0.8866996765136719,\n",
       " 0.941624641418457,\n",
       " 0.8975429534912109]"
      ]
     },
     "execution_count": 224,
     "metadata": {},
     "output_type": "execute_result"
    }
   ],
   "source": [
    "dice1_histo = list()\n",
    "anwendungdice('/Users/kira/Downloads/UNI/DataAnalysis/topic01_team03/Ergebnisse/Histogramm+Otsu/N2DH-GOWT1','/Users/kira/Downloads/UNI/DataAnalysis/topic01_team03/BilderDaten/BilderDaten/N2DH-GOWT1/gt_binarized/',dice1_histo)\n",
    "dice1_histo"
   ]
  },
  {
   "cell_type": "code",
   "execution_count": null,
   "metadata": {},
   "outputs": [
    {
     "data": {
      "text/html": [
       "<div>\n",
       "<style scoped>\n",
       "    .dataframe tbody tr th:only-of-type {\n",
       "        vertical-align: middle;\n",
       "    }\n",
       "\n",
       "    .dataframe tbody tr th {\n",
       "        vertical-align: top;\n",
       "    }\n",
       "\n",
       "    .dataframe thead th {\n",
       "        text-align: right;\n",
       "    }\n",
       "</style>\n",
       "<table border=\"1\" class=\"dataframe\">\n",
       "  <thead>\n",
       "    <tr style=\"text-align: right;\">\n",
       "      <th></th>\n",
       "      <th>none</th>\n",
       "      <th>Otsu</th>\n",
       "      <th>Histo</th>\n",
       "      <th>Gauss, sigma = 1</th>\n",
       "      <th>Gauss, sigma = 2</th>\n",
       "      <th>Gauss, sigma = 3</th>\n",
       "      <th>Mean 3x3</th>\n",
       "      <th>Mean 5x5</th>\n",
       "      <th>Median 3x3</th>\n",
       "      <th>Median 5x5</th>\n",
       "    </tr>\n",
       "  </thead>\n",
       "  <tbody>\n",
       "    <tr>\n",
       "      <th>0</th>\n",
       "      <td>0.637366</td>\n",
       "      <td>0.897831</td>\n",
       "      <td>0.897831</td>\n",
       "      <td>0.895237</td>\n",
       "      <td>0.893225</td>\n",
       "      <td>0.894169</td>\n",
       "      <td>0.894094</td>\n",
       "      <td>0.894989</td>\n",
       "      <td>0.892966</td>\n",
       "      <td>0.894040</td>\n",
       "    </tr>\n",
       "    <tr>\n",
       "      <th>1</th>\n",
       "      <td>0.585195</td>\n",
       "      <td>0.945980</td>\n",
       "      <td>0.945980</td>\n",
       "      <td>0.946697</td>\n",
       "      <td>0.947191</td>\n",
       "      <td>0.947869</td>\n",
       "      <td>0.946552</td>\n",
       "      <td>0.947094</td>\n",
       "      <td>0.946200</td>\n",
       "      <td>0.946767</td>\n",
       "    </tr>\n",
       "    <tr>\n",
       "      <th>2</th>\n",
       "      <td>0.579154</td>\n",
       "      <td>0.892489</td>\n",
       "      <td>0.892489</td>\n",
       "      <td>0.890065</td>\n",
       "      <td>0.890173</td>\n",
       "      <td>0.888933</td>\n",
       "      <td>0.889519</td>\n",
       "      <td>0.889901</td>\n",
       "      <td>0.890993</td>\n",
       "      <td>0.891535</td>\n",
       "    </tr>\n",
       "    <tr>\n",
       "      <th>3</th>\n",
       "      <td>0.533031</td>\n",
       "      <td>0.886700</td>\n",
       "      <td>0.886700</td>\n",
       "      <td>0.884332</td>\n",
       "      <td>0.883336</td>\n",
       "      <td>0.880895</td>\n",
       "      <td>0.883925</td>\n",
       "      <td>0.883039</td>\n",
       "      <td>0.883936</td>\n",
       "      <td>0.884398</td>\n",
       "    </tr>\n",
       "    <tr>\n",
       "      <th>4</th>\n",
       "      <td>0.614565</td>\n",
       "      <td>0.941625</td>\n",
       "      <td>0.941625</td>\n",
       "      <td>0.941869</td>\n",
       "      <td>0.942012</td>\n",
       "      <td>0.942283</td>\n",
       "      <td>0.941751</td>\n",
       "      <td>0.941877</td>\n",
       "      <td>0.941750</td>\n",
       "      <td>0.941686</td>\n",
       "    </tr>\n",
       "    <tr>\n",
       "      <th>5</th>\n",
       "      <td>0.602458</td>\n",
       "      <td>0.897543</td>\n",
       "      <td>0.897543</td>\n",
       "      <td>0.899757</td>\n",
       "      <td>0.901160</td>\n",
       "      <td>0.898291</td>\n",
       "      <td>0.898411</td>\n",
       "      <td>0.899681</td>\n",
       "      <td>0.899744</td>\n",
       "      <td>0.901385</td>\n",
       "    </tr>\n",
       "  </tbody>\n",
       "</table>\n",
       "</div>"
      ],
      "text/plain": [
       "       none      Otsu     Histo  Gauss, sigma = 1  Gauss, sigma = 2  \\\n",
       "0  0.637366  0.897831  0.897831          0.895237          0.893225   \n",
       "1  0.585195  0.945980  0.945980          0.946697          0.947191   \n",
       "2  0.579154  0.892489  0.892489          0.890065          0.890173   \n",
       "3  0.533031  0.886700  0.886700          0.884332          0.883336   \n",
       "4  0.614565  0.941625  0.941625          0.941869          0.942012   \n",
       "5  0.602458  0.897543  0.897543          0.899757          0.901160   \n",
       "\n",
       "   Gauss, sigma = 3  Mean 3x3  Mean 5x5  Median 3x3  Median 5x5  \n",
       "0          0.894169  0.894094  0.894989    0.892966    0.894040  \n",
       "1          0.947869  0.946552  0.947094    0.946200    0.946767  \n",
       "2          0.888933  0.889519  0.889901    0.890993    0.891535  \n",
       "3          0.880895  0.883925  0.883039    0.883936    0.884398  \n",
       "4          0.942283  0.941751  0.941877    0.941750    0.941686  \n",
       "5          0.898291  0.898411  0.899681    0.899744    0.901385  "
      ]
     },
     "execution_count": 225,
     "metadata": {},
     "output_type": "execute_result"
    }
   ],
   "source": [
    "dice1_preprocessing = pd.DataFrame({'none': dice1_none, 'Otsu': dice1_normal, 'Histo': dice1_histo, 'Gauss, sigma = 1' : dice1_gauss1,  'Gauss, sigma = 2' : dice1_gauss2, 'Gauss, sigma = 3'  : dice1_gauss3, 'Mean 3x3': dice1_mean3 , 'Mean 5x5' : dice1_mean5, 'Median 3x3': dice1_median3 , 'Median 5x5': dice1_median5})\n",
    "dice1_preprocessing"
   ]
  },
  {
   "cell_type": "code",
   "execution_count": null,
   "metadata": {},
   "outputs": [],
   "source": []
  },
  {
   "cell_type": "code",
   "execution_count": null,
   "metadata": {},
   "outputs": [
    {
     "data": {
      "image/png": "[encoded data removed]",
      "text/plain": [
       "<Figure size 432x288 with 1 Axes>"
      ]
     },
     "metadata": {
      "needs_background": "light"
     },
     "output_type": "display_data"
    }
   ],
   "source": [
    "import matplotlib.pyplot as plt\n",
    "dice1_preprocessing  = sns.boxplot(dice1_preprocessing, palette ='pastel')\n",
    "dice1_preprocessing.set_xticklabels(dice1_preprocessing.get_xticklabels(), rotation = 70)\n",
    "dice1_preprocessing.set_title('Comparism of different preprocessing methods + Otsu')\n",
    "dice1_preprocessing.set_ylim(0.5,1)\n",
    "dice1_preprocessing.set_ylabel('Dice Score')\n",
    "plt.savefig('Plot1Gauss.png')"
   ]
  },
  {
   "cell_type": "code",
   "execution_count": null,
   "metadata": {},
   "outputs": [],
   "source": []
  },
  {
   "cell_type": "code",
   "execution_count": null,
   "metadata": {},
   "outputs": [],
   "source": []
  },
  {
   "cell_type": "code",
   "execution_count": null,
   "metadata": {},
   "outputs": [],
   "source": []
  },
  {
   "cell_type": "code",
   "execution_count": null,
   "metadata": {},
   "outputs": [],
   "source": []
  },
  {
   "cell_type": "code",
   "execution_count": null,
   "metadata": {},
   "outputs": [],
   "source": []
  },
  {
   "cell_type": "code",
   "execution_count": null,
   "metadata": {},
   "outputs": [],
   "source": []
  },
  {
   "cell_type": "code",
   "execution_count": null,
   "metadata": {},
   "outputs": [],
   "source": []
  },
  {
   "cell_type": "code",
   "execution_count": null,
   "metadata": {},
   "outputs": [],
   "source": []
  },
  {
   "cell_type": "code",
   "execution_count": null,
   "metadata": {},
   "outputs": [],
   "source": []
  },
  {
   "cell_type": "code",
   "execution_count": null,
   "metadata": {},
   "outputs": [],
   "source": []
  },
  {
   "cell_type": "code",
   "execution_count": null,
   "metadata": {},
   "outputs": [],
   "source": []
  },
  {
   "cell_type": "code",
   "execution_count": null,
   "metadata": {},
   "outputs": [],
   "source": []
  },
  {
   "cell_type": "code",
   "execution_count": null,
   "metadata": {},
   "outputs": [],
   "source": []
  },
  {
   "cell_type": "code",
   "execution_count": null,
   "metadata": {},
   "outputs": [],
   "source": []
  },
  {
   "cell_type": "code",
   "execution_count": null,
   "metadata": {},
   "outputs": [],
   "source": []
  },
  {
   "cell_type": "code",
   "execution_count": null,
   "metadata": {},
   "outputs": [],
   "source": []
  },
  {
   "cell_type": "code",
   "execution_count": null,
   "metadata": {},
   "outputs": [],
   "source": []
  },
  {
   "cell_type": "code",
   "execution_count": null,
   "metadata": {},
   "outputs": [],
   "source": []
  },
  {
   "cell_type": "code",
   "execution_count": null,
   "metadata": {},
   "outputs": [],
   "source": []
  },
  {
   "cell_type": "code",
   "execution_count": null,
   "metadata": {},
   "outputs": [],
   "source": []
  },
  {
   "cell_type": "code",
   "execution_count": null,
   "metadata": {},
   "outputs": [],
   "source": []
  },
  {
   "cell_type": "code",
   "execution_count": null,
   "metadata": {},
   "outputs": [],
   "source": []
  },
  {
   "cell_type": "code",
   "execution_count": null,
   "metadata": {},
   "outputs": [],
   "source": []
  },
  {
   "cell_type": "code",
   "execution_count": null,
   "metadata": {},
   "outputs": [
    {
     "name": "stdout",
     "output_type": "stream",
     "text": [
      "0.3799143721694078\n"
     ]
    },
    {
     "name": "stderr",
     "output_type": "stream",
     "text": [
      "/var/folders/66/9rcyrq056qlgml3f7kr_1vfh0000gn/T/ipykernel_22983/2046754473.py:10: DeprecationWarning: `np.bool` is a deprecated alias for the builtin `bool`. To silence this warning, use `bool` by itself. Doing this will not modify any behavior and is safe. If you specifically wanted the numpy scalar type, use `np.bool_` here.\n",
      "Deprecated in NumPy 1.20; for more details and guidance: https://numpy.org/devdocs/release/1.20.0-notes.html#deprecations\n",
      "  img1 = np.asarray(img1).astype(np.bool)\n",
      "/var/folders/66/9rcyrq056qlgml3f7kr_1vfh0000gn/T/ipykernel_22983/2046754473.py:11: DeprecationWarning: `np.bool` is a deprecated alias for the builtin `bool`. To silence this warning, use `bool` by itself. Doing this will not modify any behavior and is safe. If you specifically wanted the numpy scalar type, use `np.bool_` here.\n",
      "Deprecated in NumPy 1.20; for more details and guidance: https://numpy.org/devdocs/release/1.20.0-notes.html#deprecations\n",
      "  img2 = np.asarray(img2).astype(np.bool)\n"
     ]
    }
   ],
   "source": [
    "import numpy as np\n",
    "from skimage import io\n",
    "\n",
    "#images benennen -> hier noch für img1 image nach otsu einfügen\n",
    "img1 = io.imread('/Users/kira/Downloads/UNI/DataAnalysis/topic01_team03/BilderDaten/BilderDaten/N2DH-GOWT1/img/t72.tif')\n",
    "img2 = io.imread('/Users/kira/Downloads/UNI/DataAnalysis/topic01_team03/BilderDaten/BilderDaten/N2DH-GOWT1/gt_binarized/man_seg72.tif')\n",
    "\n",
    "#boolean data für dicescore nötig\n",
    "\n",
    "img1 = np.asarray(img1).astype(np.bool)\n",
    "img2 = np.asarray(img2).astype(np.bool)\n",
    "\n",
    "#definiere gemeinsame elemente -> funktion vergleicht elementweise img1 mit img2\n",
    "commonelements = np.logical_and(img1, img2)\n",
    "\n",
    "#dice score ist 2*(gemeinsame elemente)/(elemente in img1 + elemente in img2)\n",
    "dsc = 2 * commonelements.sum() / (img1.sum() + img2.sum())\n",
    "print(dsc)"
   ]
  },
  {
   "cell_type": "code",
   "execution_count": null,
   "metadata": {},
   "outputs": [
    {
     "data": {
      "text/plain": [
       "<AxesSubplot:>"
      ]
     },
     "execution_count": 228,
     "metadata": {},
     "output_type": "execute_result"
    },
    {
     "data": {
      "image/png": "[encoded data removed]",
      "text/plain": [
       "<Figure size 432x288 with 1 Axes>"
      ]
     },
     "metadata": {
      "needs_background": "light"
     },
     "output_type": "display_data"
    }
   ],
   "source": [
    "dscvalues1gauss = [0.6513109066744912, 0.5576589270763136, 0.6055637917502398, 0.6526359868886547, 0.6293698048694217]\n",
    "dscvalues1none = [0.278076857380293, 0.2609383555104371, 0.24393510648313446, 0.3373632903275149, 0.3799143721694078]\n",
    "\n",
    "import pandas as pd\n",
    "import numpy as np\n",
    "\n",
    "df2 = pd.DataFrame(list(zip(dscvalues1gauss, dscvalues1none)),\n",
    "               columns =['Gauss', 'none'])\n",
    "df2\n",
    "sns.boxenplot(df2)"
   ]
  },
  {
   "cell_type": "code",
   "execution_count": null,
   "metadata": {},
   "outputs": [],
   "source": []
  },
  {
   "cell_type": "code",
   "execution_count": null,
   "metadata": {},
   "outputs": [
    {
     "ename": "AttributeError",
     "evalue": "module 'seaborn' has no attribute 'b'",
     "output_type": "error",
     "traceback": [
      "\u001b[0;31m---------------------------------------------------------------------------\u001b[0m",
      "\u001b[0;31mAttributeError\u001b[0m                            Traceback (most recent call last)",
      "\u001b[1;32m/Users/kira/Downloads/UNI/DataAnalysis/topic01_team03/Plot1Gauss.ipynb Cell 41\u001b[0m in \u001b[0;36m<cell line: 1>\u001b[0;34m()\u001b[0m\n\u001b[0;32m----> <a href='vscode-notebook-cell:/Users/kira/Downloads/UNI/DataAnalysis/topic01_team03/Plot1Gauss.ipynb#Y124sZmlsZQ%3D%3D?line=0'>1</a>\u001b[0m sns\u001b[39m.\u001b[39;49mb\n",
      "\u001b[0;31mAttributeError\u001b[0m: module 'seaborn' has no attribute 'b'"
     ]
    }
   ],
   "source": [
    "sns.b"
   ]
  },
  {
   "cell_type": "code",
   "execution_count": null,
   "metadata": {},
   "outputs": [],
   "source": []
  },
  {
   "cell_type": "code",
   "execution_count": null,
   "metadata": {},
   "outputs": [],
   "source": []
  },
  {
   "cell_type": "code",
   "execution_count": null,
   "metadata": {},
   "outputs": [],
   "source": []
  },
  {
   "cell_type": "code",
   "execution_count": null,
   "metadata": {},
   "outputs": [],
   "source": []
  },
  {
   "cell_type": "code",
   "execution_count": null,
   "metadata": {},
   "outputs": [],
   "source": []
  },
  {
   "cell_type": "code",
   "execution_count": null,
   "metadata": {},
   "outputs": [
    {
     "data": {
      "text/plain": [
       "<AxesSubplot:>"
      ]
     },
     "execution_count": 27,
     "metadata": {},
     "output_type": "execute_result"
    },
    {
     "data": {
      "image/png": "[encoded data removed]",
      "text/plain": [
       "<Figure size 432x288 with 1 Axes>"
      ]
     },
     "metadata": {
      "needs_background": "light"
     },
     "output_type": "display_data"
    }
   ],
   "source": [
    "import seaborn as sns\n",
    "\n",
    "sns.boxplot(dscvalues1gauss)"
   ]
  },
  {
   "cell_type": "code",
   "execution_count": null,
   "metadata": {},
   "outputs": [],
   "source": []
  },
  {
   "cell_type": "code",
   "execution_count": null,
   "metadata": {},
   "outputs": [],
   "source": []
  },
  {
   "cell_type": "code",
   "execution_count": null,
   "metadata": {},
   "outputs": [],
   "source": []
  },
  {
   "cell_type": "code",
   "execution_count": null,
   "metadata": {},
   "outputs": [],
   "source": []
  }
 ],
 "metadata": {
  "kernelspec": {
   "display_name": "Python 3",
   "language": "python",
   "name": "python3"
  },
  "language_info": {
   "codemirror_mode": {
    "name": "ipython",
    "version": 3
   },
   "file_extension": ".py",
   "mimetype": "text/x-python",
   "name": "python",
   "nbconvert_exporter": "python",
   "pygments_lexer": "ipython3",
   "version": "3.10.4"
  },
  "orig_nbformat": 4
 },
 "nbformat": 4,
 "nbformat_minor": 2
}
