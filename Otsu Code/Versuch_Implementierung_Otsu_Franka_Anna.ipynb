{
 "cells": [
  {
   "cell_type": "code",
   "execution_count": 1,
   "metadata": {},
   "outputs": [],
   "source": [
    "# Import of the Modules\n",
    "\n",
    "from skimage import io\n",
    "from skimage.color import rgb2gray\n",
    "from matplotlib import pyplot as plt\n",
    "from skimage.filters import threshold_otsu\n",
    "import numpy as np\n",
    "import pathlib as pl\n",
    "import json\n",
    "import warnings\n",
    "import matplotlib as mpl\n",
    "mpl.rcParams['figure.dpi'] = 120\n",
    "warnings.filterwarnings('ignore')"
   ]
  },
  {
   "cell_type": "code",
   "execution_count": 45,
   "metadata": {},
   "outputs": [
    {
     "name": "stdout",
     "output_type": "stream",
     "text": [
      "19.829815472802064\n"
     ]
    },
    {
     "data": {
      "image/png": "[encoded data removed]",
      "text/plain": [
       "<Figure size 720x480 with 1 Axes>"
      ]
     },
     "metadata": {
      "needs_background": "light"
     },
     "output_type": "display_data"
    }
   ],
   "source": [
    "img1 = io.imread('BioInfo_Projekt/t01.tif')\n",
    "rvl = img1.ravel()\n",
    "ran = round(max(rvl) - min(rvl))\n",
    "counts, bins = np.histogram(rvl,bins = ran)\n",
    "\n",
    "plt.hist(rvl, bins = ran)\n",
    "\n",
    "\n",
    "#definieren von w0\n",
    "sum_back = 0 \n",
    "T = 4\n",
    "for i in range(0,T):\n",
    "    sum_back += counts[i]\n",
    "\n",
    "w0 = sum_back / sum(counts)\n",
    "\n",
    "\n",
    "#definieren von w1\n",
    "sum_obj = 0\n",
    "\n",
    "for j in range(T,len(counts)):\n",
    "    sum_obj += counts[j]\n",
    "\n",
    "w1 = sum_obj / sum(counts)\n",
    "\n",
    "\n",
    "#Varianz \n",
    "\n",
    "#Hintergrund Mittelwert\n",
    "mean_sum_back = 0\n",
    "for k in range(0, T):\n",
    "    mean_sum_back += counts[k] * bins[k]\n",
    "\n",
    "mean_back = mean_sum_back / sum_back\n",
    "\n",
    "#Vordergrund Mittelwert\n",
    "mean_sum_obj = 0\n",
    "for l in range(T, len(counts)):\n",
    "    mean_sum_obj += counts[l] * bins[l]\n",
    "\n",
    "mean_obj = mean_sum_obj / sum_obj\n",
    "\n",
    "#Varianz Hintergrund\n",
    "var_sum_back = 0\n",
    "for m in range(0, T):\n",
    "    var_sum_back += counts[m] * (bins[m] - mean_back)**2 \n",
    "\n",
    "var_back = var_sum_back / sum_back\n",
    "\n",
    "#Varianz Vordergrund\n",
    "var_sum_obj = 0\n",
    "for n in range(T, len(counts)):\n",
    "    var_sum_obj += counts[n] * (bins[n] - mean_obj)**2 \n",
    "\n",
    "var_obj = var_sum_obj / sum_obj\n",
    "\n",
    "# Within Class Varianz\n",
    "\n",
    "within_class_varianz = w0 * var_back + w1 * var_obj\n",
    "print(within_class_varianz)"
   ]
  },
  {
   "cell_type": "code",
   "execution_count": 61,
   "metadata": {},
   "outputs": [],
   "source": [
    "# bestes T herausfinden\n",
    "variance_list = list()\n",
    "for T in range(1,len(counts)):\n",
    "    #definieren von w0\n",
    "    sum_back = 0 \n",
    "    for i in range(0,T):\n",
    "        sum_back += counts[i]\n",
    "\n",
    "    w0 = sum_back / sum(counts)\n",
    "\n",
    "\n",
    "    #definieren von w1\n",
    "    sum_obj = 0\n",
    "\n",
    "    for j in range(T,len(counts)):\n",
    "     sum_obj += counts[j]\n",
    "\n",
    "    w1 = sum_obj / sum(counts)\n",
    "\n",
    "\n",
    "    #Varianz \n",
    "\n",
    "    #Hintergrund Mittelwert\n",
    "    mean_sum_back = 0\n",
    "    for k in range(0, T):\n",
    "        mean_sum_back += counts[k] * bins[k]\n",
    "\n",
    "    mean_back = mean_sum_back / sum_back\n",
    "\n",
    "    #Vordergrund Mittelwert\n",
    "    mean_sum_obj = 0\n",
    "    for l in range(T, len(counts)):\n",
    "        mean_sum_obj += counts[l] * bins[l]\n",
    "\n",
    "    mean_obj = mean_sum_obj / sum_obj\n",
    "\n",
    "    #Varianz Hintergrund\n",
    "    var_sum_back = 0\n",
    "    for m in range(0, T):\n",
    "        var_sum_back += counts[m] * (bins[m] - mean_back)**2 \n",
    "\n",
    "    var_back = var_sum_back / sum_back\n",
    "\n",
    "    #Varianz Vordergrund\n",
    "    var_sum_obj = 0\n",
    "    for n in range(T, len(counts)):\n",
    "        var_sum_obj += counts[n] * (bins[n] - mean_obj)**2 \n",
    "\n",
    "    var_obj = var_sum_obj / sum_obj\n",
    "\n",
    "    # Within Class Varianz\n",
    "\n",
    "    within_class_varianz = w0 * var_back + w1 * var_obj\n",
    "    variance_list.append(within_class_varianz)\n",
    "if within_class_varianz == min(variance_list):\n",
    "    print(T)\n"
   ]
  }
 ],
 "metadata": {
  "kernelspec": {
   "display_name": "compmeth2022",
   "language": "python",
   "name": "python3"
  },
  "language_info": {
   "codemirror_mode": {
    "name": "ipython",
    "version": 3
   },
   "file_extension": ".py",
   "mimetype": "text/x-python",
   "name": "python",
   "nbconvert_exporter": "python",
   "pygments_lexer": "ipython3",
   "version": "3.9.12"
  },
  "orig_nbformat": 4
 },
 "nbformat": 4,
 "nbformat_minor": 2
}
