{
 "cells": [
  {
   "cell_type": "code",
   "execution_count": 9,
   "id": "b7018442",
   "metadata": {},
   "outputs": [],
   "source": [
    "import numpy as np\n",
    "def otsu_thresholding(img1):\n",
    "    \n",
    "    #Kopie des Bildes machen und glätten\n",
    "    imgT = img1.copy()\n",
    "    rvl = img1.ravel()\n",
    "\n",
    "    #range und numerische Werte des Histogramms definieren\n",
    "    ran = round(max(rvl) - min(rvl))\n",
    "    counts, bins = np.histogram(rvl,bins = ran)\n",
    " \n",
    "    #leere Liste für alle within class variances erstellen\n",
    "    variance_list = list()\n",
    "    var_obj_list = list()\n",
    "    var_back_list = list()\n",
    "\n",
    "    # optimalen threshhold herausfinden\n",
    "    for T in range(1,len(counts)):\n",
    "        \n",
    "        #within class variance herausfinden\n",
    "        \n",
    "        #definieren von w0 und Hintergrund Mittelwert\n",
    "        sum_back = 0 \n",
    "        mean_sum_back = 0\n",
    "        for i in range(0,T):\n",
    "            sum_back += counts[i]\n",
    "            mean_sum_back += counts[i] * bins[i]\n",
    "\n",
    "        w0 = sum_back / sum(counts)\n",
    "        mean_back = mean_sum_back / sum_back\n",
    "\n",
    "\n",
    "        #definieren von w1 und Vordergrund Mittelwert\n",
    "        sum_obj = 0\n",
    "        mean_sum_obj = 0\n",
    "\n",
    "        for j in range(T,len(counts)):\n",
    "            sum_obj += counts[j]\n",
    "            mean_sum_obj += counts[j] * bins[j]\n",
    "\n",
    "        w1 = sum_obj / sum(counts)\n",
    "        mean_obj = mean_sum_obj / sum_obj\n",
    "\n",
    "        #Varianz Hintergrund\n",
    "        var_sum_back = 0\n",
    "        for k in range(0, T):\n",
    "            var_sum_back += counts[k] * (bins[k] - mean_back)**2 \n",
    "\n",
    "        var_back = var_sum_back / sum_back\n",
    "\n",
    "        #Varianz Vordergrund\n",
    "        var_sum_obj = 0\n",
    "        for l in range(T, len(counts)):\n",
    "            var_sum_obj += counts[l] * (bins[l] - mean_obj)**2 \n",
    "\n",
    "        var_obj = var_sum_obj / sum_obj\n",
    "\n",
    "        # Within Class Varianz berechnen\n",
    "        within_class_varianz = w0 * var_back + w1 * var_obj\n",
    "        \n",
    "        #within class variance zu Liste hinzufügen\n",
    "        variance_list.append(within_class_varianz)\n",
    "\n",
    "        ####\n",
    "        var_obj_list.append(var_obj)\n",
    "        var_back_list.append(var_back)\n",
    "    print(var_back_list)\n",
    "    \n",
    "    #minimalen Wert für T aussuchen \n",
    "    minvar = min(variance_list)\n",
    "    for m in range(0,len(variance_list)):\n",
    "        if variance_list[m] == minvar: \n",
    "            THRESH = round(bins[m])\n",
    "\n",
    "    print(minvar)\n",
    "    print(THRESH)\n",
    "    #intensitätswerte anpassen\n",
    "    for p in np.ndindex(imgT.shape):\n",
    "        if img1[p] < THRESH:\n",
    "            imgT[p] = 0\n",
    "        else:\n",
    "            imgT[p] = 255\n",
    "    return imgT"
   ]
  },
  {
   "cell_type": "code",
   "execution_count": 10,
   "id": "d047161b",
   "metadata": {},
   "outputs": [
    {
     "name": "stdout",
     "output_type": "stream",
     "text": [
      "[0.0, 0.000721500345371372, 0.010821576918807332, 0.15761498373951957, 0.42056534622316405, 0.597283094810704, 0.7376033570229524, 0.8829657800037326, 1.0407988182412833, 1.228761360408263, 1.465334417035732, 1.7848695687897564, 2.247019337219144, 2.9527300525859057, 3.9982332769511566, 5.439255026207009, 7.245889777546207, 9.430542940440402, 11.869290104266435, 14.438863031123468, 16.948754393167253, 19.376710943370878, 21.59183514576905, 23.582439124592657, 25.37851665392438, 27.022241183339485, 28.549794538317453, 29.979134860362702, 31.35149939168159, 32.623267343241885, 33.78053438010735, 34.883338410912934, 35.8655865717987, 36.77447893116315, 37.54108042106026, 38.24349881892978, 38.880469588217636, 39.47528287321022, 40.000377618404734, 40.487419620116114, 40.93591212813122, 41.38056049314633, 41.76132927400466, 42.11773925424721, 42.42400639365199, 42.70411851300712, 42.995645534680634, 43.23826973028788, 43.445857335738836, 43.64798449730674, 43.84612806671962, 44.01492218141241, 44.16451461055404, 44.32548773932806, 44.44456943588546, 44.592567908410686, 44.70777768323193, 44.80742399235697, 44.888049058881855, 44.95789083924895, 45.003492775283135, 45.05298030689816, 45.08422718753503, 45.11430513631522, 45.13108364351554, 45.16334470443577, 45.18131902754928, 45.197251290005426, 45.21097355201376, 45.21947852552976, 45.225332514086496, 45.23439386268254, 45.23439386268254, 45.23439386268254, 45.237703443386174, 45.237703443386174]\n",
      "8.192910766387335\n",
      "30\n"
     ]
    },
    {
     "data": {
      "text/plain": [
       "<matplotlib.image.AxesImage at 0x121bb6730>"
      ]
     },
     "execution_count": 10,
     "metadata": {},
     "output_type": "execute_result"
    },
    {
     "data": {
      "image/png": "[encoded data removed]",
      "text/plain": [
       "<Figure size 432x288 with 1 Axes>"
      ]
     },
     "metadata": {
      "needs_background": "light"
     },
     "output_type": "display_data"
    }
   ],
   "source": [
    "from skimage import io\n",
    "img1 = io.imread('../BilderDaten/BilderDaten/NIH3T3/img/dna-0.png')\n",
    "io.imshow(otsu_thresholding(img1))"
   ]
  },
  {
   "cell_type": "code",
   "execution_count": 11,
   "id": "9d898ab3",
   "metadata": {},
   "outputs": [],
   "source": [
    "#otsu vektorisiert\n",
    "import numpy as np\n",
    "\n",
    "def otsu_thresholding_vek(img1):\n",
    "    \n",
    "    #Kopie des Bildes machen und glätten\n",
    "    imgT = img1.copy()\n",
    "    rvl = img1.ravel()\n",
    "\n",
    "    #range und numerische Werte des Histogramms definieren\n",
    "    ran = round(max(rvl) - min(rvl))\n",
    "    counts, bins = np.histogram(rvl,bins = ran)\n",
    " \n",
    "    sum_back = np.cumsum(counts)[:-1]\n",
    "    sum_obj = sum(counts)-sum_back\n",
    "    mean_back = np.cumsum(bins[:-2]*counts[:-1])/sum_back\n",
    "    mean_obj = (sum(bins[:-2]*counts[:-1])-np.cumsum(bins[:-2]*counts[:-1]))/sum_obj\n",
    "    w0_list = sum_back/sum(counts)\n",
    "    w1_list = 1 - w0_list\n",
    "\n",
    "    #calculate background and foreground variance\n",
    "    var_back_list = list()\n",
    "    var_obj_list = list()\n",
    "    for i in range (0,len(mean_back)):\n",
    "        var_back = sum(counts[:i]*(bins[:i]-mean_back[i])**2)/sum_back[i]\n",
    "        var_back_list.append(var_back)\n",
    "        var_obj = sum(counts[i:]*(bins[i:-1]-mean_obj[i])**2)/sum_obj[i]\n",
    "        var_obj_list.append(var_obj)\n",
    "    ####\n",
    "    print(var_back_list)\n",
    "    \n",
    "        \n",
    "    wcv_list = (w0_list * var_back_list) + (w1_list * var_obj_list)\n",
    "    minvar = min(wcv_list)\n",
    "    print(minvar)\n",
    "    for m in range(0,len(wcv_list)):\n",
    "        if wcv_list[m] == minvar: \n",
    "            THRESH = round(bins[m])\n",
    "    print(THRESH)\n",
    "    #intensitätswerte anpassen\n",
    "    for p in np.ndindex(imgT.shape):\n",
    "        if img1[p] < THRESH:\n",
    "            imgT[p] = 0\n",
    "        else:\n",
    "            imgT[p] = 255\n",
    "    return imgT"
   ]
  },
  {
   "cell_type": "code",
   "execution_count": 12,
   "id": "174bbc57",
   "metadata": {},
   "outputs": [
    {
     "name": "stdout",
     "output_type": "stream",
     "text": [
      "[0.0, 0.0007209794064938475, 0.010703520632684996, 0.12846737973628, 0.21100807729268686, 0.40572369590808643, 0.5874738642490015, 0.7306007824488784, 0.8772329943292929, 1.0353713846753394, 1.2230298449066328, 1.458575123415595, 1.7760199711022522, 2.2343012632520716, 2.9334006167648328, 3.967908636055961, 5.392449321633386, 7.1765200635328705, 9.335213822362938, 11.749262017750947, 14.303054485707603, 16.804091337824392, 19.235335273613295, 21.46024017659642, 23.462632985263365, 25.269889141252108, 26.923398212142263, 28.459870065760605, 29.895663411841262, 31.276730128431982, 32.55767276524354, 33.7205648079792, 34.83201274896626, 35.82012982013486, 36.737736366329216, 37.50897548525385, 38.21573710723924, 38.8557669739161, 39.45447659282057, 39.98198457166792, 40.471266607947754, 40.92064349440967, 41.36805778214369, 41.75015208692797, 42.10855305696559, 42.41597484415081, 42.69612979512588, 42.989272361865225, 43.23304469649706, 43.44098424922533, 43.64340452486163, 43.842381649522416, 44.01173377584015, 44.16122045923452, 44.323142359186846, 44.44176876144749, 44.59046697603122, 44.70602721606115, 44.80605892577969, 44.88690920174824, 44.95717285827443, 45.00274147471096, 45.05252230617192, 45.08380159864927, 45.1140757526001, 45.13065763882919, 45.163115080705595, 45.181122120658976, 45.19708713549507, 45.210875018093944, 45.219412820085516, 45.2252339504374, 45.23439386268254, 45.23439386268254, 45.2343609973456, 45.237703443386174]\n",
      "8.221766780644622\n",
      "31\n"
     ]
    },
    {
     "data": {
      "text/plain": [
       "<matplotlib.image.AxesImage at 0x121c14c70>"
      ]
     },
     "execution_count": 12,
     "metadata": {},
     "output_type": "execute_result"
    },
    {
     "data": {
      "image/png": "[encoded data removed]",
      "text/plain": [
       "<Figure size 432x288 with 1 Axes>"
      ]
     },
     "metadata": {
      "needs_background": "light"
     },
     "output_type": "display_data"
    }
   ],
   "source": [
    "from skimage import io\n",
    "img1 = io.imread('../BilderDaten/BilderDaten/NIH3T3/img/dna-0.png')\n",
    "io.imshow(otsu_thresholding_vek(img1))"
   ]
  },
  {
   "cell_type": "code",
   "execution_count": null,
   "id": "85381228",
   "metadata": {},
   "outputs": [],
   "source": []
  }
 ],
 "metadata": {
  "kernelspec": {
   "display_name": "Python 3 (ipykernel)",
   "language": "python",
   "name": "python3"
  },
  "language_info": {
   "codemirror_mode": {
    "name": "ipython",
    "version": 3
   },
   "file_extension": ".py",
   "mimetype": "text/x-python",
   "name": "python",
   "nbconvert_exporter": "python",
   "pygments_lexer": "ipython3",
   "version": "3.9.12"
  }
 },
 "nbformat": 4,
 "nbformat_minor": 5
}
