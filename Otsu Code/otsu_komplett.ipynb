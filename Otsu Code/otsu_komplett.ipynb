{
 "cells": [
  {
   "cell_type": "code",
   "execution_count": 102,
   "id": "b7018442",
   "metadata": {},
   "outputs": [],
   "source": [
    "import numpy as np\n",
    "def otsu_thresholding(img1):\n",
    "    \n",
    "    #Kopie des Bildes machen und glätten\n",
    "    imgT = img1.copy()\n",
    "    rvl = img1.ravel()\n",
    "\n",
    "    #range und numerische Werte des Histogramms definieren\n",
    "    ran = round(max(rvl) - min(rvl))\n",
    "    counts, bins = np.histogram(rvl,bins = ran)\n",
    " \n",
    "    #leere Liste für alle within class variances erstellen\n",
    "    variance_list = list()\n",
    "\n",
    "    # optimalen threshhold herausfinden\n",
    "    for T in range(1,len(counts)):\n",
    "        \n",
    "        #within class variance herausfinden\n",
    "        \n",
    "        #definieren von w0 und Hintergrund Mittelwert\n",
    "        sum_back = 0 \n",
    "        mean_sum_back = 0\n",
    "        for i in range(0,T):\n",
    "            sum_back += counts[i]\n",
    "            mean_sum_back += counts[i] * bins[i]\n",
    "\n",
    "        w0 = sum_back / sum(counts)\n",
    "        mean_back = mean_sum_back / sum_back\n",
    "\n",
    "\n",
    "        #definieren von w1 und Vordergrund Mittelwert\n",
    "        sum_obj = 0\n",
    "        mean_sum_obj = 0\n",
    "\n",
    "        for j in range(T,len(counts)):\n",
    "            sum_obj += counts[j]\n",
    "            mean_sum_obj += counts[j] * bins[j]\n",
    "\n",
    "        w1 = sum_obj / sum(counts)\n",
    "        mean_obj = mean_sum_obj / sum_obj\n",
    "\n",
    "        #Varianz Hintergrund\n",
    "        var_sum_back = 0\n",
    "        for k in range(0, T):\n",
    "            var_sum_back += counts[k] * (bins[k] - mean_back)**2 \n",
    "\n",
    "        var_back = var_sum_back / sum_back\n",
    "\n",
    "        #Varianz Vordergrund\n",
    "        var_sum_obj = 0\n",
    "        for l in range(T, len(counts)):\n",
    "            var_sum_obj += counts[l] * (bins[l] - mean_obj)**2 \n",
    "\n",
    "        var_obj = var_sum_obj / sum_obj\n",
    "\n",
    "        # Within Class Varianz berechnen\n",
    "        within_class_varianz = w0 * var_back + w1 * var_obj\n",
    "        \n",
    "        #within class variance zu Liste hinzufügen\n",
    "        variance_list.append(within_class_varianz)\n",
    "    \n",
    "    \n",
    "    #minimalen Wert für T aussuchen \n",
    "    minvar = min(variance_list)\n",
    "    for m in range(0,len(variance_list)):\n",
    "        if variance_list[m] == minvar: \n",
    "            THRESH = round(bins[m])\n",
    "\n",
    "    print(minvar)\n",
    "    print(THRESH)\n",
    "    #intensitätswerte anpassen\n",
    "    for p in np.ndindex(imgT.shape):\n",
    "        if img1[p] < THRESH:\n",
    "            imgT[p] = 0\n",
    "        else:\n",
    "            imgT[p] = 255\n",
    "    return imgT"
   ]
  },
  {
   "cell_type": "code",
   "execution_count": 103,
   "id": "d047161b",
   "metadata": {},
   "outputs": [
    {
     "name": "stdout",
     "output_type": "stream",
     "text": [
      "8.192910766387335\n",
      "30\n"
     ]
    },
    {
     "data": {
      "text/plain": [
       "<matplotlib.image.AxesImage at 0x129f92a00>"
      ]
     },
     "execution_count": 103,
     "metadata": {},
     "output_type": "execute_result"
    },
    {
     "data": {
      "image/png": "[encoded data removed]",
      "text/plain": [
       "<Figure size 432x288 with 1 Axes>"
      ]
     },
     "metadata": {
      "needs_background": "light"
     },
     "output_type": "display_data"
    }
   ],
   "source": [
    "from skimage import io\n",
    "img1 = io.imread('../BilderDaten/BilderDaten/NIH3T3/img/dna-0.png')\n",
    "io.imshow(otsu_thresholding(img1))"
   ]
  },
  {
   "cell_type": "code",
   "execution_count": 106,
   "id": "9d898ab3",
   "metadata": {},
   "outputs": [],
   "source": [
    "#otsu vektorisiert\n",
    "import numpy as np\n",
    "\n",
    "def otsu_thresholding_vek(img1):\n",
    "    \n",
    "    #Kopie des Bildes machen und glätten\n",
    "    imgT = img1.copy()\n",
    "    rvl = img1.ravel()\n",
    "\n",
    "    #range und numerische Werte des Histogramms definieren\n",
    "    ran = round(max(rvl) - min(rvl))\n",
    "    counts, bins = np.histogram(rvl,bins = ran)\n",
    " \n",
    "    sum_back = np.cumsum(counts)[:-1]\n",
    "    sum_obj = sum(counts)-sum_back\n",
    "    mean_back = np.cumsum(bins[:-2]*counts[:-1])/sum_back\n",
    "    mean_obj = (sum(bins[:-2]*counts[:-1])-np.cumsum(bins[:-2]*counts[:-1]))/sum_obj\n",
    "    w0_list = sum_back/sum(counts)\n",
    "    w1_list = 1 - w0_list\n",
    "\n",
    "    #calculate background and foreground variance\n",
    "    var_back_list = list()\n",
    "    var_obj_list = list()\n",
    "    for i in range (0,len(mean_back)):\n",
    "        var_back = sum((counts[:i]*(bins[:i]-mean_back[i]))**2)/sum_back[i]\n",
    "        var_back_list.append(var_back)\n",
    "        var_obj = sum((counts[i:-1]*(bins[i:-2]-mean_obj[i]))**2)/sum_obj[i]\n",
    "        var_obj_list.append(var_obj)\n",
    "        \n",
    "    \n",
    "        \n",
    "    wcv_list = (w0_list * var_back_list) + (w1_list * var_obj_list)\n",
    "    minvar = min(wcv_list)\n",
    "    print(minvar)\n",
    "    for m in range(0,len(wcv_list)):\n",
    "        if wcv_list[m] == minvar: \n",
    "            THRESH = round(bins[m])\n",
    "    print(THRESH)\n",
    "    #intensitätswerte anpassen\n",
    "    for p in np.ndindex(imgT.shape):\n",
    "        if img1[p] < THRESH:\n",
    "            imgT[p] = 0\n",
    "        else:\n",
    "            imgT[p] = 255\n",
    "    return imgT"
   ]
  },
  {
   "cell_type": "code",
   "execution_count": 107,
   "id": "174bbc57",
   "metadata": {},
   "outputs": [
    {
     "name": "stdout",
     "output_type": "stream",
     "text": [
      "[ 3125942.08951788  3135502.3598892   3963870.04506062 11924021.32729745\n",
      " 10386117.59779157   829139.24431068   224565.31445917   167694.31037626\n",
      "   157141.96673297   157912.24859356   163057.78631088   172023.63524939\n",
      "   186470.64096182   210747.31960907   251310.45486661   316112.92030986\n",
      "   411024.34797961   542818.4645039    710157.04836788   904639.79629574\n",
      "  1108772.97772307  1312706.64851136  1502892.37740358  1672952.9441981\n",
      "  1823798.2479586   1958805.86153316  2081315.59032542  2193236.94609446\n",
      "  2297978.88657915  2392947.62455081  2477121.65566142  2554930.88697349\n",
      "  2622566.2084973   2683213.82179848  2733034.517664    2777143.27362226\n",
      "  2815996.93771151  2851220.90843387  2881481.65720784  2908734.1797041\n",
      "  2933154.15800435  2956705.97626621  2976397.4054689   2994326.00130471\n",
      "  3009356.42727387  3022747.36888821  3036336.29701293  3047400.78310504\n",
      "  3056637.45290626  3065416.04626541  3073830.37147573  3080845.9255494\n",
      "  3086925.6632648   3093325.1732596   3097967.75903292  3103609.74776148\n",
      "  3107921.32866266  3111574.16623053  3114472.21940089  3116933.79623803\n",
      "  3118511.18999199  3120189.77288607  3121230.92384341  3122214.55064733\n",
      "  3122753.74142373  3123771.92175825  3124329.9288996   3124816.01821954\n",
      "  3125227.77431266  3125478.84793708  3125648.88073552  3125907.92319264\n",
      "  3125907.92841992  3125907.92841992  3125998.26837304  3125998.26556547]\n",
      "157141.966732968\n",
      "26\n"
     ]
    },
    {
     "data": {
      "text/plain": [
       "<matplotlib.image.AxesImage at 0x12a0c1c40>"
      ]
     },
     "execution_count": 107,
     "metadata": {},
     "output_type": "execute_result"
    },
    {
     "data": {
      "image/png": "[encoded data removed]",
      "text/plain": [
       "<Figure size 432x288 with 1 Axes>"
      ]
     },
     "metadata": {
      "needs_background": "light"
     },
     "output_type": "display_data"
    }
   ],
   "source": [
    "from skimage import io\n",
    "img1 = io.imread('../BilderDaten/BilderDaten/NIH3T3/img/dna-0.png')\n",
    "io.imshow(otsu_thresholding_vek(img1))"
   ]
  },
  {
   "cell_type": "code",
   "execution_count": null,
   "id": "85381228",
   "metadata": {},
   "outputs": [],
   "source": []
  }
 ],
 "metadata": {
  "kernelspec": {
   "display_name": "Python 3 (ipykernel)",
   "language": "python",
   "name": "python3"
  },
  "language_info": {
   "codemirror_mode": {
    "name": "ipython",
    "version": 3
   },
   "file_extension": ".py",
   "mimetype": "text/x-python",
   "name": "python",
   "nbconvert_exporter": "python",
   "pygments_lexer": "ipython3",
   "version": "3.9.12"
  }
 },
 "nbformat": 4,
 "nbformat_minor": 5
}
