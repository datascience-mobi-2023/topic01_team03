{
 "cells": [
  {
   "cell_type": "code",
   "execution_count": 5,
   "id": "45415d82",
   "metadata": {},
   "outputs": [],
   "source": [
    "import numpy as np\n",
    "\n",
    "def local_thresholding(img, window_size):\n",
    "    half_window = window_size // 2\n",
    "    top_rows = img[:half_window, :][::-1, :]\n",
    "    bottom_rows = img[-half_window:, :][::-1, :]\n",
    "    #Matrix zusammenfügen\n",
    "    imgM = np.concatenate((top_rows, img, bottom_rows), axis=0)\n",
    "    \n",
    "    # Äußere Spalten spiegeln und erweitern\n",
    "    left_cols = imgM[:, :half_window][:, ::-1]\n",
    "    right_cols = imgM[:, -half_window:][:, ::-1]\n",
    "    imgM = np.concatenate((left_cols, imgM, right_cols), axis=1)\n",
    "    imgT = imgM.copy()\n",
    "    height, width = imgM.shape[:2]\n",
    "\n",
    "    for y in range(half_window, height - half_window):\n",
    "        for x in range(half_window, width - half_window):\n",
    "            window = imgM[y - half_window : y + half_window + 1, x - half_window : x + half_window + 1]\n",
    "             \n",
    "            rvl = window.ravel()\n",
    "            ran = round(max(rvl) - min(rvl))\n",
    "            counts, bins = np.histogram(rvl, bins=ran)\n",
    "            \n",
    " \n",
    "            variance_list = []\n",
    " \n",
    "            for T in range(1, len(counts)):\n",
    "                sum_back = 0 \n",
    "                mean_sum_back = 0\n",
    "                for i in range(0, T):\n",
    "                    sum_back += counts[i]\n",
    "                    mean_sum_back += counts[i] * bins[i]\n",
    " \n",
    "                w0 = sum_back / sum(counts)\n",
    "                mean_back = mean_sum_back / sum_back\n",
    " \n",
    "                sum_obj = 0\n",
    "                mean_sum_obj = 0\n",
    "                for j in range(T, len(counts)):\n",
    "                    sum_obj += counts[j]\n",
    "                    mean_sum_obj += counts[j] * bins[j]\n",
    " \n",
    "                w1 = sum_obj / sum(counts)\n",
    "                mean_obj = mean_sum_obj / sum_obj\n",
    " \n",
    "                var_sum_back = 0\n",
    "                for k in range(0, T):\n",
    "                    var_sum_back += counts[k] * (bins[k] - mean_back)**2 \n",
    " \n",
    "                var_back = var_sum_back / sum_back\n",
    " \n",
    "                var_sum_obj = 0\n",
    "                for l in range(T, len(counts)):\n",
    "                    var_sum_obj += counts[l] * (bins[l] - mean_obj)**2 \n",
    " \n",
    "                var_obj = var_sum_obj / sum_obj\n",
    " \n",
    "                within_class_varianz = w0 * var_back + w1 * var_obj\n",
    "                variance_list.append(within_class_varianz)\n",
    " \n",
    "            minvar = min(variance_list)\n",
    "            THRESH = round(bins[variance_list.index(minvar)])\n",
    " \n",
    "            if imgM[y, x] < THRESH:\n",
    "                imgT[y, x] = 0\n",
    "            else:\n",
    "                imgT[y, x] = 255\n",
    "\n",
    "    return imgT"
   ]
  },
  {
   "cell_type": "code",
   "execution_count": 16,
   "id": "2954c097",
   "metadata": {},
   "outputs": [],
   "source": [
    "#local thresholding Vektorisiert\n",
    "\n",
    "import numpy as np\n",
    "\n",
    "def local_thresholding_vek(img, window_size):\n",
    "    half_window = window_size // 2\n",
    "    top_rows = img[:half_window, :][::-1, :]\n",
    "    bottom_rows = img[-half_window:, :][::-1, :]\n",
    "    imgM = np.concatenate((top_rows, img, bottom_rows), axis=0)\n",
    "    \n",
    "    left_cols = imgM[:, :half_window][:, ::-1]\n",
    "    right_cols = imgM[:, -half_window:][:, ::-1]\n",
    "    imgM = np.concatenate((left_cols, imgM, right_cols), axis=1)\n",
    "    imgT = imgM.copy()\n",
    "    height, width = imgM.shape[:2]\n",
    "\n",
    "    for y in range(half_window, height - half_window):\n",
    "        for x in range(half_window, width - half_window):\n",
    "            window = imgM[y - half_window : y + half_window + 1, x - half_window : x + half_window + 1]\n",
    "             \n",
    "            rvl = window.ravel()\n",
    "            ran = round(max(rvl) - min(rvl))\n",
    "            counts, bins = np.histogram(rvl, bins=ran)\n",
    "            \n",
    "            cumulative_sum = np.cumsum(counts)\n",
    "            cumulative_mean = np.cumsum(bins[:-1] * counts) / cumulative_sum\n",
    "            \n",
    "            within_class_variance = (cumulative_mean[cumulative_sum - cumulative_sum[-1]] - cumulative_mean) ** 2 / cumulative_sum / (1 - cumulative_sum)\n",
    "            minvar = np.min(within_class_variance)\n",
    "            THRESH = round(bins[:-1][within_class_variance == minvar][0])\n",
    " \n",
    "            if imgM[y, x] < THRESH:\n",
    "                imgT[y, x] = 0\n",
    "            else:\n",
    "                imgT[y, x] = 255\n",
    "\n",
    "    return imgT\n"
   ]
  },
  {
   "cell_type": "code",
   "execution_count": 14,
   "id": "a1bc6b33",
   "metadata": {},
   "outputs": [
    {
     "data": {
      "text/plain": [
       "(77, 77)"
      ]
     },
     "execution_count": 14,
     "metadata": {},
     "output_type": "execute_result"
    }
   ],
   "source": [
    "from skimage import io\n",
    "img1 = io.imread('../BilderDaten/BilderDaten/NIH3T3/img/dna-0.png')\n",
    "rvl = img1.ravel()\n",
    "ran = round(max(rvl) - min(rvl))\n",
    "counts,bins = np.histogram(rvl, bins=ran)\n"
   ]
  },
  {
   "cell_type": "code",
   "execution_count": 18,
   "id": "f272c84d",
   "metadata": {},
   "outputs": [],
   "source": [
    "\n"
   ]
  },
  {
   "cell_type": "code",
   "execution_count": 3,
   "id": "6293aa00",
   "metadata": {},
   "outputs": [
    {
     "name": "stdout",
     "output_type": "stream",
     "text": [
      "[[1 2 3 1 2 3]\n",
      " [4 5 6 4 5 6]\n",
      " [7 8 9 7 8 9]]\n"
     ]
    }
   ],
   "source": [
    "#Versucherweiterung Matrix\n",
    "\n",
    "import numpy as np\n",
    "\n",
    "def spiegel_matrix(matrix):\n",
    "    rows, cols = matrix.shape\n",
    "\n",
    "    # Äußere Zeilen spiegeln und erweitern\n",
    "    top_rows = matrix[:3, :][::-1, :]\n",
    "    bottom_rows = matrix[-3:, :][::-1, :]\n",
    "    #Matrix zusammenfügen\n",
    "    matrix = np.concatenate((top_rows, matrix, bottom_rows), axis=0)\n",
    "    \n",
    "    print(top_rows)\n",
    "    print(bottom_rows)\n",
    "    \n",
    "\n",
    "    # Äußere Spalten spiegeln und erweitern\n",
    "    left_cols = matrix[:, :3][:, ::-1]\n",
    "    right_cols = matrix[:, -3:][:, ::-1]\n",
    "    matrix = np.concatenate((left_cols, matrix, right_cols), axis=1)\n",
    "\n",
    "    return matrix\n",
    "\n",
    "# Beispielmatrix\n",
    "matrix = np.array([[1, 2, 3],\n",
    "                   [4, 5, 6],\n",
    "                   [7, 8, 9]])\n",
    "\n",
    "# Matrix spiegeln und erweitern\n",
    "#neue_matrix = spiegel_matrix(matrix)\n",
    "\n",
    "print(neue_matrix)\n"
   ]
  }
 ],
 "metadata": {
  "kernelspec": {
   "display_name": "Python 3 (ipykernel)",
   "language": "python",
   "name": "python3"
  },
  "language_info": {
   "codemirror_mode": {
    "name": "ipython",
    "version": 3
   },
   "file_extension": ".py",
   "mimetype": "text/x-python",
   "name": "python",
   "nbconvert_exporter": "python",
   "pygments_lexer": "ipython3",
   "version": "3.9.12"
  }
 },
 "nbformat": 4,
 "nbformat_minor": 5
}
