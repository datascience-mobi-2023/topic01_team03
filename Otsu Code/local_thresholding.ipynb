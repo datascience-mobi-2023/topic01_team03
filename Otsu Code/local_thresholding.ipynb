{
 "cells": [
  {
   "cell_type": "code",
   "execution_count": 5,
   "id": "45415d82",
   "metadata": {},
   "outputs": [],
   "source": [
    "import numpy as np\n",
    "\n",
    "def local_thresholding(img, window_size):\n",
    "    half_window = window_size // 2\n",
    "    top_rows = img[:half_window, :][::-1, :]\n",
    "    bottom_rows = img[-half_window:, :][::-1, :]\n",
    "    #Matrix zusammenfügen\n",
    "    imgM = np.concatenate((top_rows, img, bottom_rows), axis=0)\n",
    "    \n",
    "    # Äußere Spalten spiegeln und erweitern\n",
    "    left_cols = imgM[:, :half_window][:, ::-1]\n",
    "    right_cols = imgM[:, -half_window:][:, ::-1]\n",
    "    imgM = np.concatenate((left_cols, imgM, right_cols), axis=1)\n",
    "    imgT = imgM.copy()\n",
    "    height, width = imgM.shape[:2]\n",
    "\n",
    "    for y in range(half_window, height - half_window):\n",
    "        for x in range(half_window, width - half_window):\n",
    "            window = imgM[y - half_window : y + half_window + 1, x - half_window : x + half_window + 1]\n",
    "             \n",
    "            rvl = window.ravel()\n",
    "            ran = round(max(rvl) - min(rvl))\n",
    "            counts, bins = np.histogram(rvl, bins=ran)\n",
    " \n",
    "            variance_list = []\n",
    " \n",
    "            for T in range(1, len(counts)):\n",
    "                sum_back = 0 \n",
    "                mean_sum_back = 0\n",
    "                for i in range(0, T):\n",
    "                    sum_back += counts[i]\n",
    "                    mean_sum_back += counts[i] * bins[i]\n",
    " \n",
    "                w0 = sum_back / sum(counts)\n",
    "                mean_back = mean_sum_back / sum_back\n",
    " \n",
    "                sum_obj = 0\n",
    "                mean_sum_obj = 0\n",
    "                for j in range(T, len(counts)):\n",
    "                    sum_obj += counts[j]\n",
    "                    mean_sum_obj += counts[j] * bins[j]\n",
    " \n",
    "                w1 = sum_obj / sum(counts)\n",
    "                mean_obj = mean_sum_obj / sum_obj\n",
    " \n",
    "                var_sum_back = 0\n",
    "                for k in range(0, T):\n",
    "                    var_sum_back += counts[k] * (bins[k] - mean_back)**2 \n",
    " \n",
    "                var_back = var_sum_back / sum_back\n",
    " \n",
    "                var_sum_obj = 0\n",
    "                for l in range(T, len(counts)):\n",
    "                    var_sum_obj += counts[l] * (bins[l] - mean_obj)**2 \n",
    " \n",
    "                var_obj = var_sum_obj / sum_obj\n",
    " \n",
    "                within_class_varianz = w0 * var_back + w1 * var_obj\n",
    "                variance_list.append(within_class_varianz)\n",
    " \n",
    "            minvar = min(variance_list)\n",
    "            THRESH = round(bins[variance_list.index(minvar)])\n",
    " \n",
    "            if imgM[y, x] < THRESH:\n",
    "                imgT[y, x] = 0\n",
    "            else:\n",
    "                imgT[y, x] = 255\n",
    "\n",
    "    return imgT"
   ]
  },
  {
   "cell_type": "code",
   "execution_count": 16,
   "id": "2954c097",
   "metadata": {},
   "outputs": [],
   "source": [
    "#local thresholding Vektorisiert\n",
    "\n",
    "import numpy as np\n",
    "\n",
    "def local_thresholding_vek(img, window_size):\n",
    "    half_window = window_size // 2\n",
    "    top_rows = img[:half_window, :][::-1, :]\n",
    "    bottom_rows = img[-half_window:, :][::-1, :]\n",
    "    imgM = np.concatenate((top_rows, img, bottom_rows), axis=0)\n",
    "    \n",
    "    left_cols = imgM[:, :half_window][:, ::-1]\n",
    "    right_cols = imgM[:, -half_window:][:, ::-1]\n",
    "    imgM = np.concatenate((left_cols, imgM, right_cols), axis=1)\n",
    "    imgT = imgM.copy()\n",
    "    height, width = imgM.shape[:2]\n",
    "\n",
    "    for y in range(half_window, height - half_window):\n",
    "        for x in range(half_window, width - half_window):\n",
    "            window = imgM[y - half_window : y + half_window + 1, x - half_window : x + half_window + 1]\n",
    "             \n",
    "            rvl = window.ravel()\n",
    "            ran = round(max(rvl) - min(rvl))\n",
    "            counts, bins = np.histogram(rvl, bins=ran)\n",
    "            \n",
    "            cumulative_sum = np.cumsum(counts)\n",
    "            cumulative_mean = np.cumsum(bins[:-1] * counts) / cumulative_sum\n",
    "            \n",
    "            within_class_variance = (cumulative_mean[cumulative_sum - cumulative_sum[-1]] - cumulative_mean) ** 2 / cumulative_sum / (1 - cumulative_sum)\n",
    "            minvar = np.min(within_class_variance)\n",
    "            THRESH = round(bins[:-1][within_class_variance == minvar][0])\n",
    " \n",
    "            if imgM[y, x] < THRESH:\n",
    "                imgT[y, x] = 0\n",
    "            else:\n",
    "                imgT[y, x] = 255\n",
    "\n",
    "    return imgT\n"
   ]
  },
  {
   "cell_type": "code",
   "execution_count": 17,
   "id": "a9207d14",
   "metadata": {},
   "outputs": [
    {
     "name": "stdout",
     "output_type": "stream",
     "text": [
      "(1024, 1344)\n"
     ]
    },
    {
     "ename": "IndexError",
     "evalue": "index -10189 is out of bounds for axis 0 with size 4",
     "output_type": "error",
     "traceback": [
      "\u001b[0;31m---------------------------------------------------------------------------\u001b[0m",
      "\u001b[0;31mIndexError\u001b[0m                                Traceback (most recent call last)",
      "\u001b[1;32m/Users/anna-lena/compmeth2022/topic01_team03 /Otsu Code/local_thresholding.ipynb Zelle 3\u001b[0m in \u001b[0;36m<cell line: 5>\u001b[0;34m()\u001b[0m\n\u001b[1;32m      <a href='vscode-notebook-cell:/Users/anna-lena/compmeth2022/topic01_team03%20/Otsu%20Code/local_thresholding.ipynb#W3sZmlsZQ%3D%3D?line=2'>3</a>\u001b[0m img1 \u001b[39m=\u001b[39m io\u001b[39m.\u001b[39mimread(\u001b[39m'\u001b[39m\u001b[39m../BilderDaten/BilderDaten/NIH3T3/img/dna-1.png\u001b[39m\u001b[39m'\u001b[39m)\n\u001b[1;32m      <a href='vscode-notebook-cell:/Users/anna-lena/compmeth2022/topic01_team03%20/Otsu%20Code/local_thresholding.ipynb#W3sZmlsZQ%3D%3D?line=3'>4</a>\u001b[0m \u001b[39mprint\u001b[39m(img1\u001b[39m.\u001b[39mshape)\n\u001b[0;32m----> <a href='vscode-notebook-cell:/Users/anna-lena/compmeth2022/topic01_team03%20/Otsu%20Code/local_thresholding.ipynb#W3sZmlsZQ%3D%3D?line=4'>5</a>\u001b[0m io\u001b[39m.\u001b[39mimshow(local_thresholding_vek(io\u001b[39m.\u001b[39;49mimread(\u001b[39m'\u001b[39;49m\u001b[39m../BilderDaten/BilderDaten/NIH3T3/img/dna-1.png\u001b[39;49m\u001b[39m'\u001b[39;49m),window_size\u001b[39m=\u001b[39;49m\u001b[39m100\u001b[39;49m))\n",
      "\u001b[1;32m/Users/anna-lena/compmeth2022/topic01_team03 /Otsu Code/local_thresholding.ipynb Zelle 3\u001b[0m in \u001b[0;36mlocal_thresholding_vek\u001b[0;34m(img, window_size)\u001b[0m\n\u001b[1;32m     <a href='vscode-notebook-cell:/Users/anna-lena/compmeth2022/topic01_team03%20/Otsu%20Code/local_thresholding.ipynb#W3sZmlsZQ%3D%3D?line=24'>25</a>\u001b[0m cumulative_sum \u001b[39m=\u001b[39m np\u001b[39m.\u001b[39mcumsum(counts)\n\u001b[1;32m     <a href='vscode-notebook-cell:/Users/anna-lena/compmeth2022/topic01_team03%20/Otsu%20Code/local_thresholding.ipynb#W3sZmlsZQ%3D%3D?line=25'>26</a>\u001b[0m cumulative_mean \u001b[39m=\u001b[39m np\u001b[39m.\u001b[39mcumsum(bins[:\u001b[39m-\u001b[39m\u001b[39m1\u001b[39m] \u001b[39m*\u001b[39m counts) \u001b[39m/\u001b[39m cumulative_sum\n\u001b[0;32m---> <a href='vscode-notebook-cell:/Users/anna-lena/compmeth2022/topic01_team03%20/Otsu%20Code/local_thresholding.ipynb#W3sZmlsZQ%3D%3D?line=27'>28</a>\u001b[0m within_class_variance \u001b[39m=\u001b[39m (cumulative_mean[cumulative_sum \u001b[39m-\u001b[39;49m cumulative_sum[\u001b[39m-\u001b[39;49m\u001b[39m1\u001b[39;49m]] \u001b[39m-\u001b[39m cumulative_mean) \u001b[39m*\u001b[39m\u001b[39m*\u001b[39m \u001b[39m2\u001b[39m \u001b[39m/\u001b[39m cumulative_sum \u001b[39m/\u001b[39m (\u001b[39m1\u001b[39m \u001b[39m-\u001b[39m cumulative_sum)\n\u001b[1;32m     <a href='vscode-notebook-cell:/Users/anna-lena/compmeth2022/topic01_team03%20/Otsu%20Code/local_thresholding.ipynb#W3sZmlsZQ%3D%3D?line=28'>29</a>\u001b[0m minvar \u001b[39m=\u001b[39m np\u001b[39m.\u001b[39mmin(within_class_variance)\n\u001b[1;32m     <a href='vscode-notebook-cell:/Users/anna-lena/compmeth2022/topic01_team03%20/Otsu%20Code/local_thresholding.ipynb#W3sZmlsZQ%3D%3D?line=29'>30</a>\u001b[0m THRESH \u001b[39m=\u001b[39m \u001b[39mround\u001b[39m(bins[:\u001b[39m-\u001b[39m\u001b[39m1\u001b[39m][within_class_variance \u001b[39m==\u001b[39m minvar][\u001b[39m0\u001b[39m])\n",
      "\u001b[0;31mIndexError\u001b[0m: index -10189 is out of bounds for axis 0 with size 4"
     ]
    }
   ],
   "source": [
    "#Anwendung auf  3 Datensatz\n",
    "from skimage import io\n",
    "img1 = io.imread('../BilderDaten/BilderDaten/NIH3T3/img/dna-1.png')\n",
    "print(img1.shape)\n",
    "io.imshow(local_thresholding_vek(io.imread('../BilderDaten/BilderDaten/NIH3T3/img/dna-1.png'),window_size=100))"
   ]
  },
  {
   "cell_type": "code",
   "execution_count": 13,
   "id": "a1bc6b33",
   "metadata": {},
   "outputs": [],
   "source": [
    "#Versuch schneller local\n",
    "import numpy as np\n",
    "\n",
    "def local_thresholding_vek2(img, window_size):\n",
    "    imgT=img.copy()\n",
    "    half_window = window_size // 2\n",
    "  \n",
    "    height, width = img.shape[:2]\n",
    "\n",
    "    for y in range(half_window, height - half_window):\n",
    "        for x in range(half_window, width - half_window):\n",
    "            window = img[y - half_window : y + half_window + 1, x - half_window : x + half_window + 1]\n",
    "             \n",
    "            rvl = window.ravel()\n",
    "            ran = round(max(rvl) - min(rvl))\n",
    "            counts, bins = np.histogram(rvl, bins=ran)\n",
    "            \n",
    "            cumulative_sum = np.cumsum(counts)\n",
    "            cumulative_mean = np.cumsum(bins[:-1] * counts) / cumulative_sum\n",
    "            \n",
    "            within_class_variance = (cumulative_mean[cumulative_sum - cumulative_sum[-1]] - cumulative_mean) ** 2 / cumulative_sum / (1 - cumulative_sum)\n",
    "            minvar = np.min(within_class_variance)\n",
    "            THRESH = round(bins[:-1][within_class_variance == minvar][0])\n",
    " \n",
    "            if img[y, x] < THRESH:\n",
    "                imgT[y, x] = 0\n",
    "            else:\n",
    "                imgT[y, x] = 255\n",
    "\n",
    "    return imgT"
   ]
  },
  {
   "cell_type": "code",
   "execution_count": 14,
   "id": "35a488f8",
   "metadata": {},
   "outputs": [
    {
     "ename": "IndexError",
     "evalue": "index -10178 is out of bounds for axis 0 with size 4",
     "output_type": "error",
     "traceback": [
      "\u001b[0;31m---------------------------------------------------------------------------\u001b[0m",
      "\u001b[0;31mIndexError\u001b[0m                                Traceback (most recent call last)",
      "\u001b[1;32m/Users/anna-lena/compmeth2022/topic01_team03 /Otsu Code/local_thresholding.ipynb Zelle 5\u001b[0m in \u001b[0;36m<cell line: 3>\u001b[0;34m()\u001b[0m\n\u001b[1;32m      <a href='vscode-notebook-cell:/Users/anna-lena/compmeth2022/topic01_team03%20/Otsu%20Code/local_thresholding.ipynb#W5sZmlsZQ%3D%3D?line=0'>1</a>\u001b[0m \u001b[39m#Anwendung auf  3 Datensatz\u001b[39;00m\n\u001b[1;32m      <a href='vscode-notebook-cell:/Users/anna-lena/compmeth2022/topic01_team03%20/Otsu%20Code/local_thresholding.ipynb#W5sZmlsZQ%3D%3D?line=1'>2</a>\u001b[0m \u001b[39mfrom\u001b[39;00m \u001b[39mskimage\u001b[39;00m \u001b[39mimport\u001b[39;00m io\n\u001b[0;32m----> <a href='vscode-notebook-cell:/Users/anna-lena/compmeth2022/topic01_team03%20/Otsu%20Code/local_thresholding.ipynb#W5sZmlsZQ%3D%3D?line=2'>3</a>\u001b[0m io\u001b[39m.\u001b[39mimshow(local_thresholding_vek2(io\u001b[39m.\u001b[39;49mimread(\u001b[39m'\u001b[39;49m\u001b[39m../BilderDaten/BilderDaten/NIH3T3/img/dna-1.png\u001b[39;49m\u001b[39m'\u001b[39;49m),window_size\u001b[39m=\u001b[39;49m\u001b[39m100\u001b[39;49m))\n",
      "\u001b[1;32m/Users/anna-lena/compmeth2022/topic01_team03 /Otsu Code/local_thresholding.ipynb Zelle 5\u001b[0m in \u001b[0;36mlocal_thresholding_vek2\u001b[0;34m(img, window_size)\u001b[0m\n\u001b[1;32m     <a href='vscode-notebook-cell:/Users/anna-lena/compmeth2022/topic01_team03%20/Otsu%20Code/local_thresholding.ipynb#W5sZmlsZQ%3D%3D?line=17'>18</a>\u001b[0m cumulative_sum \u001b[39m=\u001b[39m np\u001b[39m.\u001b[39mcumsum(counts)\n\u001b[1;32m     <a href='vscode-notebook-cell:/Users/anna-lena/compmeth2022/topic01_team03%20/Otsu%20Code/local_thresholding.ipynb#W5sZmlsZQ%3D%3D?line=18'>19</a>\u001b[0m cumulative_mean \u001b[39m=\u001b[39m np\u001b[39m.\u001b[39mcumsum(bins[:\u001b[39m-\u001b[39m\u001b[39m1\u001b[39m] \u001b[39m*\u001b[39m counts) \u001b[39m/\u001b[39m cumulative_sum\n\u001b[0;32m---> <a href='vscode-notebook-cell:/Users/anna-lena/compmeth2022/topic01_team03%20/Otsu%20Code/local_thresholding.ipynb#W5sZmlsZQ%3D%3D?line=20'>21</a>\u001b[0m within_class_variance \u001b[39m=\u001b[39m (cumulative_mean[cumulative_sum \u001b[39m-\u001b[39;49m cumulative_sum[\u001b[39m-\u001b[39;49m\u001b[39m1\u001b[39;49m]] \u001b[39m-\u001b[39m cumulative_mean) \u001b[39m*\u001b[39m\u001b[39m*\u001b[39m \u001b[39m2\u001b[39m \u001b[39m/\u001b[39m cumulative_sum \u001b[39m/\u001b[39m (\u001b[39m1\u001b[39m \u001b[39m-\u001b[39m cumulative_sum)\n\u001b[1;32m     <a href='vscode-notebook-cell:/Users/anna-lena/compmeth2022/topic01_team03%20/Otsu%20Code/local_thresholding.ipynb#W5sZmlsZQ%3D%3D?line=21'>22</a>\u001b[0m minvar \u001b[39m=\u001b[39m np\u001b[39m.\u001b[39mmin(within_class_variance)\n\u001b[1;32m     <a href='vscode-notebook-cell:/Users/anna-lena/compmeth2022/topic01_team03%20/Otsu%20Code/local_thresholding.ipynb#W5sZmlsZQ%3D%3D?line=22'>23</a>\u001b[0m THRESH \u001b[39m=\u001b[39m \u001b[39mround\u001b[39m(bins[:\u001b[39m-\u001b[39m\u001b[39m1\u001b[39m][within_class_variance \u001b[39m==\u001b[39m minvar][\u001b[39m0\u001b[39m])\n",
      "\u001b[0;31mIndexError\u001b[0m: index -10178 is out of bounds for axis 0 with size 4"
     ]
    }
   ],
   "source": [
    "#Anwendung auf  3 Datensatz\n",
    "from skimage import io\n",
    "io.imshow(local_thresholding_vek2(io.imread('../BilderDaten/BilderDaten/NIH3T3/img/dna-1.png'),window_size=100))"
   ]
  },
  {
   "cell_type": "code",
   "execution_count": null,
   "id": "2dfadaef",
   "metadata": {},
   "outputs": [],
   "source": []
  },
  {
   "cell_type": "code",
   "execution_count": 3,
   "id": "6293aa00",
   "metadata": {},
   "outputs": [
    {
     "name": "stdout",
     "output_type": "stream",
     "text": [
      "[[1 2 3 1 2 3]\n",
      " [4 5 6 4 5 6]\n",
      " [7 8 9 7 8 9]]\n"
     ]
    }
   ],
   "source": [
    "#Versucherweiterung Matrix\n",
    "\n",
    "import numpy as np\n",
    "\n",
    "def spiegel_matrix(matrix):\n",
    "    rows, cols = matrix.shape\n",
    "\n",
    "    # Äußere Zeilen spiegeln und erweitern\n",
    "    top_rows = matrix[:3, :][::-1, :]\n",
    "    bottom_rows = matrix[-3:, :][::-1, :]\n",
    "    #Matrix zusammenfügen\n",
    "    matrix = np.concatenate((top_rows, matrix, bottom_rows), axis=0)\n",
    "    \n",
    "    print(top_rows)\n",
    "    print(bottom_rows)\n",
    "    \n",
    "\n",
    "    # Äußere Spalten spiegeln und erweitern\n",
    "    left_cols = matrix[:, :3][:, ::-1]\n",
    "    right_cols = matrix[:, -3:][:, ::-1]\n",
    "    matrix = np.concatenate((left_cols, matrix, right_cols), axis=1)\n",
    "\n",
    "    return matrix\n",
    "\n",
    "# Beispielmatrix\n",
    "matrix = np.array([[1, 2, 3],\n",
    "                   [4, 5, 6],\n",
    "                   [7, 8, 9]])\n",
    "\n",
    "# Matrix spiegeln und erweitern\n",
    "#neue_matrix = spiegel_matrix(matrix)\n",
    "\n",
    "print(neue_matrix)\n"
   ]
  }
 ],
 "metadata": {
  "kernelspec": {
   "display_name": "Python 3 (ipykernel)",
   "language": "python",
   "name": "python3"
  },
  "language_info": {
   "codemirror_mode": {
    "name": "ipython",
    "version": 3
   },
   "file_extension": ".py",
   "mimetype": "text/x-python",
   "name": "python",
   "nbconvert_exporter": "python",
   "pygments_lexer": "ipython3",
   "version": "3.9.12"
  }
 },
 "nbformat": 4,
 "nbformat_minor": 5
}
