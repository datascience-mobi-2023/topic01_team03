{
 "cells": [
  {
   "cell_type": "code",
   "execution_count": 1,
   "metadata": {},
   "outputs": [],
   "source": [
    "# Import of the Modules\n",
    "\n",
    "from skimage import io\n",
    "from skimage.color import rgb2gray\n",
    "from matplotlib import pyplot as plt\n",
    "from skimage.filters import threshold_otsu\n",
    "import numpy as np\n",
    "import pathlib as pl\n",
    "import json\n",
    "import warnings\n",
    "import matplotlib as mpl\n",
    "mpl.rcParams['figure.dpi'] = 120\n",
    "warnings.filterwarnings('ignore')"
   ]
  },
  {
   "cell_type": "code",
   "execution_count": 8,
   "metadata": {},
   "outputs": [
    {
     "data": {
      "text/plain": [
       "(array([604848,      0, 281368,      0,      0,  83218,      0,  24324,\n",
       "             0,      0,  10572,      0,      0,   6865,      0,   5571,\n",
       "             0,      0,   4629,      0,   3930,      0,      0,   3495,\n",
       "             0,      0,   3048,      0,   2722,      0,      0,   2542,\n",
       "             0,      0,   2172,      0,   1929,      1,      0,   1509,\n",
       "             0,   1307,      0,      0,   1034,      0,      0,    862,\n",
       "             0,    656,      0,      0,    521,      0,      0,    352,\n",
       "             0,    289,      0,      0,    208,      0,    136,      0,\n",
       "             0,    103,      0,      0,     60,      0,     58,      0,\n",
       "             0,     45,      0,      0,     35,      0,     27,      0,\n",
       "             0,     28,      0,     26,      0,      0,     16,      0,\n",
       "             0,      7,      0,     10,      0,      0,     10,      0,\n",
       "             0,      8,      0,     13,      0,      0,      4,      0,\n",
       "             5,      0,      0,      2,      0,      0,      4,      0,\n",
       "             0,      0,      0,      2,      0,      0,      2,      0,\n",
       "             0,      0,      0,      0,      0,      0,      0,      0,\n",
       "             0,      0,      0,      1,      0,      0,      0,      0,\n",
       "             0,      0,      0,      0,      2]),\n",
       " array([  0.,   1.,   2.,   3.,   4.,   5.,   6.,   7.,   8.,   9.,  10.,\n",
       "         11.,  12.,  13.,  14.,  15.,  16.,  17.,  18.,  19.,  20.,  21.,\n",
       "         22.,  23.,  24.,  25.,  26.,  27.,  28.,  29.,  30.,  31.,  32.,\n",
       "         33.,  34.,  35.,  36.,  37.,  38.,  39.,  40.,  41.,  42.,  43.,\n",
       "         44.,  45.,  46.,  47.,  48.,  49.,  50.,  51.,  52.,  53.,  54.,\n",
       "         55.,  56.,  57.,  58.,  59.,  60.,  61.,  62.,  63.,  64.,  65.,\n",
       "         66.,  67.,  68.,  69.,  70.,  71.,  72.,  73.,  74.,  75.,  76.,\n",
       "         77.,  78.,  79.,  80.,  81.,  82.,  83.,  84.,  85.,  86.,  87.,\n",
       "         88.,  89.,  90.,  91.,  92.,  93.,  94.,  95.,  96.,  97.,  98.,\n",
       "         99., 100., 101., 102., 103., 104., 105., 106., 107., 108., 109.,\n",
       "        110., 111., 112., 113., 114., 115., 116., 117., 118., 119., 120.,\n",
       "        121., 122., 123., 124., 125., 126., 127., 128., 129., 130., 131.,\n",
       "        132., 133., 134., 135., 136., 137., 138., 139., 140., 141.]))"
      ]
     },
     "execution_count": 8,
     "metadata": {},
     "output_type": "execute_result"
    }
   ],
   "source": [
    "img1 = io.imread('BioInfo_Projekt/t01.tif')\n",
    "rvl = img1.ravel()\n",
    "ran = round(max(rvl) - min(rvl))\n",
    "np.histogram(rvl,bins = ran)"
   ]
  }
 ],
 "metadata": {
  "kernelspec": {
   "display_name": "compmeth2022",
   "language": "python",
   "name": "python3"
  },
  "language_info": {
   "codemirror_mode": {
    "name": "ipython",
    "version": 3
   },
   "file_extension": ".py",
   "mimetype": "text/x-python",
   "name": "python",
   "nbconvert_exporter": "python",
   "pygments_lexer": "ipython3",
   "version": "3.9.12"
  },
  "orig_nbformat": 4
 },
 "nbformat": 4,
 "nbformat_minor": 2
}
