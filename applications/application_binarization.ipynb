{
 "cells": [
  {
   "cell_type": "code",
   "execution_count": 1,
   "id": "8e0fd194",
   "metadata": {},
   "outputs": [],
   "source": [
    "from skimage import io \n",
    "import os \n",
    "from matplotlib import pyplot as plt\n",
    "import numpy as np\n",
    "import matplotlib as mpl\n"
   ]
  },
  {
   "cell_type": "code",
   "execution_count": null,
   "id": "b8be2306",
   "metadata": {},
   "outputs": [],
   "source": [
    "#Probleme mit den gt Bildern bei Datensatz 1 und 2 (weil tif Dateien)\n",
    "# Versuch diese zu ändern -> Werte auf 0 und 255 setzen \n",
    "\n",
    "def binarize(x):\n",
    "    img = x.copy()\n",
    "\n",
    "    for p in np.ndindex(img.shape):\n",
    "        if img[p] > 0: \n",
    "           img[p] = 65535\n",
    "        else:\n",
    "            img[p] = 0\n",
    "    \n",
    "    return img\n",
    "\n",
    "#Anwenden auf Datensatz 1 beispiel \n",
    "\n",
    "gt1 = binarize(io.imread('../BilderDaten/BilderDaten/N2DH-GOWT1/gt/man_seg01.tif'))\n",
    "\n",
    "plt.hist(gt1)\n",
    "plt.show()\n"
   ]
  },
  {
   "cell_type": "code",
   "execution_count": null,
   "id": "7e881469",
   "metadata": {},
   "outputs": [],
   "source": [
    "# set gt pictures N2DH-GOWT1 to 0 und 255\n",
    "\n",
    "apply(binarize,'../BilderDaten/BilderDaten/N2DH-GOWT1/gt/','../BilderDaten/BilderDaten/N2DH-GOWT1/gt_binarized/')\n",
    "\n",
    "# set gt pictures N2DL-HeLa to 0 und 255  \n",
    "\n",
    "apply(binarize, '../BilderDaten/BilderDaten/N2DL-HeLa/gt/','../BilderDaten/BilderDaten/N2DL-HeLa/gt_binarized/')\n"
   ]
  }
 ],
 "metadata": {
  "kernelspec": {
   "display_name": "Python 3 (ipykernel)",
   "language": "python",
   "name": "python3"
  },
  "language_info": {
   "codemirror_mode": {
    "name": "ipython",
    "version": 3
   },
   "file_extension": ".py",
   "mimetype": "text/x-python",
   "name": "python",
   "nbconvert_exporter": "python",
   "pygments_lexer": "ipython3",
   "version": "3.9.12"
  }
 },
 "nbformat": 4,
 "nbformat_minor": 5
}
