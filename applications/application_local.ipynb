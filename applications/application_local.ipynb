{
 "cells": [
  {
   "cell_type": "code",
   "execution_count": 2,
   "metadata": {},
   "outputs": [],
   "source": [
    "import numpy as np\n",
    "import os\n",
    "from skimage import io\n",
    "\n"
   ]
  },
  {
   "cell_type": "code",
   "execution_count": 3,
   "metadata": {},
   "outputs": [],
   "source": [
    "#apply local thresholding\n",
    "\n",
    "#N2DH-GOWT1\n",
    "applylocal2('../BilderDaten/BilderDaten/N2DH-GOWT1/img/','../Ergebnisse/local_thresholding/N2DH-GOWT1/',S =401)\n",
    "\n",
    "#N2DL-HeLa\n",
    "applylocal2('../BilderDaten/BilderDaten/N2DL-HeLa/img/','../Ergebnisse/local_thresholding/N2DL-HeLa/',S =401)\n",
    "\n",
    "#NIH3T3\n",
    "applylocal('../BilderDaten/BilderDaten/NIH3T3/img/','../Ergebnisse/local_thresholding/NIH3T3/',S =401)\n"
   ]
  }
 ],
 "metadata": {
  "kernelspec": {
   "display_name": "compmeth2022",
   "language": "python",
   "name": "python3"
  },
  "language_info": {
   "codemirror_mode": {
    "name": "ipython",
    "version": 3
   },
   "file_extension": ".py",
   "mimetype": "text/x-python",
   "name": "python",
   "nbconvert_exporter": "python",
   "pygments_lexer": "ipython3",
   "version": "3.9.12"
  },
  "orig_nbformat": 4
 },
 "nbformat": 4,
 "nbformat_minor": 2
}
