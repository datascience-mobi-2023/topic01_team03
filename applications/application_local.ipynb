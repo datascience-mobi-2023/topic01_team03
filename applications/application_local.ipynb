{
 "cells": [
  {
   "cell_type": "code",
   "execution_count": 2,
   "metadata": {},
   "outputs": [],
   "source": [
    "import sys\n",
    "sys.path.append(\"../Functions\")\n",
    "from application import applylocal \n",
    "from application import applylocal2\n",
    "from local_thresholding_vectorized import local_thresholding_vek2\n",
    "from local_thresholding_vectorized import local_thresholding_vek"
   ]
  },
  {
   "cell_type": "code",
   "execution_count": 3,
   "metadata": {},
   "outputs": [],
   "source": [
    "#apply local thresholding\n",
    "\n",
    "#N2DH-GOWT1            \n",
    "applylocal2('../Data/Data/N2DH-GOWT1/img/','../Results/local_thresholding/N2DH-GOWT1/',S =401)\n",
    "\n",
    "#N2DL-HeLa\n",
    "applylocal2('../Data/Data/N2DL-HeLa/img/','../Results/local_thresholding/N2DL-HeLa/',S =401)\n",
    "\n",
    "#NIH3T3\n",
    "applylocal('../Data/Data/NIH3T3/img/','../Results/local_thresholding/NIH3T3/',S =401)\n"
   ]
  },
  {
   "cell_type": "code",
   "execution_count": 4,
   "metadata": {},
   "outputs": [],
   "source": [
    "#N2DL-HeLa\n",
    "applylocal2('../Data/Data/N2DL-HeLa/img/','../Results/local_thresholding/N2DL-HeLa/',S =401)\n"
   ]
  }
 ],
 "metadata": {
  "kernelspec": {
   "display_name": "compmeth2022",
   "language": "python",
   "name": "python3"
  },
  "language_info": {
   "codemirror_mode": {
    "name": "ipython",
    "version": 3
   },
   "file_extension": ".py",
   "mimetype": "text/x-python",
   "name": "python",
   "nbconvert_exporter": "python",
   "pygments_lexer": "ipython3",
   "version": "3.9.12"
  },
  "orig_nbformat": 4
 },
 "nbformat": 4,
 "nbformat_minor": 2
}
