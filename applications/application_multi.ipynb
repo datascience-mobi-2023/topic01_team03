{
 "cells": [
  {
   "cell_type": "code",
   "execution_count": 2,
   "metadata": {},
   "outputs": [],
   "source": [
    "import numpy as np\n",
    "import os\n",
    "from skimage import io\n",
    "\n",
    "\n",
    "\n"
   ]
  },
  {
   "cell_type": "code",
   "execution_count": 4,
   "metadata": {},
   "outputs": [],
   "source": [
    "#apply multi\n",
    "\n",
    "#M2DH-GOWT1\n",
    "apply(multi_otsu_thresholding2,'../BilderDaten/BilderDaten/N2DH-GOWT1/img/','../Ergebnisse/twolevel_otsu/N2DH-GOWT1/')\n",
    "\n",
    "#N2DL-HeLa\n",
    "apply(multi_otsu_thresholding2,'../BilderDaten/BilderDaten/N2DL-HeLa/img/','../Ergebnisse/twolevel_otsu/N2DL-HeLa/')\n",
    "\n",
    "#NIH3T3\n",
    "apply(multi_otsu_thresholding1,'../BilderDaten/BilderDaten/NIH3T3/img/','../Ergebnisse/twolevel_otsu/NIH3T3/')"
   ]
  }
 ],
 "metadata": {
  "kernelspec": {
   "display_name": "compmeth2022",
   "language": "python",
   "name": "python3"
  },
  "language_info": {
   "codemirror_mode": {
    "name": "ipython",
    "version": 3
   },
   "file_extension": ".py",
   "mimetype": "text/x-python",
   "name": "python",
   "nbconvert_exporter": "python",
   "pygments_lexer": "ipython3",
   "version": "3.9.12"
  },
  "orig_nbformat": 4
 },
 "nbformat": 4,
 "nbformat_minor": 2
}
